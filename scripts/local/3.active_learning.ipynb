{
 "cells": [
  {
   "cell_type": "code",
   "execution_count": null,
   "id": "0fc12c17",
   "metadata": {},
   "outputs": [],
   "source": [
    "# April 2025\n",
    "# Active learning for text classification of English data using Small-Text \n",
    "# Violeta Berdejo-Espinola"
   ]
  },
  {
   "cell_type": "code",
   "execution_count": null,
   "id": "a4f1932a",
   "metadata": {},
   "outputs": [],
   "source": [
    "# %pip install small_text, datasets \n",
    "# %pip install small-text[transformers]==2.0.0dev2, \n",
    "\n",
    "\n",
    "import torch\n",
    "import numpy as np\n",
    "\n",
    "seed = 42\n",
    "torch.manual_seed(seed)\n",
    "np.random.seed(seed)\n",
    "\n",
    "%env TOKENIZERS_PARALLELISM=false\n",
    "\n",
    "from matplotlib import rcParams\n",
    "rcParams.update({'xtick.labelsize': 14, 'ytick.labelsize': 14, 'axes.labelsize': 16})"
   ]
  },
  {
   "cell_type": "markdown",
   "id": "733b713b",
   "metadata": {},
   "source": [
    "# read data"
   ]
  },
  {
   "cell_type": "code",
   "execution_count": 39,
   "id": "35932df4",
   "metadata": {},
   "outputs": [
    {
     "data": {
      "text/plain": [
       "(4582, 829, 378165, 5392)"
      ]
     },
     "execution_count": 39,
     "metadata": {},
     "output_type": "execute_result"
    }
   ],
   "source": [
    "import polars as pl\n",
    "\n",
    "pos = pl.read_csv('../data/outputs_pre-processing/pos_metadta.csv')\n",
    "pos_matched = pl.read_parquet('../data/outputs_similarity_matches/pos_matches.parquet')\n",
    "pos_unmatched = pl.read_parquet('../data/outputs_similarity_matches/pos_unmatched.parquet')\n",
    "repo = pl.read_csv('../data/outputs_pre-processing/repo_metadata.csv')\n",
    "\n",
    "len(pos_matched), len(pos_unmatched), len(repo), len(pos)"
   ]
  },
  {
   "cell_type": "code",
   "execution_count": null,
   "id": "468b1a00",
   "metadata": {},
   "outputs": [],
   "source": [
    "pos_matched"
   ]
  },
  {
   "cell_type": "code",
   "execution_count": null,
   "id": "a7573366",
   "metadata": {},
   "outputs": [
    {
     "data": {
      "text/html": [
       "<div><style>\n",
       ".dataframe > thead > tr,\n",
       ".dataframe > tbody > tr {\n",
       "  text-align: right;\n",
       "  white-space: pre-wrap;\n",
       "}\n",
       "</style>\n",
       "<small>shape: (5_392,)</small><table border=\"1\" class=\"dataframe\"><thead><tr><th>journal</th></tr><tr><td>bool</td></tr></thead><tbody><tr><td>false</td></tr><tr><td>false</td></tr><tr><td>false</td></tr><tr><td>false</td></tr><tr><td>false</td></tr><tr><td>&hellip;</td></tr><tr><td>false</td></tr><tr><td>false</td></tr><tr><td>false</td></tr><tr><td>false</td></tr><tr><td>false</td></tr></tbody></table></div>"
      ],
      "text/plain": [
       "shape: (5_392,)\n",
       "Series: 'journal' [bool]\n",
       "[\n",
       "\tfalse\n",
       "\tfalse\n",
       "\tfalse\n",
       "\tfalse\n",
       "\tfalse\n",
       "\t…\n",
       "\tfalse\n",
       "\tfalse\n",
       "\tfalse\n",
       "\tfalse\n",
       "\tfalse\n",
       "]"
      ]
     },
     "execution_count": 41,
     "metadata": {},
     "output_type": "execute_result"
    }
   ],
   "source": [
    "pos.with_columns(\n",
    "    pl.col(['journal'] == \"Biodiversity and Conservation\")"
   ]
  },
  {
   "cell_type": "code",
   "execution_count": 35,
   "id": "678ed5c1",
   "metadata": {},
   "outputs": [
    {
     "data": {
      "text/plain": [
       "5411"
      ]
     },
     "execution_count": 35,
     "metadata": {},
     "output_type": "execute_result"
    }
   ],
   "source": [
    "4582 + 829 # --> positives"
   ]
  },
  {
   "cell_type": "code",
   "execution_count": 28,
   "id": "165da671",
   "metadata": {},
   "outputs": [
    {
     "name": "stdout",
     "output_type": "stream",
     "text": [
      "4582\n",
      "4582\n",
      "378227\n",
      "378240\n"
     ]
    }
   ],
   "source": [
    "# add label to pos_match\n",
    "\n",
    "pos_matched = pos_matched.with_columns(\n",
    "    pl.lit(1).alias('label')\n",
    ")\n",
    "print(len(pos_matched))\n",
    "# subset pos matches tiltes\n",
    "\n",
    "pos_matched_title =  pos_matched.select(\n",
    "    pl.col(['name_in_repo','label'])\n",
    ")\n",
    "print(len(pos_matched_title))\n",
    "print(len(repo))\n",
    "# merge pos_matched and repo\n",
    "\n",
    "repo_full = repo.join(pos_matched_title, how='left', left_on='title', right_on='name_in_repo')\n",
    "print(len(repo_full))"
   ]
  },
  {
   "cell_type": "code",
   "execution_count": 34,
   "id": "d8f2519e",
   "metadata": {},
   "outputs": [
    {
     "data": {
      "text/html": [
       "<div><style>\n",
       ".dataframe > thead > tr,\n",
       ".dataframe > tbody > tr {\n",
       "  text-align: right;\n",
       "  white-space: pre-wrap;\n",
       "}\n",
       "</style>\n",
       "<small>shape: (378_240, 9)</small><table border=\"1\" class=\"dataframe\"><thead><tr><th>index</th><th>title</th><th>abstract</th><th>journal</th><th>year</th><th>authors</th><th>language</th><th>label</th><th>literal</th></tr><tr><td>i64</td><td>str</td><td>str</td><td>str</td><td>i64</td><td>str</td><td>str</td><td>i32</td><td>i32</td></tr></thead><tbody><tr><td>250</td><td>&quot;Mammalian mesopredators on isl…</td><td>&quot;Medium-sized mammalian predato…</td><td>&quot;Oecologia&quot;</td><td>2014</td><td>&quot;Suraci, JP; Clinchy, M; Zanett…</td><td>&quot;en&quot;</td><td>0</td><td>0</td></tr><tr><td>251</td><td>&quot;Sex biases in kin shoaling and…</td><td>&quot;Animal dispersal is associated…</td><td>&quot;Oecologia&quot;</td><td>2014</td><td>&quot;van Dongen, WFD; Wagner, RH; M…</td><td>&quot;en&quot;</td><td>0</td><td>0</td></tr><tr><td>252</td><td>&quot;Decreased emergence of emerald…</td><td>&quot;The emerald ash borer (EAB; Ag…</td><td>&quot;Oecologia&quot;</td><td>2014</td><td>&quot;Whitehill, JGA; Rigsby, C; Cip…</td><td>&quot;en&quot;</td><td>0</td><td>0</td></tr><tr><td>253</td><td>&quot;Effects of experimentally-enha…</td><td>&quot;Resistance, recovery and resil…</td><td>&quot;Oecologia&quot;</td><td>2014</td><td>&quot;Xu, ZW; Ren, HY; Cai, JP; Wang…</td><td>&quot;en&quot;</td><td>0</td><td>0</td></tr><tr><td>254</td><td>&quot;Gopher mounds decrease nutrien…</td><td>&quot;Fossorial mammals may affect n…</td><td>&quot;Oecologia&quot;</td><td>2014</td><td>&quot;Yurkewycz, RP; Bishop, JG; Cri…</td><td>&quot;en&quot;</td><td>0</td><td>0</td></tr><tr><td>&hellip;</td><td>&hellip;</td><td>&hellip;</td><td>&hellip;</td><td>&hellip;</td><td>&hellip;</td><td>&hellip;</td><td>&hellip;</td><td>&hellip;</td></tr><tr><td>524428</td><td>&quot;Marine conservation in oceania…</td><td>&quot;The people of Oceania have lon…</td><td>&quot;Marine pollution bulletin&quot;</td><td>2018</td><td>&quot;Friedlander, AM&quot;</td><td>&quot;en&quot;</td><td>0</td><td>0</td></tr><tr><td>524429</td><td>&quot;Macrobenthic community charact…</td><td>&quot;Development of substrate organ…</td><td>&quot;Marine pollution bulletin&quot;</td><td>2018</td><td>&quot;Liu, ZQ; Yu, P; Chen, MH; Cai,…</td><td>&quot;en&quot;</td><td>0</td><td>0</td></tr><tr><td>524430</td><td>&quot;Mercury contents in relation t…</td><td>&quot;Total liver and muscle mercury…</td><td>&quot;Marine pollution bulletin&quot;</td><td>2018</td><td>&quot;Sánchez-Muros, MJ; Morote, E; …</td><td>&quot;en&quot;</td><td>0</td><td>0</td></tr><tr><td>524431</td><td>&quot;Effects of temperature and sal…</td><td>&quot;As typical submerged aquatic v…</td><td>&quot;Marine pollution bulletin&quot;</td><td>2018</td><td>&quot;Gu, RT; Zhou, Y; Song, XY; Xu,…</td><td>&quot;en&quot;</td><td>0</td><td>0</td></tr><tr><td>524432</td><td>&quot;Habitat characteristics provid…</td><td>&quot;Seagrass meadows provide multi…</td><td>&quot;Marine pollution bulletin&quot;</td><td>2018</td><td>&quot;Mazarrasa, I; Sarnper-Villarre…</td><td>&quot;en&quot;</td><td>0</td><td>0</td></tr></tbody></table></div>"
      ],
      "text/plain": [
       "shape: (378_240, 9)\n",
       "┌────────┬──────────────┬─────────────┬─────────────┬───┬─────────────┬──────────┬───────┬─────────┐\n",
       "│ index  ┆ title        ┆ abstract    ┆ journal     ┆ … ┆ authors     ┆ language ┆ label ┆ literal │\n",
       "│ ---    ┆ ---          ┆ ---         ┆ ---         ┆   ┆ ---         ┆ ---      ┆ ---   ┆ ---     │\n",
       "│ i64    ┆ str          ┆ str         ┆ str         ┆   ┆ str         ┆ str      ┆ i32   ┆ i32     │\n",
       "╞════════╪══════════════╪═════════════╪═════════════╪═══╪═════════════╪══════════╪═══════╪═════════╡\n",
       "│ 250    ┆ Mammalian    ┆ Medium-size ┆ Oecologia   ┆ … ┆ Suraci, JP; ┆ en       ┆ 0     ┆ 0       │\n",
       "│        ┆ mesopredator ┆ d mammalian ┆             ┆   ┆ Clinchy, M; ┆          ┆       ┆         │\n",
       "│        ┆ s on isl…    ┆ predato…    ┆             ┆   ┆ Zanett…     ┆          ┆       ┆         │\n",
       "│ 251    ┆ Sex biases   ┆ Animal      ┆ Oecologia   ┆ … ┆ van Dongen, ┆ en       ┆ 0     ┆ 0       │\n",
       "│        ┆ in kin       ┆ dispersal   ┆             ┆   ┆ WFD;        ┆          ┆       ┆         │\n",
       "│        ┆ shoaling     ┆ is          ┆             ┆   ┆ Wagner, RH; ┆          ┆       ┆         │\n",
       "│        ┆ and…         ┆ associated… ┆             ┆   ┆ M…          ┆          ┆       ┆         │\n",
       "│ 252    ┆ Decreased    ┆ The emerald ┆ Oecologia   ┆ … ┆ Whitehill,  ┆ en       ┆ 0     ┆ 0       │\n",
       "│        ┆ emergence of ┆ ash borer   ┆             ┆   ┆ JGA;        ┆          ┆       ┆         │\n",
       "│        ┆ emerald…     ┆ (EAB; Ag…   ┆             ┆   ┆ Rigsby, C;  ┆          ┆       ┆         │\n",
       "│        ┆              ┆             ┆             ┆   ┆ Cip…        ┆          ┆       ┆         │\n",
       "│ 253    ┆ Effects of   ┆ Resistance, ┆ Oecologia   ┆ … ┆ Xu, ZW;     ┆ en       ┆ 0     ┆ 0       │\n",
       "│        ┆ experimental ┆ recovery    ┆             ┆   ┆ Ren, HY;    ┆          ┆       ┆         │\n",
       "│        ┆ ly-enha…     ┆ and resil…  ┆             ┆   ┆ Cai, JP;    ┆          ┆       ┆         │\n",
       "│        ┆              ┆             ┆             ┆   ┆ Wang…       ┆          ┆       ┆         │\n",
       "│ 254    ┆ Gopher       ┆ Fossorial   ┆ Oecologia   ┆ … ┆ Yurkewycz,  ┆ en       ┆ 0     ┆ 0       │\n",
       "│        ┆ mounds       ┆ mammals may ┆             ┆   ┆ RP; Bishop, ┆          ┆       ┆         │\n",
       "│        ┆ decrease     ┆ affect n…   ┆             ┆   ┆ JG; Cri…    ┆          ┆       ┆         │\n",
       "│        ┆ nutrien…     ┆             ┆             ┆   ┆             ┆          ┆       ┆         │\n",
       "│ …      ┆ …            ┆ …           ┆ …           ┆ … ┆ …           ┆ …        ┆ …     ┆ …       │\n",
       "│ 524428 ┆ Marine       ┆ The people  ┆ Marine      ┆ … ┆ Friedlander ┆ en       ┆ 0     ┆ 0       │\n",
       "│        ┆ conservation ┆ of Oceania  ┆ pollution   ┆   ┆ , AM        ┆          ┆       ┆         │\n",
       "│        ┆ in oceania…  ┆ have lon…   ┆ bulletin    ┆   ┆             ┆          ┆       ┆         │\n",
       "│ 524429 ┆ Macrobenthic ┆ Development ┆ Marine      ┆ … ┆ Liu, ZQ;    ┆ en       ┆ 0     ┆ 0       │\n",
       "│        ┆ community    ┆ of          ┆ pollution   ┆   ┆ Yu, P;      ┆          ┆       ┆         │\n",
       "│        ┆ charact…     ┆ substrate   ┆ bulletin    ┆   ┆ Chen, MH;   ┆          ┆       ┆         │\n",
       "│        ┆              ┆ organ…      ┆             ┆   ┆ Cai,…       ┆          ┆       ┆         │\n",
       "│ 524430 ┆ Mercury      ┆ Total liver ┆ Marine      ┆ … ┆ Sánchez-Mur ┆ en       ┆ 0     ┆ 0       │\n",
       "│        ┆ contents in  ┆ and muscle  ┆ pollution   ┆   ┆ os, MJ;     ┆          ┆       ┆         │\n",
       "│        ┆ relation t…  ┆ mercury…    ┆ bulletin    ┆   ┆ Morote, E;  ┆          ┆       ┆         │\n",
       "│        ┆              ┆             ┆             ┆   ┆ …           ┆          ┆       ┆         │\n",
       "│ 524431 ┆ Effects of   ┆ As typical  ┆ Marine      ┆ … ┆ Gu, RT;     ┆ en       ┆ 0     ┆ 0       │\n",
       "│        ┆ temperature  ┆ submerged   ┆ pollution   ┆   ┆ Zhou, Y;    ┆          ┆       ┆         │\n",
       "│        ┆ and sal…     ┆ aquatic v…  ┆ bulletin    ┆   ┆ Song, XY;   ┆          ┆       ┆         │\n",
       "│        ┆              ┆             ┆             ┆   ┆ Xu,…        ┆          ┆       ┆         │\n",
       "│ 524432 ┆ Habitat char ┆ Seagrass    ┆ Marine      ┆ … ┆ Mazarrasa,  ┆ en       ┆ 0     ┆ 0       │\n",
       "│        ┆ acteristics  ┆ meadows     ┆ pollution   ┆   ┆ I; Sarnper- ┆          ┆       ┆         │\n",
       "│        ┆ provid…      ┆ provide     ┆ bulletin    ┆   ┆ Villarre…   ┆          ┆       ┆         │\n",
       "│        ┆              ┆ multi…      ┆             ┆   ┆             ┆          ┆       ┆         │\n",
       "└────────┴──────────────┴─────────────┴─────────────┴───┴─────────────┴──────────┴───────┴─────────┘"
      ]
     },
     "execution_count": 34,
     "metadata": {},
     "output_type": "execute_result"
    }
   ],
   "source": [
    "repo_full = repo_full.with_columns(\n",
    "    pl.when(pl.col('label').is_null()).then(0).otherwise(pl.col('label')).alias('label')\n",
    ")\n",
    "\n",
    "repo_full"
   ]
  },
  {
   "cell_type": "code",
   "execution_count": 29,
   "id": "ad398805",
   "metadata": {},
   "outputs": [
    {
     "data": {
      "text/html": [
       "<div><style>\n",
       ".dataframe > thead > tr,\n",
       ".dataframe > tbody > tr {\n",
       "  text-align: right;\n",
       "  white-space: pre-wrap;\n",
       "}\n",
       "</style>\n",
       "<small>shape: (378_165, 8)</small><table border=\"1\" class=\"dataframe\"><thead><tr><th>index</th><th>title</th><th>abstract</th><th>journal</th><th>year</th><th>authors</th><th>language</th><th>label</th></tr><tr><td>i64</td><td>str</td><td>str</td><td>str</td><td>i64</td><td>str</td><td>str</td><td>i32</td></tr></thead><tbody><tr><td>13445</td><td>&quot;Genetic structure in periphera…</td><td>&quot;Decreased fitness due to loss …</td><td>&quot;Conservation genetics&quot;</td><td>2010</td><td>&quot;Rogell, B; Thörngren, H; Palm,…</td><td>&quot;en&quot;</td><td>null</td></tr><tr><td>189256</td><td>&quot;Predator-prey coupling: intera…</td><td>&quot;In this paper we explore varia…</td><td>&quot;Oikos&quot;</td><td>2009</td><td>&quot;Holmengen, N; Seip, KL; Boyce,…</td><td>&quot;en&quot;</td><td>null</td></tr><tr><td>372873</td><td>&quot;The jumping spiders (araneae, …</td><td>&quot;The paper presents data on the…</td><td>&quot;Annales zoologici fennici&quot;</td><td>1992</td><td>&quot;LOGUNOV, DV; WESOLOWSKA, W&quot;</td><td>&quot;en&quot;</td><td>null</td></tr><tr><td>57152</td><td>&quot;Characteristics of eastern can…</td><td>&quot;Sphagnum cultivation on harves…</td><td>&quot;Mires and peat&quot;</td><td>2015</td><td>&quot;Aubé, M; Quenum, M; Ranasinghe…</td><td>&quot;en&quot;</td><td>null</td></tr><tr><td>123750</td><td>&quot;Low initial refueling rate at …</td><td>&quot;For various reasons, migrating…</td><td>&quot;Auk&quot;</td><td>2001</td><td>&quot;Schwilch, R; Jenni, L&quot;</td><td>&quot;en&quot;</td><td>null</td></tr><tr><td>&hellip;</td><td>&hellip;</td><td>&hellip;</td><td>&hellip;</td><td>&hellip;</td><td>&hellip;</td><td>&hellip;</td><td>&hellip;</td></tr><tr><td>1894</td><td>&quot;Predicting cyanobacteria domin…</td><td>&quot;A controversial precept of aqu…</td><td>&quot;Canadian journal of fisheries …</td><td>2001</td><td>&quot;Downing, JA; Watson, SB; McCau…</td><td>&quot;en&quot;</td><td>null</td></tr><tr><td>485915</td><td>&quot;Testing of male sockeye-salmon…</td><td>&quot;Infectious hematopoietic necro…</td><td>&quot;Canadian journal of fisheries …</td><td>1987</td><td>&quot;MULCAHY, D; PASCHO, RJ; BATTS,…</td><td>&quot;en&quot;</td><td>null</td></tr><tr><td>24572</td><td>&quot;Fire effects on belowground su…</td><td>&quot;The overall effects of fire on…</td><td>&quot;Forest ecology and management&quot;</td><td>1999</td><td>&quot;Neary, DG; Klopatek, CC; DeBan…</td><td>&quot;en&quot;</td><td>null</td></tr><tr><td>498017</td><td>&quot;Sub-alpine tree growth, climat…</td><td>&quot;LaMarche et al. (1984) hypothe…</td><td>&quot;Ecology&quot;</td><td>1991</td><td>&quot;GRAUMLICH, LJ&quot;</td><td>&quot;en&quot;</td><td>null</td></tr><tr><td>16893</td><td>&quot;The evaluation of reference po…</td><td>&quot;In this study, we explore the …</td><td>&quot;Canadian journal of fisheries …</td><td>2009</td><td>&quot;Morgan, MJ; Murua, H; Kraus, G…</td><td>&quot;en&quot;</td><td>null</td></tr></tbody></table></div>"
      ],
      "text/plain": [
       "shape: (378_165, 8)\n",
       "┌────────┬───────────────┬───────────────┬───────────────┬──────┬───────────────┬──────────┬───────┐\n",
       "│ index  ┆ title         ┆ abstract      ┆ journal       ┆ year ┆ authors       ┆ language ┆ label │\n",
       "│ ---    ┆ ---           ┆ ---           ┆ ---           ┆ ---  ┆ ---           ┆ ---      ┆ ---   │\n",
       "│ i64    ┆ str           ┆ str           ┆ str           ┆ i64  ┆ str           ┆ str      ┆ i32   │\n",
       "╞════════╪═══════════════╪═══════════════╪═══════════════╪══════╪═══════════════╪══════════╪═══════╡\n",
       "│ 13445  ┆ Genetic       ┆ Decreased     ┆ Conservation  ┆ 2010 ┆ Rogell, B;    ┆ en       ┆ null  │\n",
       "│        ┆ structure in  ┆ fitness due   ┆ genetics      ┆      ┆ Thörngren, H; ┆          ┆       │\n",
       "│        ┆ periphera…    ┆ to loss …     ┆               ┆      ┆ Palm,…        ┆          ┆       │\n",
       "│ 189256 ┆ Predator-prey ┆ In this paper ┆ Oikos         ┆ 2009 ┆ Holmengen, N; ┆ en       ┆ null  │\n",
       "│        ┆ coupling:     ┆ we explore    ┆               ┆      ┆ Seip, KL;     ┆          ┆       │\n",
       "│        ┆ intera…       ┆ varia…        ┆               ┆      ┆ Boyce,…       ┆          ┆       │\n",
       "│ 372873 ┆ The jumping   ┆ The paper     ┆ Annales       ┆ 1992 ┆ LOGUNOV, DV;  ┆ en       ┆ null  │\n",
       "│        ┆ spiders       ┆ presents data ┆ zoologici     ┆      ┆ WESOLOWSKA, W ┆          ┆       │\n",
       "│        ┆ (araneae, …   ┆ on the…       ┆ fennici       ┆      ┆               ┆          ┆       │\n",
       "│ 57152  ┆ Characteristi ┆ Sphagnum      ┆ Mires and     ┆ 2015 ┆ Aubé, M;      ┆ en       ┆ null  │\n",
       "│        ┆ cs of eastern ┆ cultivation   ┆ peat          ┆      ┆ Quenum, M;    ┆          ┆       │\n",
       "│        ┆ can…          ┆ on harves…    ┆               ┆      ┆ Ranasinghe…   ┆          ┆       │\n",
       "│ 123750 ┆ Low initial   ┆ For various   ┆ Auk           ┆ 2001 ┆ Schwilch, R;  ┆ en       ┆ null  │\n",
       "│        ┆ refueling     ┆ reasons,      ┆               ┆      ┆ Jenni, L      ┆          ┆       │\n",
       "│        ┆ rate at …     ┆ migrating…    ┆               ┆      ┆               ┆          ┆       │\n",
       "│ …      ┆ …             ┆ …             ┆ …             ┆ …    ┆ …             ┆ …        ┆ …     │\n",
       "│ 1894   ┆ Predicting    ┆ A             ┆ Canadian      ┆ 2001 ┆ Downing, JA;  ┆ en       ┆ null  │\n",
       "│        ┆ cyanobacteria ┆ controversial ┆ journal of    ┆      ┆ Watson, SB;   ┆          ┆       │\n",
       "│        ┆ domin…        ┆ precept of    ┆ fisheries …   ┆      ┆ McCau…        ┆          ┆       │\n",
       "│        ┆               ┆ aqu…          ┆               ┆      ┆               ┆          ┆       │\n",
       "│ 485915 ┆ Testing of    ┆ Infectious    ┆ Canadian      ┆ 1987 ┆ MULCAHY, D;   ┆ en       ┆ null  │\n",
       "│        ┆ male sockeye- ┆ hematopoietic ┆ journal of    ┆      ┆ PASCHO, RJ;   ┆          ┆       │\n",
       "│        ┆ salmon…       ┆ necro…        ┆ fisheries …   ┆      ┆ BATTS,…       ┆          ┆       │\n",
       "│ 24572  ┆ Fire effects  ┆ The overall   ┆ Forest        ┆ 1999 ┆ Neary, DG;    ┆ en       ┆ null  │\n",
       "│        ┆ on            ┆ effects of    ┆ ecology and   ┆      ┆ Klopatek, CC; ┆          ┆       │\n",
       "│        ┆ belowground   ┆ fire on…      ┆ management    ┆      ┆ DeBan…        ┆          ┆       │\n",
       "│        ┆ su…           ┆               ┆               ┆      ┆               ┆          ┆       │\n",
       "│ 498017 ┆ Sub-alpine    ┆ LaMarche et   ┆ Ecology       ┆ 1991 ┆ GRAUMLICH, LJ ┆ en       ┆ null  │\n",
       "│        ┆ tree growth,  ┆ al. (1984)    ┆               ┆      ┆               ┆          ┆       │\n",
       "│        ┆ climat…       ┆ hypothe…      ┆               ┆      ┆               ┆          ┆       │\n",
       "│ 16893  ┆ The           ┆ In this       ┆ Canadian      ┆ 2009 ┆ Morgan, MJ;   ┆ en       ┆ null  │\n",
       "│        ┆ evaluation of ┆ study, we     ┆ journal of    ┆      ┆ Murua, H;     ┆          ┆       │\n",
       "│        ┆ reference po… ┆ explore the … ┆ fisheries …   ┆      ┆ Kraus, G…     ┆          ┆       │\n",
       "└────────┴───────────────┴───────────────┴───────────────┴──────┴───────────────┴──────────┴───────┘"
      ]
     },
     "execution_count": 29,
     "metadata": {},
     "output_type": "execute_result"
    }
   ],
   "source": [
    "repo_full.unique(subset=\"title\")\n"
   ]
  },
  {
   "cell_type": "code",
   "execution_count": 24,
   "id": "8aa59788",
   "metadata": {},
   "outputs": [
    {
     "data": {
      "text/html": [
       "<div><style>\n",
       ".dataframe > thead > tr,\n",
       ".dataframe > tbody > tr {\n",
       "  text-align: right;\n",
       "  white-space: pre-wrap;\n",
       "}\n",
       "</style>\n",
       "<small>shape: (378_240, 8)</small><table border=\"1\" class=\"dataframe\"><thead><tr><th>index</th><th>title</th><th>abstract</th><th>journal</th><th>year</th><th>authors</th><th>language</th><th>label</th></tr><tr><td>i64</td><td>str</td><td>str</td><td>str</td><td>i64</td><td>str</td><td>str</td><td>i32</td></tr></thead><tbody><tr><td>250</td><td>&quot;Mammalian mesopredators on isl…</td><td>&quot;Medium-sized mammalian predato…</td><td>&quot;Oecologia&quot;</td><td>2014</td><td>&quot;Suraci, JP; Clinchy, M; Zanett…</td><td>&quot;en&quot;</td><td>null</td></tr><tr><td>251</td><td>&quot;Sex biases in kin shoaling and…</td><td>&quot;Animal dispersal is associated…</td><td>&quot;Oecologia&quot;</td><td>2014</td><td>&quot;van Dongen, WFD; Wagner, RH; M…</td><td>&quot;en&quot;</td><td>null</td></tr><tr><td>252</td><td>&quot;Decreased emergence of emerald…</td><td>&quot;The emerald ash borer (EAB; Ag…</td><td>&quot;Oecologia&quot;</td><td>2014</td><td>&quot;Whitehill, JGA; Rigsby, C; Cip…</td><td>&quot;en&quot;</td><td>null</td></tr><tr><td>253</td><td>&quot;Effects of experimentally-enha…</td><td>&quot;Resistance, recovery and resil…</td><td>&quot;Oecologia&quot;</td><td>2014</td><td>&quot;Xu, ZW; Ren, HY; Cai, JP; Wang…</td><td>&quot;en&quot;</td><td>null</td></tr><tr><td>254</td><td>&quot;Gopher mounds decrease nutrien…</td><td>&quot;Fossorial mammals may affect n…</td><td>&quot;Oecologia&quot;</td><td>2014</td><td>&quot;Yurkewycz, RP; Bishop, JG; Cri…</td><td>&quot;en&quot;</td><td>null</td></tr><tr><td>&hellip;</td><td>&hellip;</td><td>&hellip;</td><td>&hellip;</td><td>&hellip;</td><td>&hellip;</td><td>&hellip;</td><td>&hellip;</td></tr><tr><td>524428</td><td>&quot;Marine conservation in oceania…</td><td>&quot;The people of Oceania have lon…</td><td>&quot;Marine pollution bulletin&quot;</td><td>2018</td><td>&quot;Friedlander, AM&quot;</td><td>&quot;en&quot;</td><td>null</td></tr><tr><td>524429</td><td>&quot;Macrobenthic community charact…</td><td>&quot;Development of substrate organ…</td><td>&quot;Marine pollution bulletin&quot;</td><td>2018</td><td>&quot;Liu, ZQ; Yu, P; Chen, MH; Cai,…</td><td>&quot;en&quot;</td><td>null</td></tr><tr><td>524430</td><td>&quot;Mercury contents in relation t…</td><td>&quot;Total liver and muscle mercury…</td><td>&quot;Marine pollution bulletin&quot;</td><td>2018</td><td>&quot;Sánchez-Muros, MJ; Morote, E; …</td><td>&quot;en&quot;</td><td>null</td></tr><tr><td>524431</td><td>&quot;Effects of temperature and sal…</td><td>&quot;As typical submerged aquatic v…</td><td>&quot;Marine pollution bulletin&quot;</td><td>2018</td><td>&quot;Gu, RT; Zhou, Y; Song, XY; Xu,…</td><td>&quot;en&quot;</td><td>null</td></tr><tr><td>524432</td><td>&quot;Habitat characteristics provid…</td><td>&quot;Seagrass meadows provide multi…</td><td>&quot;Marine pollution bulletin&quot;</td><td>2018</td><td>&quot;Mazarrasa, I; Sarnper-Villarre…</td><td>&quot;en&quot;</td><td>null</td></tr></tbody></table></div>"
      ],
      "text/plain": [
       "shape: (378_240, 8)\n",
       "┌────────┬─────────────────┬────────────────┬───────────┬──────┬────────────────┬──────────┬───────┐\n",
       "│ index  ┆ title           ┆ abstract       ┆ journal   ┆ year ┆ authors        ┆ language ┆ label │\n",
       "│ ---    ┆ ---             ┆ ---            ┆ ---       ┆ ---  ┆ ---            ┆ ---      ┆ ---   │\n",
       "│ i64    ┆ str             ┆ str            ┆ str       ┆ i64  ┆ str            ┆ str      ┆ i32   │\n",
       "╞════════╪═════════════════╪════════════════╪═══════════╪══════╪════════════════╪══════════╪═══════╡\n",
       "│ 250    ┆ Mammalian       ┆ Medium-sized   ┆ Oecologia ┆ 2014 ┆ Suraci, JP;    ┆ en       ┆ null  │\n",
       "│        ┆ mesopredators   ┆ mammalian      ┆           ┆      ┆ Clinchy, M;    ┆          ┆       │\n",
       "│        ┆ on isl…         ┆ predato…       ┆           ┆      ┆ Zanett…        ┆          ┆       │\n",
       "│ 251    ┆ Sex biases in   ┆ Animal         ┆ Oecologia ┆ 2014 ┆ van Dongen,    ┆ en       ┆ null  │\n",
       "│        ┆ kin shoaling    ┆ dispersal is   ┆           ┆      ┆ WFD; Wagner,   ┆          ┆       │\n",
       "│        ┆ and…            ┆ associated…    ┆           ┆      ┆ RH; M…         ┆          ┆       │\n",
       "│ 252    ┆ Decreased       ┆ The emerald    ┆ Oecologia ┆ 2014 ┆ Whitehill,     ┆ en       ┆ null  │\n",
       "│        ┆ emergence of    ┆ ash borer      ┆           ┆      ┆ JGA; Rigsby,   ┆          ┆       │\n",
       "│        ┆ emerald…        ┆ (EAB; Ag…      ┆           ┆      ┆ C; Cip…        ┆          ┆       │\n",
       "│ 253    ┆ Effects of expe ┆ Resistance,    ┆ Oecologia ┆ 2014 ┆ Xu, ZW; Ren,   ┆ en       ┆ null  │\n",
       "│        ┆ rimentally-enha ┆ recovery and   ┆           ┆      ┆ HY; Cai, JP;   ┆          ┆       │\n",
       "│        ┆ …               ┆ resil…         ┆           ┆      ┆ Wang…          ┆          ┆       │\n",
       "│ 254    ┆ Gopher mounds   ┆ Fossorial      ┆ Oecologia ┆ 2014 ┆ Yurkewycz, RP; ┆ en       ┆ null  │\n",
       "│        ┆ decrease        ┆ mammals may    ┆           ┆      ┆ Bishop, JG;    ┆          ┆       │\n",
       "│        ┆ nutrien…        ┆ affect n…      ┆           ┆      ┆ Cri…           ┆          ┆       │\n",
       "│ …      ┆ …               ┆ …              ┆ …         ┆ …    ┆ …              ┆ …        ┆ …     │\n",
       "│ 524428 ┆ Marine          ┆ The people of  ┆ Marine    ┆ 2018 ┆ Friedlander,   ┆ en       ┆ null  │\n",
       "│        ┆ conservation in ┆ Oceania have   ┆ pollution ┆      ┆ AM             ┆          ┆       │\n",
       "│        ┆ oceania…        ┆ lon…           ┆ bulletin  ┆      ┆                ┆          ┆       │\n",
       "│ 524429 ┆ Macrobenthic    ┆ Development of ┆ Marine    ┆ 2018 ┆ Liu, ZQ; Yu,   ┆ en       ┆ null  │\n",
       "│        ┆ community       ┆ substrate      ┆ pollution ┆      ┆ P; Chen, MH;   ┆          ┆       │\n",
       "│        ┆ charact…        ┆ organ…         ┆ bulletin  ┆      ┆ Cai,…          ┆          ┆       │\n",
       "│ 524430 ┆ Mercury         ┆ Total liver    ┆ Marine    ┆ 2018 ┆ Sánchez-Muros, ┆ en       ┆ null  │\n",
       "│        ┆ contents in     ┆ and muscle     ┆ pollution ┆      ┆ MJ; Morote, E; ┆          ┆       │\n",
       "│        ┆ relation t…     ┆ mercury…       ┆ bulletin  ┆      ┆ …              ┆          ┆       │\n",
       "│ 524431 ┆ Effects of      ┆ As typical     ┆ Marine    ┆ 2018 ┆ Gu, RT; Zhou,  ┆ en       ┆ null  │\n",
       "│        ┆ temperature and ┆ submerged      ┆ pollution ┆      ┆ Y; Song, XY;   ┆          ┆       │\n",
       "│        ┆ sal…            ┆ aquatic v…     ┆ bulletin  ┆      ┆ Xu,…           ┆          ┆       │\n",
       "│ 524432 ┆ Habitat         ┆ Seagrass       ┆ Marine    ┆ 2018 ┆ Mazarrasa, I;  ┆ en       ┆ null  │\n",
       "│        ┆ characteristics ┆ meadows        ┆ pollution ┆      ┆ Sarnper-Villar ┆          ┆       │\n",
       "│        ┆ provid…         ┆ provide multi… ┆ bulletin  ┆      ┆ re…            ┆          ┆       │\n",
       "└────────┴─────────────────┴────────────────┴───────────┴──────┴────────────────┴──────────┴───────┘"
      ]
     },
     "execution_count": 24,
     "metadata": {},
     "output_type": "execute_result"
    }
   ],
   "source": [
    "repo_full "
   ]
  },
  {
   "cell_type": "code",
   "execution_count": 20,
   "id": "3a851f45",
   "metadata": {},
   "outputs": [
    {
     "data": {
      "text/html": [
       "<div><style>\n",
       ".dataframe > thead > tr,\n",
       ".dataframe > tbody > tr {\n",
       "  text-align: right;\n",
       "  white-space: pre-wrap;\n",
       "}\n",
       "</style>\n",
       "<small>shape: (4_582, 2)</small><table border=\"1\" class=\"dataframe\"><thead><tr><th>name_in_repo</th><th>label</th></tr><tr><td>str</td><td>i32</td></tr></thead><tbody><tr><td>&quot;Experimental ivermectin treatm…</td><td>1</td></tr><tr><td>&quot;Impact of grazing management o…</td><td>1</td></tr><tr><td>&quot;Mammals and agri-environment s…</td><td>1</td></tr><tr><td>&quot;Conservation potential of pres…</td><td>1</td></tr><tr><td>&quot;The role of forest harvesting …</td><td>1</td></tr><tr><td>&hellip;</td><td>&hellip;</td></tr><tr><td>&quot;Effects of habitat alteration …</td><td>1</td></tr><tr><td>&quot;Effectiveness of a deep-sea co…</td><td>1</td></tr><tr><td>&quot;Early growth adaptability of f…</td><td>1</td></tr><tr><td>&quot;Hay strewing, brush harvesting…</td><td>1</td></tr><tr><td>&quot;Performance of bycatch reducti…</td><td>1</td></tr></tbody></table></div>"
      ],
      "text/plain": [
       "shape: (4_582, 2)\n",
       "┌─────────────────────────────────┬───────┐\n",
       "│ name_in_repo                    ┆ label │\n",
       "│ ---                             ┆ ---   │\n",
       "│ str                             ┆ i32   │\n",
       "╞═════════════════════════════════╪═══════╡\n",
       "│ Experimental ivermectin treatm… ┆ 1     │\n",
       "│ Impact of grazing management o… ┆ 1     │\n",
       "│ Mammals and agri-environment s… ┆ 1     │\n",
       "│ Conservation potential of pres… ┆ 1     │\n",
       "│ The role of forest harvesting … ┆ 1     │\n",
       "│ …                               ┆ …     │\n",
       "│ Effects of habitat alteration … ┆ 1     │\n",
       "│ Effectiveness of a deep-sea co… ┆ 1     │\n",
       "│ Early growth adaptability of f… ┆ 1     │\n",
       "│ Hay strewing, brush harvesting… ┆ 1     │\n",
       "│ Performance of bycatch reducti… ┆ 1     │\n",
       "└─────────────────────────────────┴───────┘"
      ]
     },
     "execution_count": 20,
     "metadata": {},
     "output_type": "execute_result"
    }
   ],
   "source": [
    "pos_matched_title\n"
   ]
  },
  {
   "cell_type": "markdown",
   "id": "f2bdb8d1",
   "metadata": {},
   "source": [
    "# create datasets"
   ]
  },
  {
   "cell_type": "code",
   "execution_count": null,
   "id": "3fd8dd1d",
   "metadata": {},
   "outputs": [],
   "source": [
    "import numpy as np\n",
    "from small_text.data import SklearnDataset\n",
    "\n",
    "# create exemplary features and labels randomly\n",
    "x = np.random.rand(100, 30)\n",
    "x = \n",
    "y = np.random.randint(0, 2, size=100)\n",
    "\n",
    "dataset = SklearnDataset(x, y, target_labels=np.arange(2))"
   ]
  },
  {
   "cell_type": "code",
   "execution_count": 12,
   "id": "6381bf49",
   "metadata": {},
   "outputs": [
    {
     "data": {
      "text/plain": [
       "array([0, 0, 1, 1, 0, 0, 1, 1, 0, 0, 0, 0, 1, 1, 0, 1, 1, 1, 0, 0, 0, 0,\n",
       "       0, 0, 0, 0, 0, 1, 1, 0, 1, 1, 1, 0, 1, 1, 1, 0, 0, 0, 1, 1, 1, 0,\n",
       "       0, 0, 1, 0, 1, 0, 0, 0, 0, 0, 1, 1, 0, 0, 1, 1, 1, 0, 0, 1, 1, 0,\n",
       "       1, 1, 1, 0, 1, 0, 1, 1, 0, 1, 1, 0, 1, 1, 0, 0, 1, 0, 1, 0, 0, 1,\n",
       "       1, 0, 1, 1, 0, 1, 0, 1, 1, 1, 0, 1])"
      ]
     },
     "execution_count": 12,
     "metadata": {},
     "output_type": "execute_result"
    }
   ],
   "source": [
    "y"
   ]
  },
  {
   "cell_type": "code",
   "execution_count": null,
   "id": "12985461",
   "metadata": {},
   "outputs": [],
   "source": [
    "import datasets\n",
    "datasets.logging.set_verbosity_error()\n",
    "\n",
    "import logging"
   ]
  },
  {
   "cell_type": "code",
   "execution_count": null,
   "id": "0e625fa9",
   "metadata": {},
   "outputs": [],
   "source": [
    "# raw_dataset= datasets.load_dataset('../data/outputs_similarity_matches/pos_matches.parquet')\n",
    "\n",
    "# num_classes = raw_dataset['train'].features['label'].num_classes"
   ]
  },
  {
   "cell_type": "code",
   "execution_count": null,
   "id": "fcdf23db",
   "metadata": {},
   "outputs": [],
   "source": [
    "live_dataset = pl.DataFrame(data, columns=['label', 'text'])"
   ]
  },
  {
   "cell_type": "code",
   "execution_count": null,
   "id": "497427f8",
   "metadata": {},
   "outputs": [],
   "source": []
  },
  {
   "cell_type": "markdown",
   "id": "2072bb1d",
   "metadata": {},
   "source": [
    "# active learner "
   ]
  },
  {
   "cell_type": "markdown",
   "id": "bd4bbe33",
   "metadata": {},
   "source": [
    "# query strategy"
   ]
  },
  {
   "cell_type": "markdown",
   "id": "4701bfb7",
   "metadata": {},
   "source": [
    "# classifier factory"
   ]
  }
 ],
 "metadata": {
  "kernelspec": {
   "display_name": ".venv",
   "language": "python",
   "name": "python3"
  },
  "language_info": {
   "codemirror_mode": {
    "name": "ipython",
    "version": 3
   },
   "file_extension": ".py",
   "mimetype": "text/x-python",
   "name": "python",
   "nbconvert_exporter": "python",
   "pygments_lexer": "ipython3",
   "version": "3.11.3"
  }
 },
 "nbformat": 4,
 "nbformat_minor": 5
}
