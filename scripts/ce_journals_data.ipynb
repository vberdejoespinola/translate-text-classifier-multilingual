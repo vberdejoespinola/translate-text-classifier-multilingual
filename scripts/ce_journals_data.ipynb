{
 "cells": [
  {
   "cell_type": "code",
   "execution_count": null,
   "id": "2f0bc7f5",
   "metadata": {},
   "outputs": [],
   "source": [
    "# March 2025\n",
    "# Script to explore all_ce_journals_exports.csv file\n",
    "# Violeta Berdejo-Espinola"
   ]
  },
  {
   "cell_type": "code",
   "execution_count": null,
   "id": "1a0a9cd8",
   "metadata": {},
   "outputs": [],
   "source": [
    "import pandas as pd\n",
    "from pathlib import Path"
   ]
  },
  {
   "cell_type": "code",
   "execution_count": null,
   "id": "ee38e3d2",
   "metadata": {},
   "outputs": [],
   "source": [
    "# function to normalize text\n",
    "\n",
    "def normalize_text(text):\n",
    "    text = text.replace('<i>','')\n",
    "    text = text.replace('</i>','')\n",
    "    text = text.replace('*','')\n",
    "    return text.lower().strip().capitalize()"
   ]
  },
  {
   "cell_type": "code",
   "execution_count": null,
   "id": "ed70b255",
   "metadata": {},
   "outputs": [],
   "source": [
    "# read journals metadata\n",
    "# list of journals and years screened\n",
    "df_journal = pd.read_csv('../data/from_ce/all_ce_journals_exports.csv', index_col=False, encoding='utf-8')\n",
    "print(f\"journals screened by CE: {df_journal['journal'].nunique()}\")\n",
    "\n",
    "# normalize journal name\n",
    "df_journal[\"journal_normalized\"] = df_journal[\"journal\"].apply(normalize_text)\n",
    "\n",
    "# drop duplicates\n",
    "df_journal = df_journal.drop_duplicates(subset=[\"journal_normalized\"])\n",
    "\n",
    "# subset journals indexed in wos\n",
    "df_journal_subset = df_journal[\n",
    "    (df_journal[\"in_wos\"].fillna(0) == 1) &\n",
    "    (df_journal[\"topic\"].fillna(\"\") != \"Soil Fertility\")\n",
    "]\n",
    "# print(f\"journals screened by CE indexed in Wos: {df_journal_subset['journal_normalized'].nunique()}\") # n=238 but in reality is more because many of journals have former versions\n",
    "\n",
    "df_journal_subset.head(5)"
   ]
  }
 ],
 "metadata": {
  "language_info": {
   "name": "python"
  }
 },
 "nbformat": 4,
 "nbformat_minor": 5
}
