{
 "cells": [
  {
   "cell_type": "code",
   "execution_count": null,
   "id": "bee35fdc",
   "metadata": {},
   "outputs": [],
   "source": [
    "# April 2025\n",
    "# Train classification model using Logistic Regression\n",
    "# Violeta Berdejo-Espinola"
   ]
  },
  {
   "cell_type": "code",
   "execution_count": null,
   "id": "95e30f7c",
   "metadata": {},
   "outputs": [],
   "source": [
    "# %pip install polars pyarrow scikit-learn embetter imblearn tqdm mpu"
   ]
  },
  {
   "cell_type": "code",
   "execution_count": 1,
   "id": "32df5e18",
   "metadata": {},
   "outputs": [
    {
     "name": "stdout",
     "output_type": "stream",
     "text": [
      "376318\n",
      "376318\n",
      "376318\n"
     ]
    },
    {
     "data": {
      "text/plain": [
       "{0: 0.5061371064276203, 1: 41.23580977427131}"
      ]
     },
     "execution_count": 1,
     "metadata": {},
     "output_type": "execute_result"
    }
   ],
   "source": [
    "# read data\n",
    "\n",
    "import polars as pl\n",
    "\n",
    "corpus = pl.read_parquet('../data/outputs_similarity_matches/corpus.parquet')\n",
    "print(len(corpus))\n",
    "\n",
    "# define x and y\n",
    "\n",
    "x = list(corpus['title'] + ' ' + corpus['abstract'])\n",
    "y = list(corpus['label'])\n",
    "print(len(x)), print(len(y))\n",
    "\n",
    "# calculate weights\n",
    "\n",
    "from sklearn.utils.class_weight import compute_class_weight\n",
    "import numpy as np\n",
    "\n",
    "classes = np.unique(y)\n",
    "weights = compute_class_weight('balanced', classes=classes, y=y)\n",
    "class_weight_dict = dict(zip(classes, weights))\n",
    "class_weight_dict"
   ]
  },
  {
   "cell_type": "code",
   "execution_count": 4,
   "id": "153a2c58",
   "metadata": {},
   "outputs": [
    {
     "data": {
      "text/html": [
       "<div><style>\n",
       ".dataframe > thead > tr,\n",
       ".dataframe > tbody > tr {\n",
       "  text-align: right;\n",
       "  white-space: pre-wrap;\n",
       "}\n",
       "</style>\n",
       "<small>shape: (9, 10)</small><table border=\"1\" class=\"dataframe\"><thead><tr><th>statistic</th><th>index</th><th>title</th><th>abstract</th><th>journal</th><th>year</th><th>authors</th><th>language</th><th>label</th><th>abstract_length</th></tr><tr><td>str</td><td>f64</td><td>str</td><td>str</td><td>str</td><td>f64</td><td>str</td><td>str</td><td>f64</td><td>f64</td></tr></thead><tbody><tr><td>&quot;count&quot;</td><td>376318.0</td><td>&quot;376318&quot;</td><td>&quot;376318&quot;</td><td>&quot;376318&quot;</td><td>376318.0</td><td>&quot;376318&quot;</td><td>&quot;376318&quot;</td><td>376318.0</td><td>376318.0</td></tr><tr><td>&quot;null_count&quot;</td><td>0.0</td><td>&quot;0&quot;</td><td>&quot;0&quot;</td><td>&quot;0&quot;</td><td>0.0</td><td>&quot;0&quot;</td><td>&quot;0&quot;</td><td>0.0</td><td>0.0</td></tr><tr><td>&quot;mean&quot;</td><td>259407.224302</td><td>null</td><td>null</td><td>null</td><td>2006.047173</td><td>null</td><td>null</td><td>0.012125</td><td>1470.370384</td></tr><tr><td>&quot;std&quot;</td><td>149486.554872</td><td>null</td><td>null</td><td>null</td><td>11.279078</td><td>null</td><td>null</td><td>0.109446</td><td>501.950977</td></tr><tr><td>&quot;min&quot;</td><td>250.0</td><td>&quot;&amp;iteretmochelys imbricata&amp;it s…</td><td>&quot;! An oligotrophic coastal fres…</td><td>&quot;Acta chiropterologica&quot;</td><td>1936.0</td><td>&quot;A&#x27;Bear, AD; Boddy, L; Jones, T…</td><td>&quot;en&quot;</td><td>0.0</td><td>300.0</td></tr><tr><td>&quot;25%&quot;</td><td>134267.0</td><td>null</td><td>null</td><td>null</td><td>2000.0</td><td>null</td><td>null</td><td>0.0</td><td>1128.0</td></tr><tr><td>&quot;50%&quot;</td><td>256447.0</td><td>null</td><td>null</td><td>null</td><td>2008.0</td><td>null</td><td>null</td><td>0.0</td><td>1448.0</td></tr><tr><td>&quot;75%&quot;</td><td>390643.0</td><td>null</td><td>null</td><td>null</td><td>2014.0</td><td>null</td><td>null</td><td>0.0</td><td>1771.0</td></tr><tr><td>&quot;max&quot;</td><td>524432.0</td><td>&quot;Δ15n variation in ulva lactuca…</td><td>&quot;{en} Over the past decades, mu…</td><td>&quot;Zoo biology&quot;</td><td>2025.0</td><td>&quot;Üzüm, N; Olgun, K&quot;</td><td>&quot;en&quot;</td><td>1.0</td><td>7214.0</td></tr></tbody></table></div>"
      ],
      "text/plain": [
       "shape: (9, 10)\n",
       "┌────────────┬───────────┬───────────┬───────────┬───┬───────────┬──────────┬──────────┬───────────┐\n",
       "│ statistic  ┆ index     ┆ title     ┆ abstract  ┆ … ┆ authors   ┆ language ┆ label    ┆ abstract_ │\n",
       "│ ---        ┆ ---       ┆ ---       ┆ ---       ┆   ┆ ---       ┆ ---      ┆ ---      ┆ length    │\n",
       "│ str        ┆ f64       ┆ str       ┆ str       ┆   ┆ str       ┆ str      ┆ f64      ┆ ---       │\n",
       "│            ┆           ┆           ┆           ┆   ┆           ┆          ┆          ┆ f64       │\n",
       "╞════════════╪═══════════╪═══════════╪═══════════╪═══╪═══════════╪══════════╪══════════╪═══════════╡\n",
       "│ count      ┆ 376318.0  ┆ 376318    ┆ 376318    ┆ … ┆ 376318    ┆ 376318   ┆ 376318.0 ┆ 376318.0  │\n",
       "│ null_count ┆ 0.0       ┆ 0         ┆ 0         ┆ … ┆ 0         ┆ 0        ┆ 0.0      ┆ 0.0       │\n",
       "│ mean       ┆ 259407.22 ┆ null      ┆ null      ┆ … ┆ null      ┆ null     ┆ 0.012125 ┆ 1470.3703 │\n",
       "│            ┆ 4302      ┆           ┆           ┆   ┆           ┆          ┆          ┆ 84        │\n",
       "│ std        ┆ 149486.55 ┆ null      ┆ null      ┆ … ┆ null      ┆ null     ┆ 0.109446 ┆ 501.95097 │\n",
       "│            ┆ 4872      ┆           ┆           ┆   ┆           ┆          ┆          ┆ 7         │\n",
       "│ min        ┆ 250.0     ┆ &iteretmo ┆ ! An olig ┆ … ┆ A'Bear,   ┆ en       ┆ 0.0      ┆ 300.0     │\n",
       "│            ┆           ┆ chelys    ┆ otrophic  ┆   ┆ AD;       ┆          ┆          ┆           │\n",
       "│            ┆           ┆ imbricata ┆ coastal   ┆   ┆ Boddy, L; ┆          ┆          ┆           │\n",
       "│            ┆           ┆ &it s…    ┆ fres…     ┆   ┆ Jones, T… ┆          ┆          ┆           │\n",
       "│ 25%        ┆ 134267.0  ┆ null      ┆ null      ┆ … ┆ null      ┆ null     ┆ 0.0      ┆ 1128.0    │\n",
       "│ 50%        ┆ 256447.0  ┆ null      ┆ null      ┆ … ┆ null      ┆ null     ┆ 0.0      ┆ 1448.0    │\n",
       "│ 75%        ┆ 390643.0  ┆ null      ┆ null      ┆ … ┆ null      ┆ null     ┆ 0.0      ┆ 1771.0    │\n",
       "│ max        ┆ 524432.0  ┆ Δ15n      ┆ {en} Over ┆ … ┆ Üzüm, N;  ┆ en       ┆ 1.0      ┆ 7214.0    │\n",
       "│            ┆           ┆ variation ┆ the past  ┆   ┆ Olgun, K  ┆          ┆          ┆           │\n",
       "│            ┆           ┆ in ulva   ┆ decades,  ┆   ┆           ┆          ┆          ┆           │\n",
       "│            ┆           ┆ lactuca…  ┆ mu…       ┆   ┆           ┆          ┆          ┆           │\n",
       "└────────────┴───────────┴───────────┴───────────┴───┴───────────┴──────────┴──────────┴───────────┘"
      ]
     },
     "execution_count": 4,
     "metadata": {},
     "output_type": "execute_result"
    }
   ],
   "source": [
    "corpus.describe()"
   ]
  },
  {
   "cell_type": "code",
   "execution_count": 5,
   "id": "a20ff46e",
   "metadata": {},
   "outputs": [
    {
     "name": "stdout",
     "output_type": "stream",
     "text": [
      "<class 'int'>\n"
     ]
    },
    {
     "data": {
      "text/plain": [
       "['The influence of the nasonov pheromone on the recognition of house bees and foragers by varroa-jacobsoni Simultaneous choice tests proved that Varroa jacobsoni is able to distinguish house bees and foragers by means of the age-dependent Nasonov pheromone production of the bees. The secretion of one or 10 Nasonov glands, respectively, of foragers showed a repellent effect upon the mite equal to one or 10 bee equivalents, respectively, of geraniol, the main component of the pheromone. One hundred bee equivalents of geraniol caused the strongest repellent effect. Specimen gathered from 3 to 7 day old house bees did not show any influence on the mite in comparison to controls. The results show that Varroa jacobsoni is capable of olfactorial recognition of house bees as ideal host.',\n",
       " 'Efficacy and accuracy of portable pit-antennae when locating fish in ice-covered streams Active tracking of passive integrated transponder (PIT)-tags using portable antennae is becoming an increasingly common technique in fish habitat studies in shallow rivers. We carried out blind testing to test the efficacy (% tags found) and accuracy (distance between predicted and true tag location) of a portable antenna system (Texas Instruments) in winter conditions using 23-mm PIT-tags. Up to 90 cm reading range was achieved and signals penetrated ice, rock, wood and water. In the blind test trials, a majority of the hidden tags (N = 12-30) were found indicating high tracking efficacy. PIT-tags that were oriented with their cylindrical axis parallel to the plane of the antenna coil inductor loop resulted in a bimodal detection field that had low detection range in the centre of the loop. The utilization of this bimodal detection field proved to be a very accurate method for identifying tag position (mean +/- SE distance from predicted to true tag location 10.9 +/- 1.4 cm) and thus well suited for microhabitat and activity studies in winter conditions. Aggregations of tags (multiple tags within 1 m(2)) and obstacles for the antenna maneuvering (e.g., boulders, logjams) reduced the pinpointing accuracy (mean +/- SE 13.3 +/- 1.8 cm), but the reduction in accuracy was statistically non-significant between the single and aggregated tags.',\n",
       " 'Escape ring selectivity, bycatch, and discard survivability in the new england fishery for deep-water red crab, chaceon quinquedens The trap fishery for red crab, Chaceon quinquedens, occurs at depths of 600-800 m along the continental slope of New England. The target product is a male crab with a carapace width of similar to 105 mm or greater. Selectivity was tested at two discrete depths (600 and 800 m), for four different escape ring scenarios: control trap with no escape rings, and escape rings with internal diameters of 9, 10, and 11 cm. Proportions of non-marketable C. quinquedens were large (71-100%) at both depths for all traps, but were smallest in traps with escape rings. Discard mortality was estimated at similar to 5% through caging experiments across three haul frequency conditions (every 24 h, every 4 d, and after 8 d), which represented the likely reality of multiple recaptures during a commercial trip. The impact of discarding techniques (low and high impact) was also assessed. If discard proportion estimates of > 71% are realistic, and if an estimated similar to 5% of these discards die, the recommendation must be made for fishery participants to improve gear selectivity, and thereby to minimize discard mortality rates. On the management side, stock assessments will be more accurate if estimates of discard mortality are incorporated.',\n",
       " 'Conservation of forest in sweden: a strategic ecological analysis Policies for future conservation of forests must be preceded by an evaluation of the present reserves. Using data from the Swedish National Forest Inventory, this study analyses Swedish reserves, i.e. national parks, nature reserves and forest service reserves, in terms of proportion of forest, stand age, site quality, tree species composition and tree volumes. The results show that in Sweden, the proportion of productive forest within reserves is 20% compared to 60% of the non-reserve land area, and that the volume of dead trees is greater in reserves. In general the distribution of forests within reserves is skewed towards old, low:productivity Norway spruce forests in Northwest Sweden. This allocation may not meet the demands for protection of the habitats of endangered species. (C) 2000 Elsevier Science Ltd. All rights reserved.',\n",
       " 'Low level of genetic variation and restricted gene flow in water lily nymphaea tetragona populations from the amur river Nymphaea tetragona is the most widely distributed water lily in China. It is also an important ornamental plant. However, with the degradation and fragmentation of wetlands in China, populations of N. tetragona have shrunken rapidly in recent decades. Genetic variation and population structure of eight N. tetragona populations from the Amur River basin in northeastern China were assessed by inter-simple sequence repeat (ISSR) markers. Thirteen primers produced a total of 289 unambiguous bands of which 234(81.0%) were polymorphic. N. tetragona appeared to possess a low level of gene diversity within the population (P-p=43.3%, H-E=0.151 and I=0.226). The main factors responsible for that were the annual life history and inbreeding reproductive system (F-IS=0.261 or 0.344) of the plant, and recent genetic bottlenecks in populations due to degrading habitats. The F statistics calculated by different approaches consistently revealed a high genetic differentiation among populations, with the proportion of genetic differentiation among populations accounting for >35% of the total genetic diversity (G(ST) = 0.367, theta(B) = 0.371 and F = 0.410). The evident population structure of N. tetragona could be due to self-fertilizing reproduction, restricted gene flow (Nm = 0.424, M = 0.376) and genetic drift. These results are discussed in relation to both in situ and ex situ efforts to conserve this species. (C) 2016 Elsevier B.V. All rights reserved.']"
      ]
     },
     "execution_count": 5,
     "metadata": {},
     "output_type": "execute_result"
    }
   ],
   "source": [
    "print(type(y[9]))\n",
    "x[:5]"
   ]
  },
  {
   "cell_type": "code",
   "execution_count": 9,
   "id": "273e918f",
   "metadata": {},
   "outputs": [],
   "source": [
    "# split data\n",
    "\n",
    "from sklearn.model_selection import train_test_split\n",
    "\n",
    "x_train, x_test, y_train, y_test = train_test_split(x, y, test_size=0.20, random_state=42, stratify=y)"
   ]
  },
  {
   "cell_type": "code",
   "execution_count": 10,
   "id": "f1d0f18f",
   "metadata": {},
   "outputs": [
    {
     "name": "stdout",
     "output_type": "stream",
     "text": [
      "301054 301054 75264 75264\n"
     ]
    }
   ],
   "source": [
    "print(len(x_train), len(y_train), len(x_test), len(y_test))"
   ]
  },
  {
   "cell_type": "code",
   "execution_count": 11,
   "id": "80fc145b",
   "metadata": {},
   "outputs": [
    {
     "name": "stdout",
     "output_type": "stream",
     "text": [
      "Counter({0: 74351, 1: 913})\n"
     ]
    }
   ],
   "source": [
    "from collections import Counter\n",
    "\n",
    "counter = Counter()\n",
    "\n",
    "for _ in y_test:\n",
    "    counter[_] +=1\n",
    "\n",
    "print(counter)"
   ]
  },
  {
   "cell_type": "code",
   "execution_count": 13,
   "id": "220b21e7",
   "metadata": {},
   "outputs": [],
   "source": [
    "from imblearn.pipeline import make_pipeline \n",
    "\n",
    "from embetter.text import SentenceEncoder\n",
    "\n",
    "from sklearn.linear_model import LogisticRegression\n",
    "\n",
    "from sklearn.model_selection import cross_val_predict, StratifiedKFold\n",
    "\n",
    "from sklearn.metrics import recall_score, precision_score, f1_score\n",
    "from sklearn.metrics import log_loss\n",
    "from sklearn.metrics import confusion_matrix\n",
    "\n",
    "from tqdm import tqdm\n",
    "\n",
    "def train_eval_model(x_train, y_train, x_test, y_test, kfold, embedding_model):\n",
    "    \n",
    "    \"\"\"\"\n",
    "    Train and test model   \n",
    "    Parameters:\n",
    "    -----------\n",
    "    x_train, x_test: list of strings -> raw text to create embeddings\n",
    "    y_train_y_test: array -> binary labels\n",
    "    kfold: int -> indicating number of folds for cross validation\n",
    "    embedding_model: string - > instantiation of embedding model\n",
    "    random_state: int -> seed\n",
    "\n",
    "    Returns:\n",
    "    --------\n",
    "    Model object.\n",
    "    Dictionary with scores.\n",
    "    Aray of predictions and predicted probabilities.\n",
    "    Log losss values for test and train set.\n",
    "    \n",
    "    \"\"\"\n",
    "    pipeline = make_pipeline(\n",
    "        SentenceEncoder(embedding_model),\n",
    "        LogisticRegression(solver='liblinear', \n",
    "                            class_weight=class_weight_dict, \n",
    "                            random_state=42)\n",
    "    )\n",
    "    \n",
    "    #train model\n",
    "    print(\"performing cross-validation\")\n",
    "    y_train_pred_cv = cross_val_predict(pipeline, \n",
    "                                        x_train, \n",
    "                                        y_train, \n",
    "                                        cv=StratifiedKFold(kfold), \n",
    "                                        method='predict') \n",
    "    print(\"fitting the model\")\n",
    "    pipeline.fit(x_train, y_train)\n",
    "    \n",
    "    # make predictions\n",
    "    print(\"making predictions\")\n",
    "    # y_train_pred = pipeline.predict(x_train)\n",
    "\n",
    "    # y_test_pred = pipeline.predict(x_test)\n",
    "    \n",
    "    # y_train_pred_proba = pipeline.predict_proba(x_train) \n",
    "    \n",
    "    # y_test_pred_proba = pipeline.predict_proba(x_test)  \n",
    "    \n",
    "    y_train_pred = list(tqdm(pipeline.predict(x_train), desc=\"predicting on training set\"))\n",
    "    y_test_pred = list(tqdm(pipeline.predict(x_test), desc=\"predicting on test set\"))\n",
    "    \n",
    "    y_train_pred_proba = np.array(list(tqdm(pipeline.predict_proba(x_train), desc=\"predicting probabilities on training set\")))\n",
    "    y_test_pred_proba = np.array(list(tqdm(pipeline.predict_proba(x_test), desc=\"predicting probabilities on test set\")))\n",
    "    \n",
    "    # log loss \n",
    "    logloss_tr = log_loss(y_train, y_train_pred_proba) \n",
    "    \n",
    "    logloss_ts = log_loss(y_test, y_test_pred_proba)\n",
    "    \n",
    "    # model object -svm / logreg-\n",
    "    model = pipeline.steps[-1][1]\n",
    "    \n",
    "    # confusion matrix \n",
    "    cm_tr = confusion_matrix(y_train, pipeline.predict(x_train)) \n",
    "    cm_ts = confusion_matrix(y_test, pipeline.predict(x_test)) \n",
    "    \n",
    "     # get model scores \n",
    "    scores = {\n",
    "        'Embedding_model': embedding_model,\n",
    "        'CV': kfold,\n",
    "        'F1_tr_cv': round(f1_score(y_train, y_train_pred_cv), 3),\n",
    "        'F1_tr': round(f1_score(y_train, y_train_pred), 3),\n",
    "        'F1_ts': round(f1_score(y_test, y_test_pred), 3),\n",
    "        'Precision_tr_cv': round(precision_score(y_train, y_train_pred_cv), 3),\n",
    "        'Precision_tr': round(precision_score(y_train, y_train_pred), 3),\n",
    "        'Precision_ts': round(precision_score(y_test, y_test_pred), 3),\n",
    "        'Recall_tr_cv': round(recall_score(y_train, y_train_pred_cv), 3),\n",
    "        'Recall_tr': round(recall_score(y_train, y_train_pred), 3),\n",
    "        'Recall_ts': round(recall_score(y_test, y_test_pred), 3)\n",
    "        }\n",
    "    \n",
    "    return model, scores, y_train_pred, y_test_pred, y_train_pred_proba, y_test_pred_proba, logloss_tr, logloss_ts, cm_tr, cm_ts"
   ]
  },
  {
   "cell_type": "code",
   "execution_count": null,
   "id": "80c8dfa6",
   "metadata": {},
   "outputs": [],
   "source": [
    "model_mpnet = 'paraphrase-multilingual-mpnet-base-v2'\n",
    "model_distill = 'distiluse-base-multilingual-cased-v1'"
   ]
  },
  {
   "cell_type": "code",
   "execution_count": 14,
   "id": "e282e2ec",
   "metadata": {},
   "outputs": [
    {
     "name": "stdout",
     "output_type": "stream",
     "text": [
      "performing cross-validation\n",
      "fitting the model\n",
      "making predictions\n"
     ]
    },
    {
     "name": "stderr",
     "output_type": "stream",
     "text": [
      "predicting on training set: 100%|██████████| 301054/301054 [00:00<00:00, 2175510.53it/s]\n",
      "predicting on test set: 100%|██████████| 75264/75264 [00:00<00:00, 703291.43it/s]\n",
      "predicting probabilities on training set: 100%|██████████| 301054/301054 [00:00<00:00, 1394382.10it/s]\n",
      "predicting probabilities on test set: 100%|██████████| 75264/75264 [00:00<00:00, 886500.30it/s]\n"
     ]
    }
   ],
   "source": [
    "model, scores, y_train_pred, y_test_pred, y_train_pred_proba, y_test_pred_proba, logloss_tr, logloss_ts, cm_tr, cm_ts = train_eval_model(x_train, y_train, x_test, y_test, 5, 'paraphrase-multilingual-mpnet-base-v2')"
   ]
  },
  {
   "cell_type": "code",
   "execution_count": 15,
   "id": "1feefdc0",
   "metadata": {},
   "outputs": [
    {
     "data": {
      "text/plain": [
       "{'Embedding_model': 'paraphrase-multilingual-mpnet-base-v2',\n",
       " 'CV': 5,\n",
       " 'F1_tr_cv': 0.138,\n",
       " 'F1_tr': 0.146,\n",
       " 'F1_ts': 0.142,\n",
       " 'Precision_tr_cv': 0.075,\n",
       " 'Precision_tr': 0.079,\n",
       " 'Precision_ts': 0.077,\n",
       " 'Recall_tr_cv': 0.845,\n",
       " 'Recall_tr': 0.901,\n",
       " 'Recall_ts': 0.865}"
      ]
     },
     "execution_count": 15,
     "metadata": {},
     "output_type": "execute_result"
    }
   ],
   "source": [
    "scores"
   ]
  },
  {
   "cell_type": "code",
   "execution_count": 20,
   "id": "36fd9c13",
   "metadata": {},
   "outputs": [
    {
     "data": {
      "text/plain": [
       "array([[64905,  9446],\n",
       "       [  123,   790]])"
      ]
     },
     "execution_count": 20,
     "metadata": {},
     "output_type": "execute_result"
    }
   ],
   "source": [
    "cm_ts"
   ]
  },
  {
   "cell_type": "code",
   "execution_count": 22,
   "id": "266b7208",
   "metadata": {},
   "outputs": [
    {
     "data": {
      "text/plain": [
       "75264"
      ]
     },
     "execution_count": 22,
     "metadata": {},
     "output_type": "execute_result"
    }
   ],
   "source": [
    "len(y_test)"
   ]
  },
  {
   "cell_type": "code",
   "execution_count": 36,
   "id": "a1daa42c",
   "metadata": {},
   "outputs": [
    {
     "data": {
      "text/plain": [
       "0.3048401435824959"
      ]
     },
     "execution_count": 36,
     "metadata": {},
     "output_type": "execute_result"
    }
   ],
   "source": [
    "logloss_tr"
   ]
  },
  {
   "cell_type": "code",
   "execution_count": 37,
   "id": "01a9c14d",
   "metadata": {},
   "outputs": [
    {
     "data": {
      "text/plain": [
       "0.3025656417300697"
      ]
     },
     "execution_count": 37,
     "metadata": {},
     "output_type": "execute_result"
    }
   ],
   "source": [
    "logloss_ts"
   ]
  },
  {
   "cell_type": "code",
   "execution_count": 34,
   "id": "ac4eda81",
   "metadata": {},
   "outputs": [],
   "source": [
    "# save to disk\n",
    "\n",
    "import mpu\n",
    "\n",
    "mpu.io.write('../results/model_baseline.pickle', model)\n",
    "\n",
    "pl.DataFrame(scores).write_csv('../results/model_baseline_logreg.csv')\n",
    "pl.DataFrame(y_train_pred_proba).write_csv('../results/logreg_y_train_pred_proba.csv')\n",
    "pl.DataFrame(y_test_pred_proba).write_csv('../results/logreg_y_test_pred_proba.csv')\n",
    "pl.DataFrame(y_train_pred).write_csv('../results/logreg_y_train_pred.csv')\n",
    "pl.DataFrame(y_test_pred).write_csv('../results/logreg_y_test_pred.csv')\n",
    "pl.DataFrame(cm_tr).write_csv('../results/logreg_cm_tr.csv')\n",
    "pl.DataFrame(cm_ts).write_csv('../results/logreg_cm_ts.csv')"
   ]
  },
  {
   "cell_type": "markdown",
   "id": "41c3583b",
   "metadata": {},
   "source": []
  }
 ],
 "metadata": {
  "kernelspec": {
   "display_name": ".venv (3.11.3)",
   "language": "python",
   "name": "python3"
  },
  "language_info": {
   "codemirror_mode": {
    "name": "ipython",
    "version": 3
   },
   "file_extension": ".py",
   "mimetype": "text/x-python",
   "name": "python",
   "nbconvert_exporter": "python",
   "pygments_lexer": "ipython3",
   "version": "3.11.3"
  }
 },
 "nbformat": 4,
 "nbformat_minor": 5
}
