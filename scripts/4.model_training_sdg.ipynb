{
 "cells": [
  {
   "cell_type": "markdown",
   "id": "a1248722",
   "metadata": {},
   "source": [
    "# read data"
   ]
  },
  {
   "cell_type": "code",
   "execution_count": 1,
   "id": "1eeb8ed0",
   "metadata": {},
   "outputs": [
    {
     "name": "stdout",
     "output_type": "stream",
     "text": [
      "376318\n",
      "376318\n",
      "376318\n"
     ]
    },
    {
     "data": {
      "text/plain": [
       "{0: 0.5061371064276203, 1: 41.23580977427131}"
      ]
     },
     "execution_count": 1,
     "metadata": {},
     "output_type": "execute_result"
    }
   ],
   "source": [
    "# read data\n",
    "\n",
    "import polars as pl\n",
    "\n",
    "corpus = pl.read_parquet('../data/outputs_similarity_matches/corpus.parquet')\n",
    "print(len(corpus))\n",
    "\n",
    "# define x and y\n",
    "\n",
    "x = list(corpus['title'] + ' ' + corpus['abstract'])\n",
    "y = list(corpus['label'])\n",
    "print(len(x)), print(len(y))\n",
    "\n",
    "# calculate weights\n",
    "\n",
    "from sklearn.utils.class_weight import compute_class_weight\n",
    "import numpy as np\n",
    "\n",
    "classes = np.unique(y)\n",
    "weights = compute_class_weight('balanced', classes=classes, y=y)\n",
    "class_weight_dict = dict(zip(classes, weights))\n",
    "class_weight_dict"
   ]
  },
  {
   "cell_type": "code",
   "execution_count": null,
   "id": "00ce825e",
   "metadata": {},
   "outputs": [],
   "source": []
  },
  {
   "cell_type": "code",
   "execution_count": null,
   "id": "6c2d1aa6",
   "metadata": {},
   "outputs": [],
   "source": [
    "x = [\n",
    "        \"The new album from the popular band topped the music charts.\",\n",
    "        \"The television series received critical acclaim for its storytelling.\",\n",
    "        \"The actor won an award for their outstanding performance in the film.\",\n",
    "        \"The music festival attracted thousands of fans from around the world.\",\n",
    "        \"The art exhibition features works from renowned contemporary artists.\",\n",
    "        \"The comedian's stand-up special is now available on streaming platforms.\",\n",
    "        \"The video game has become a global phenomenon with millions of players.\",\n",
    "        \"The celebrity announced their engagement on social media.\",\n",
    "        \"The theme park is launching a new ride for the summer season.\"]\n",
    "\n",
    "y = [0,1,0,1,0,0,0,0,0]\n",
    "\n",
    "# calculate weights\n",
    "\n",
    "from sklearn.utils.class_weight import compute_class_weight\n",
    "import numpy as np\n",
    "\n",
    "classes = np.unique(y)\n",
    "weights = compute_class_weight('balanced', classes=classes, y=y)\n",
    "class_weight_dict = dict(zip(classes, weights))\n",
    "class_weight_dict"
   ]
  },
  {
   "cell_type": "code",
   "execution_count": 2,
   "id": "9d24d49a",
   "metadata": {},
   "outputs": [
    {
     "name": "stderr",
     "output_type": "stream",
     "text": [
      "/Users/uqvberde/Dropbox/translate/3.classifier_multiling/.venv/lib/python3.11/site-packages/tqdm/auto.py:21: TqdmWarning: IProgress not found. Please update jupyter and ipywidgets. See https://ipywidgets.readthedocs.io/en/stable/user_install.html\n",
      "  from .autonotebook import tqdm as notebook_tqdm\n"
     ]
    }
   ],
   "source": [
    "from imblearn.pipeline import make_pipeline \n",
    "from embetter.text import SentenceEncoder\n",
    "from sklearn.linear_model import SGDClassifier\n",
    "\n",
    "from sklearn.model_selection import cross_val_predict, StratifiedKFold\n",
    "from sklearn.metrics import recall_score, precision_score, f1_score\n",
    "from sklearn.metrics import confusion_matrix\n",
    "\n",
    "from tqdm import tqdm\n",
    "import numpy as np\n",
    "import time\n",
    "\n",
    "def train_eval_model(x_train, y_train, x_test, y_test, kfold, embedding_model):\n",
    "    \n",
    "    \"\"\"\"\n",
    "    Train and test model   \n",
    "    Parameters:\n",
    "    -----------\n",
    "    x_train, x_test: list of strings -> raw text to create embeddings\n",
    "    y_train_y_test: array -> binary labels\n",
    "    kfold: int -> indicating number of folds for cross validation\n",
    "    embedding_model: string - > instantiation of embedding model\n",
    "    random_state: int -> seed\n",
    "    C: int -> strength of regularisation parametre\n",
    "\n",
    "    Returns:\n",
    "    --------\n",
    "    Model object.\n",
    "    Dictionary with scores.\n",
    "    Aray of predictions and predicted probabilities.\n",
    "    Log losss values for test and train set.\n",
    "    \n",
    "    \"\"\"\n",
    "    pipeline = make_pipeline(\n",
    "        SentenceEncoder(embedding_model),\n",
    "        SGDClassifier(loss='hinge',         # svm\n",
    "                      max_iter=5,           # epochs\n",
    "                      learning_rate='optimal',\n",
    "                      n_iter_no_change=2,   # number of iterations with no improvement to wait before stopping fitting\n",
    "                      class_weight=class_weight_dict,\n",
    "                      random_state=42,\n",
    "                      n_jobs=6,             # number of CPUs to use\n",
    "                      verbose=1 \n",
    "            )\n",
    "    )\n",
    "    \n",
    "    # Perform cross-validation with time tracking\n",
    "    print(\"Performing cross-validation\")\n",
    "    skf = StratifiedKFold(n_splits=kfold)\n",
    "\n",
    "    y_train_pred_cv = np.zeros(len(y_train))\n",
    "\n",
    "    for fold, (train_idx, val_idx) in enumerate(skf.split(x_train, y_train), 1):\n",
    "        print(f\"Starting fold {fold}\")\n",
    "        start_time = time.time()\n",
    "        \n",
    "        # Fit on training fold\n",
    "        pipeline.fit([x_train[i] for i in train_idx], [y_train[i] for i in train_idx])\n",
    "        \n",
    "        # Predict on validation fold\n",
    "        y_train_pred_cv[val_idx] = pipeline.predict([x_train[i] for i in val_idx])\n",
    "        \n",
    "        end_time = time.time()\n",
    "        duration = end_time - start_time\n",
    "        print(f\"Finished fold {fold} in {duration:.2f} seconds\")\n",
    "    \n",
    "    print(\"Fitting the final model\")\n",
    "    pipeline.fit(x_train, y_train)\n",
    "    \n",
    "    # make predictions\n",
    "    print(\"Making predictions\")\n",
    "    y_train_pred = list(tqdm(pipeline.predict(x_train), desc=\"Predicting on training set\"))\n",
    "    y_test_pred = list(tqdm(pipeline.predict(x_test), desc=\"Predicting on test set\"))\n",
    "    \n",
    "    # model object -svm / logreg-\n",
    "    model = pipeline.steps[-1][1]  \n",
    "\n",
    "    # get model scores \n",
    "    scores = {\n",
    "        'CV': kfold,\n",
    "        'F1_tr_cv': round(f1_score(y_train, y_train_pred_cv), 3),\n",
    "        'F1_tr': round(f1_score(y_train, y_train_pred), 3),\n",
    "        'F1_ts': round(f1_score(y_test, y_test_pred), 3),\n",
    "        'Precision_tr_cv': round(precision_score(y_train, y_train_pred_cv), 3),\n",
    "        'Precision_tr': round(precision_score(y_train, y_train_pred), 3),\n",
    "        'Precision_ts': round(precision_score(y_test, y_test_pred), 3),\n",
    "        'Recall_tr_cv': round(recall_score(y_train, y_train_pred_cv), 3),\n",
    "        'Recall_tr': round(recall_score(y_train, y_train_pred), 3),\n",
    "        'Recall_ts': round(recall_score(y_test, y_test_pred), 3)\n",
    "        }\n",
    "    \n",
    "    print(f'Confusion matrix train set:\\n{confusion_matrix(y_train, pipeline.predict(x_train))}')\n",
    "    print(f'Confusion matrix test set:\\n{confusion_matrix(y_test, pipeline.predict(x_test))}') \n",
    " \n",
    "    return scores, y_train_pred, y_test_pred, model"
   ]
  },
  {
   "cell_type": "code",
   "execution_count": 3,
   "id": "d175dd24",
   "metadata": {},
   "outputs": [
    {
     "data": {
      "text/plain": [
       "(301054, 75264)"
      ]
     },
     "execution_count": 3,
     "metadata": {},
     "output_type": "execute_result"
    }
   ],
   "source": [
    "from sklearn.model_selection import train_test_split\n",
    "\n",
    "x_train, x_test, y_train, y_test = train_test_split(x, y, test_size=0.20, random_state=42, stratify=y)\n",
    "len(x_train), len(x_test)"
   ]
  },
  {
   "cell_type": "code",
   "execution_count": 4,
   "id": "9406f60a",
   "metadata": {},
   "outputs": [
    {
     "name": "stdout",
     "output_type": "stream",
     "text": [
      "Performing cross-validation\n",
      "Starting fold 1\n",
      "-- Epoch 1\n",
      "Norm: 48.80, NNZs: 768, Bias: -23.461583, T: 240843, Avg. loss: 4.364508\n",
      "Total training time: 0.25 seconds.\n",
      "-- Epoch 2\n",
      "Norm: 33.95, NNZs: 768, Bias: -12.626407, T: 481686, Avg. loss: 0.826260\n",
      "Total training time: 0.50 seconds.\n",
      "-- Epoch 3\n",
      "Norm: 28.89, NNZs: 768, Bias: -9.825129, T: 722529, Avg. loss: 0.631117\n",
      "Total training time: 0.75 seconds.\n",
      "-- Epoch 4\n",
      "Norm: 26.55, NNZs: 768, Bias: -8.115728, T: 963372, Avg. loss: 0.547474\n",
      "Total training time: 1.01 seconds.\n",
      "-- Epoch 5\n",
      "Norm: 24.89, NNZs: 768, Bias: -7.077434, T: 1204215, Avg. loss: 0.478720\n",
      "Total training time: 1.27 seconds.\n"
     ]
    },
    {
     "name": "stderr",
     "output_type": "stream",
     "text": [
      "/Users/uqvberde/Dropbox/translate/3.classifier_multiling/.venv/lib/python3.11/site-packages/sklearn/linear_model/_stochastic_gradient.py:738: ConvergenceWarning: Maximum number of iteration reached before convergence. Consider increasing max_iter to improve the fit.\n",
      "  warnings.warn(\n"
     ]
    },
    {
     "name": "stdout",
     "output_type": "stream",
     "text": [
      "Finished fold 1 in 1730.79 seconds\n",
      "Starting fold 2\n",
      "-- Epoch 1\n",
      "Norm: 51.05, NNZs: 768, Bias: -24.606095, T: 240843, Avg. loss: 4.295647\n",
      "Total training time: 0.24 seconds.\n",
      "-- Epoch 2\n",
      "Norm: 33.08, NNZs: 768, Bias: -14.045523, T: 481686, Avg. loss: 0.801592\n",
      "Total training time: 0.49 seconds.\n",
      "-- Epoch 3\n",
      "Norm: 28.58, NNZs: 768, Bias: -9.735281, T: 722529, Avg. loss: 0.615612\n",
      "Total training time: 0.73 seconds.\n",
      "-- Epoch 4\n",
      "Norm: 26.52, NNZs: 768, Bias: -7.588107, T: 963372, Avg. loss: 0.521560\n",
      "Total training time: 0.98 seconds.\n",
      "-- Epoch 5\n",
      "Norm: 25.06, NNZs: 768, Bias: -7.402012, T: 1204215, Avg. loss: 0.489844\n",
      "Total training time: 1.22 seconds.\n"
     ]
    },
    {
     "name": "stderr",
     "output_type": "stream",
     "text": [
      "/Users/uqvberde/Dropbox/translate/3.classifier_multiling/.venv/lib/python3.11/site-packages/sklearn/linear_model/_stochastic_gradient.py:738: ConvergenceWarning: Maximum number of iteration reached before convergence. Consider increasing max_iter to improve the fit.\n",
      "  warnings.warn(\n"
     ]
    },
    {
     "name": "stdout",
     "output_type": "stream",
     "text": [
      "Finished fold 2 in 3863.17 seconds\n",
      "Starting fold 3\n",
      "-- Epoch 1\n",
      "Norm: 49.31, NNZs: 768, Bias: -23.511032, T: 240843, Avg. loss: 4.120446\n",
      "Total training time: 0.26 seconds.\n",
      "-- Epoch 2\n",
      "Norm: 34.09, NNZs: 768, Bias: -13.417673, T: 481686, Avg. loss: 0.816942\n",
      "Total training time: 0.51 seconds.\n",
      "-- Epoch 3\n",
      "Norm: 28.82, NNZs: 768, Bias: -9.828206, T: 722529, Avg. loss: 0.603001\n",
      "Total training time: 0.77 seconds.\n",
      "-- Epoch 4\n",
      "Norm: 26.30, NNZs: 768, Bias: -8.183595, T: 963372, Avg. loss: 0.523062\n",
      "Total training time: 1.03 seconds.\n",
      "-- Epoch 5\n",
      "Norm: 25.08, NNZs: 768, Bias: -7.157042, T: 1204215, Avg. loss: 0.492730\n",
      "Total training time: 1.29 seconds.\n"
     ]
    },
    {
     "name": "stderr",
     "output_type": "stream",
     "text": [
      "/Users/uqvberde/Dropbox/translate/3.classifier_multiling/.venv/lib/python3.11/site-packages/sklearn/linear_model/_stochastic_gradient.py:738: ConvergenceWarning: Maximum number of iteration reached before convergence. Consider increasing max_iter to improve the fit.\n",
      "  warnings.warn(\n"
     ]
    },
    {
     "name": "stdout",
     "output_type": "stream",
     "text": [
      "Finished fold 3 in 2235.77 seconds\n",
      "Starting fold 4\n",
      "-- Epoch 1\n",
      "Norm: 50.16, NNZs: 768, Bias: -23.320334, T: 240843, Avg. loss: 4.054760\n",
      "Total training time: 0.24 seconds.\n",
      "-- Epoch 2\n",
      "Norm: 34.29, NNZs: 768, Bias: -14.296457, T: 481686, Avg. loss: 0.827502\n",
      "Total training time: 0.49 seconds.\n",
      "-- Epoch 3\n",
      "Norm: 29.09, NNZs: 768, Bias: -9.711394, T: 722529, Avg. loss: 0.623602\n",
      "Total training time: 0.74 seconds.\n",
      "-- Epoch 4\n",
      "Norm: 26.40, NNZs: 768, Bias: -8.310311, T: 963372, Avg. loss: 0.530295\n",
      "Total training time: 1.00 seconds.\n",
      "-- Epoch 5\n",
      "Norm: 24.99, NNZs: 768, Bias: -7.421527, T: 1204215, Avg. loss: 0.493675\n",
      "Total training time: 1.26 seconds.\n"
     ]
    },
    {
     "name": "stderr",
     "output_type": "stream",
     "text": [
      "/Users/uqvberde/Dropbox/translate/3.classifier_multiling/.venv/lib/python3.11/site-packages/sklearn/linear_model/_stochastic_gradient.py:738: ConvergenceWarning: Maximum number of iteration reached before convergence. Consider increasing max_iter to improve the fit.\n",
      "  warnings.warn(\n"
     ]
    },
    {
     "name": "stdout",
     "output_type": "stream",
     "text": [
      "Finished fold 4 in 1841.80 seconds\n",
      "Starting fold 5\n",
      "-- Epoch 1\n",
      "Norm: 51.59, NNZs: 768, Bias: -24.933665, T: 240844, Avg. loss: 4.585689\n",
      "Total training time: 0.25 seconds.\n",
      "-- Epoch 2\n",
      "Norm: 34.49, NNZs: 768, Bias: -14.069610, T: 481688, Avg. loss: 0.844360\n",
      "Total training time: 0.51 seconds.\n",
      "-- Epoch 3\n",
      "Norm: 29.45, NNZs: 768, Bias: -10.590814, T: 722532, Avg. loss: 0.621153\n",
      "Total training time: 0.77 seconds.\n",
      "-- Epoch 4\n",
      "Norm: 26.64, NNZs: 768, Bias: -8.312561, T: 963376, Avg. loss: 0.525965\n",
      "Total training time: 1.02 seconds.\n",
      "-- Epoch 5\n",
      "Norm: 24.98, NNZs: 768, Bias: -7.121520, T: 1204220, Avg. loss: 0.476215\n",
      "Total training time: 1.27 seconds.\n"
     ]
    },
    {
     "name": "stderr",
     "output_type": "stream",
     "text": [
      "/Users/uqvberde/Dropbox/translate/3.classifier_multiling/.venv/lib/python3.11/site-packages/sklearn/linear_model/_stochastic_gradient.py:738: ConvergenceWarning: Maximum number of iteration reached before convergence. Consider increasing max_iter to improve the fit.\n",
      "  warnings.warn(\n"
     ]
    },
    {
     "name": "stdout",
     "output_type": "stream",
     "text": [
      "Finished fold 5 in 1728.62 seconds\n",
      "Fitting the final model\n",
      "-- Epoch 1\n",
      "Norm: 43.60, NNZs: 768, Bias: -19.490344, T: 301054, Avg. loss: 3.654130\n",
      "Total training time: 0.30 seconds.\n",
      "-- Epoch 2\n",
      "Norm: 30.15, NNZs: 768, Bias: -12.329048, T: 602108, Avg. loss: 0.713228\n",
      "Total training time: 0.61 seconds.\n",
      "-- Epoch 3\n",
      "Norm: 26.66, NNZs: 768, Bias: -8.310700, T: 903162, Avg. loss: 0.554633\n",
      "Total training time: 0.93 seconds.\n",
      "-- Epoch 4\n",
      "Norm: 24.02, NNZs: 768, Bias: -7.712512, T: 1204216, Avg. loss: 0.492060\n",
      "Total training time: 1.25 seconds.\n",
      "-- Epoch 5\n",
      "Norm: 22.74, NNZs: 768, Bias: -6.514829, T: 1505270, Avg. loss: 0.452196\n",
      "Total training time: 1.58 seconds.\n",
      "Making predictions\n"
     ]
    },
    {
     "name": "stderr",
     "output_type": "stream",
     "text": [
      "/Users/uqvberde/Dropbox/translate/3.classifier_multiling/.venv/lib/python3.11/site-packages/sklearn/linear_model/_stochastic_gradient.py:738: ConvergenceWarning: Maximum number of iteration reached before convergence. Consider increasing max_iter to improve the fit.\n",
      "  warnings.warn(\n",
      "Predicting on training set: 100%|██████████| 301054/301054 [00:00<00:00, 1384614.87it/s]\n",
      "Predicting on test set: 100%|██████████| 75264/75264 [00:00<00:00, 1151066.90it/s]\n"
     ]
    },
    {
     "name": "stdout",
     "output_type": "stream",
     "text": [
      "Confusion matrix train set:\n",
      "[[265147  32257]\n",
      " [   710   2940]]\n",
      "Confusion matrix test set:\n",
      "[[66342  8009]\n",
      " [  193   720]]\n"
     ]
    }
   ],
   "source": [
    "scores, y_train_pred, y_test_pred, model = train_eval_model(x_train, y_train, x_test, y_test, 5, 'paraphrase-multilingual-mpnet-base-v2')"
   ]
  },
  {
   "cell_type": "code",
   "execution_count": 8,
   "id": "e445f0b9",
   "metadata": {},
   "outputs": [
    {
     "data": {
      "text/plain": [
       "{'CV': 5,\n",
       " 'F1_tr_cv': 0.09,\n",
       " 'F1_tr': 0.151,\n",
       " 'F1_ts': 0.149,\n",
       " 'Precision_tr_cv': 0.048,\n",
       " 'Precision_tr': 0.084,\n",
       " 'Precision_ts': 0.082,\n",
       " 'Recall_tr_cv': 0.908,\n",
       " 'Recall_tr': 0.805,\n",
       " 'Recall_ts': 0.789}"
      ]
     },
     "execution_count": 8,
     "metadata": {},
     "output_type": "execute_result"
    }
   ],
   "source": [
    "scores\n"
   ]
  },
  {
   "cell_type": "code",
   "execution_count": 9,
   "id": "63b9f54a",
   "metadata": {},
   "outputs": [
    {
     "name": "stdout",
     "output_type": "stream",
     "text": [
      "0.0\n"
     ]
    }
   ],
   "source": [
    "print(np.mean(y_test_pred == y_test))"
   ]
  },
  {
   "cell_type": "code",
   "execution_count": 10,
   "id": "d1b95dba",
   "metadata": {},
   "outputs": [],
   "source": [
    "# save to disk\n",
    "\n",
    "import mpu\n",
    "\n",
    "mpu.io.write('../results/model_baseline____.pickle', model)\n",
    "\n",
    "pl.DataFrame(scores).write_csv('../results/model_baseline___.csv')\n",
    "\n",
    "pl.DataFrame(y_train_pred).write_csv('../results/logreg_y_train_pred___.csv')\n",
    "pl.DataFrame(y_test_pred).write_csv('../results/logreg_y_test_pred___.csv')\n",
    "# pl.DataFrame(cm_tr).write_csv('../results/logreg_cm_tr.csv')\n",
    "# pl.DataFrame(cm_ts).write_csv('../results/logreg_cm_ts.csv')"
   ]
  },
  {
   "cell_type": "code",
   "execution_count": null,
   "id": "35403f22",
   "metadata": {},
   "outputs": [],
   "source": [
    "import mpu\n",
    "\n",
    "model = mpu.io.read('../results/model_baseline____.pickle')"
   ]
  },
  {
   "cell_type": "code",
   "execution_count": null,
   "id": "fe419891",
   "metadata": {},
   "outputs": [],
   "source": [
    "import polars as pl\n",
    "\n",
    "# import spanish data\n",
    "\n",
    "spa_dat = pl.read"
   ]
  },
  {
   "cell_type": "code",
   "execution_count": null,
   "id": "ceff9c36",
   "metadata": {},
   "outputs": [],
   "source": [
    "from sklearn.linear_model import SGDClassifier\n",
    "\n",
    "model.predict()"
   ]
  }
 ],
 "metadata": {
  "kernelspec": {
   "display_name": ".venv (3.11.3)",
   "language": "python",
   "name": "python3"
  },
  "language_info": {
   "codemirror_mode": {
    "name": "ipython",
    "version": 3
   },
   "file_extension": ".py",
   "mimetype": "text/x-python",
   "name": "python",
   "nbconvert_exporter": "python",
   "pygments_lexer": "ipython3",
   "version": "3.11.3"
  }
 },
 "nbformat": 4,
 "nbformat_minor": 5
}
