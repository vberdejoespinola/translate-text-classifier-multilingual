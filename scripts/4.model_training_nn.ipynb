{
 "cells": [
  {
   "cell_type": "code",
   "execution_count": null,
   "id": "44bf5b82",
   "metadata": {},
   "outputs": [],
   "source": [
    "# September 2025\n",
    "# Train multilingual classification neural network\n",
    "# Violeta Berdejo-Espinola\n",
    "\n",
    "# pytorch dataset\n",
    "# pythorch model\n",
    "# pytorch training loop"
   ]
  },
  {
   "cell_type": "code",
   "execution_count": null,
   "id": "9bbd6983",
   "metadata": {},
   "outputs": [],
   "source": [
    "%pip install torch sys matplotlib numpy"
   ]
  },
  {
   "cell_type": "code",
   "execution_count": null,
   "id": "e37be4a8",
   "metadata": {},
   "outputs": [],
   "source": [
    "import torch\n",
    "import torch.optim as optim\n",
    "\n",
    "import matplotlib.pyplot as plt\n",
    "import numpy as np\n",
    "\n",
    "import sys\n",
    "\n",
    "print('system version:', sys.version)\n",
    "print('pytorch version:', torch.__version__)\n",
    "print('numpy version:', np.version)\n",
    "\n",
    "import platform; \n",
    "\n",
    "print(f'mac processor: {platform.mac_ver()}')\n",
    "print(f'mps is available: {torch.backends.mps.is_built()}')\n",
    "device = torch.device('mps')\n",
    "print(f'device: {device}')"
   ]
  },
  {
   "cell_type": "markdown",
   "id": "f618e5b4",
   "metadata": {},
   "source": [
    "# datasets"
   ]
  },
  {
   "cell_type": "code",
   "execution_count": null,
   "id": "907abf80",
   "metadata": {},
   "outputs": [],
   "source": [
    "# define dataset function to ead all corpuses together\n",
    "\n",
    "import pickle\n",
    "from torch.utils.data import Dataset\n",
    "\n",
    "class ClassificationDataset(Dataset):\n",
    "    \n",
    "    \"\"\"\n",
    "    Args:\n",
    "        x_paths (list[str]): List of pickle file paths for X (texts).\n",
    "        y_paths (list[str]): List of pickle file paths for y (labels).\n",
    "        transform (callable, optional): Function to apply to each text sample.\n",
    "    \"\"\"\n",
    "    \n",
    "    def __init__(self, x_paths, y_paths, transform=None):\n",
    "        \n",
    "        self.X, self.y = [], []\n",
    "\n",
    "        # load and concatenate all pickles\n",
    "        for x_data, y_data in zip(x_paths, y_paths):\n",
    "            with open(x_data, \"rb\") as fx, open(y_data, \"rb\") as fy:\n",
    "                X_part = pickle.load(fx)\n",
    "                y_part = pickle.load(fy)\n",
    "\n",
    "            # checking len of x and y is the same\n",
    "            assert len(X_part) == len(y_part), f\"length mismatch in {x_data} and {y_data}\"\n",
    "\n",
    "            # store corpus in X and y list\n",
    "            self.X.extend(X_part)\n",
    "            self.y.extend(y_part)\n",
    "\n",
    "        # checking all corpuses are stored\n",
    "        assert len(self.X) == len(self.y), \"x and y have the same length\"\n",
    "        # self.transform = transform\n",
    "        \n",
    "    # number of instances in dataset\n",
    "    def __len__(self):\n",
    "        return len(self.X)\n",
    "\n",
    "    # retrieve a single instance and its label at a given index\n",
    "    def __getitem__(self, idx):\n",
    "        text, label = self.X[idx], self.y[idx]\n",
    "\n",
    "        # if self.transform:\n",
    "        #     text = self.transform(text)\n",
    "\n",
    "        return text, label"
   ]
  },
  {
   "cell_type": "code",
   "execution_count": null,
   "id": "8a414d8c",
   "metadata": {},
   "outputs": [],
   "source": [
    "# define dataset function\n",
    "\n",
    "import pickle\n",
    "import mpu\n",
    "from torch.utils.data import Dataset\n",
    "\n",
    "class TextDataset(Dataset):\n",
    "    \n",
    "    def __init__(self, texts, labels, sentence_model: SentenceTransformer):\n",
    "        \n",
    "        # load\n",
    "        self.texts = mpu.io.read(texts)\n",
    "        self.labels = mpu.io.read(labels)\n",
    "        # self.texts = texts\n",
    "        # self.labels = labels\n",
    "        self.sentence_model = sentence_model\n",
    "        \n",
    "        # Pre-compute embeddings for efficiency\n",
    "        print(\"Computing sentence embeddings...\")\n",
    "        self.embeddings = self.sentence_model.encode(texts)\n",
    "        \n",
    "    def __len__(self):\n",
    "        return len(self.texts)\n",
    "    \n",
    "    def __getitem__(self, idx):\n",
    "        return self.embeddings[idx], self.labels[idx]\n"
   ]
  },
  {
   "cell_type": "code",
   "execution_count": null,
   "id": "b6e7858a",
   "metadata": {},
   "outputs": [],
   "source": [
    "\n",
    "\n",
    "class ClassificationDataset(Dataset):\n",
    "    \n",
    "    \"\"\"\n",
    "    Args:\n",
    "        x_paths (list[str]): List of pickle file paths for X (texts).\n",
    "        y_paths (list[str]): List of pickle file paths for y (labels).\n",
    "        transform (callable, optional): Function to apply to each text sample.\n",
    "    \"\"\"\n",
    "    \n",
    "    def __init__(self, x_paths, y_paths, transform=None):\n",
    "        \n",
    "        # load\n",
    "        self.X = mpu.io.read(x_paths)\n",
    "        self.y = mpu.io.read(y_paths)\n",
    "\n",
    "        # checking X and y have the same length\n",
    "        assert len(self.X) == len(self.y), \"x and y have the same length\"\n",
    "        self.transform = transform\n",
    "        \n",
    "    # number of instances in dataset\n",
    "    def __len__(self):\n",
    "        return len(self.X)\n",
    "\n",
    "    # retrieve a single instance and its label at a given index\n",
    "    def __getitem__(self, idx):\n",
    "        text, label = self.X[idx], self.y[idx]\n",
    "\n",
    "        if self.transform:\n",
    "            text = self.transform(text)\n",
    "\n",
    "        return text, label"
   ]
  },
  {
   "cell_type": "code",
   "execution_count": null,
   "id": "b00cd0e6",
   "metadata": {},
   "outputs": [],
   "source": [
    "# create datasets\n",
    "\n",
    "filepaths_x = [\n",
    "    \"../data/for_analysis/eng_x.pickle\",\n",
    "    \"../data/for_analysis/jap_x.pickle\",\n",
    "    \"../data/for_analysis/spa_x.pickle\"\n",
    "]\n",
    "\n",
    "filepaths_y = [\n",
    "    \"../data/for_analysis/eng_y.pickle\",\n",
    "    \"../data/for_analysis/jap_y.pickle\",\n",
    "    \"../data/for_analysis/spa_y.pickle\"\n",
    "]\n",
    "\n",
    "eng_dataset = TextDataset(filepaths_x[0], filepaths_y[0], 'sentence-transformers/paraphrase-multilingual-mpnet-base-v2')\n",
    "# jap_dataset = ClassificationDataset(filepaths_x[1], filepaths_y[1])\n",
    "# spa_dataset = ClassificationDataset(filepaths_x[2], filepaths_y[2])\n",
    "\n",
    "print(len(eng_dataset), len(jap_dataset), len(spa_dataset))"
   ]
  },
  {
   "cell_type": "code",
   "execution_count": null,
   "id": "413c0e02",
   "metadata": {},
   "outputs": [],
   "source": [
    "dat = spa_dataset[:2]\n",
    "features, labels = dat\n",
    "print(features, labels) # features"
   ]
  },
  {
   "cell_type": "markdown",
   "id": "5e97f8b3",
   "metadata": {},
   "source": [
    "# split data"
   ]
  },
  {
   "cell_type": "code",
   "execution_count": null,
   "id": "035f96af",
   "metadata": {},
   "outputs": [],
   "source": [
    "from torch.utils.data import random_split\n",
    "\n",
    "train_len = 5#int(len(spa_dataset) * 0.7)\n",
    "val_len = 5545#int(len(spa_dataset) * 0.3)\n",
    "\n",
    "training_dataset, test_dataset = random_split(spa_dataset, [train_len, val_len])"
   ]
  },
  {
   "cell_type": "code",
   "execution_count": null,
   "id": "256c4b76",
   "metadata": {},
   "outputs": [],
   "source": [
    "print(f'Total dataset size: {len(spa_dataset)}')\n",
    "print(f'Training dataset size: {len(training_dataset)}')\n",
    "print(f'Validation dataset size: {len(test_dataset)}')"
   ]
  },
  {
   "cell_type": "markdown",
   "id": "299b25ae",
   "metadata": {},
   "source": [
    "# dataloaders"
   ]
  },
  {
   "cell_type": "code",
   "execution_count": null,
   "id": "05cf57ac",
   "metadata": {},
   "outputs": [],
   "source": [
    "from torch.utils.data import DataLoader\n",
    "\n",
    "batch_size = 64\n",
    "\n",
    "train_dataloader = DataLoader(training_dataset, batch_size=batch_size, shuffle=True) # normally, shuffle=True during training but not eval \n",
    "test_dataloader = DataLoader(test_dataset, batch_size=batch_size, shuffle=False)\n",
    "\n",
    "# check load\n",
    "\n",
    "for texts, labels in train_dataloader:\n",
    "    print(texts[:3])\n",
    "    print(labels[:3])\n",
    "    break"
   ]
  },
  {
   "cell_type": "code",
   "execution_count": null,
   "id": "5c6cd39d",
   "metadata": {},
   "outputs": [],
   "source": [
    "# if learning rate is too small:\n",
    "# - model goes through many iteartions to converge\n",
    "# - the loss does not change"
   ]
  },
  {
   "cell_type": "code",
   "execution_count": null,
   "id": "fd0703ed",
   "metadata": {},
   "outputs": [],
   "source": [
    "# training\n",
    "\n",
    "torch.manual_seed(42)\n",
    "\n",
    "import time\n",
    "model.train()"
   ]
  },
  {
   "cell_type": "markdown",
   "id": "cc581880",
   "metadata": {},
   "source": []
  },
  {
   "cell_type": "code",
   "execution_count": null,
   "id": "aa37337e",
   "metadata": {},
   "outputs": [],
   "source": []
  },
  {
   "cell_type": "code",
   "execution_count": null,
   "id": "d0c27dea",
   "metadata": {},
   "outputs": [],
   "source": []
  },
  {
   "cell_type": "code",
   "execution_count": null,
   "id": "50d93ff2",
   "metadata": {},
   "outputs": [],
   "source": []
  },
  {
   "cell_type": "code",
   "execution_count": 2,
   "id": "c4b03096",
   "metadata": {},
   "outputs": [
    {
     "name": "stdout",
     "output_type": "stream",
     "text": [
      "system version: 3.11.3 (v3.11.3:f3909b8bc8, Apr  4 2023, 20:12:10) [Clang 13.0.0 (clang-1300.0.29.30)]\n",
      "pytorch version: 2.6.0\n",
      "numpy version: <module 'numpy.version' from '/Users/uqvberde/Dropbox/translate/3.classifier_multiling/.venv/lib/python3.11/site-packages/numpy/version.py'>\n",
      "mac processor: ('15.6.1', ('', '', ''), 'arm64')\n",
      "mps is available: True\n",
      "using device: mps\n"
     ]
    }
   ],
   "source": [
    "import torch\n",
    "import torch.nn as nn\n",
    "import torch.optim as optim\n",
    "from torch.utils.data import Dataset, DataLoader, WeightedRandomSampler\n",
    "\n",
    "from transformers import AutoTokenizer, AutoModel, get_linear_schedule_with_warmup\n",
    "import pickle\n",
    "import numpy as np\n",
    "\n",
    "from sklearn.utils.class_weight import compute_class_weight\n",
    "from sklearn.model_selection import train_test_split\n",
    "from sklearn.metrics import classification_report, confusion_matrix, recall_score\n",
    "import matplotlib.pyplot as plt\n",
    "from collections import Counter\n",
    "from tqdm import tqdm\n",
    "\n",
    "import warnings\n",
    "warnings.filterwarnings('ignore')\n",
    "\n",
    "import sys\n",
    "\n",
    "print('system version:', sys.version)\n",
    "print('pytorch version:', torch.__version__)\n",
    "print('numpy version:', np.version)\n",
    "\n",
    "import platform; \n",
    "\n",
    "print(f'mac processor: {platform.mac_ver()}')\n",
    "print(f'mps is available: {torch.backends.mps.is_built()}')\n",
    "device = torch.device(\"mps\" if torch.backends.mps.is_available() else \"cpu\")\n",
    "print(f\"using device: {device}\")"
   ]
  },
  {
   "cell_type": "code",
   "execution_count": 5,
   "id": "758ede24",
   "metadata": {},
   "outputs": [],
   "source": [
    "# file paths\n",
    "filepaths_x = [\n",
    "    # \"../data/for_analysis/eng_x.pickle\",\n",
    "    # \"../data/for_analysis/jap_x.pickle\"\n",
    "    \"../data/for_analysis/spa_x.pickle\"\n",
    "]\n",
    "\n",
    "filepaths_y = [\n",
    "    # \"../data/for_analysis/eng_y.pickle\",\n",
    "    # \"../data/for_analysis/jap_y.pickle\"\n",
    "    \"../data/for_analysis/spa_y.pickle\"\n",
    "]"
   ]
  },
  {
   "cell_type": "code",
   "execution_count": 3,
   "id": "5434dd42",
   "metadata": {},
   "outputs": [],
   "source": [
    "# Load tokenizer and model\n",
    "tokenizer = AutoTokenizer.from_pretrained(\n",
    "    \"sentence-transformers/paraphrase-multilingual-mpnet-base-v2\"\n",
    ")\n",
    "hf_model = AutoModel.from_pretrained(\n",
    "    \"sentence-transformers/paraphrase-multilingual-mpnet-base-v2\"\n",
    ")\n",
    "hf_model = hf_model.to(device)\n",
    "\n",
    "# encode text\n",
    "def encode_texts(texts, tokenizer, model, device, max_length=512):\n",
    "    \n",
    "    # tokenize\n",
    "    inputs = tokenizer(\n",
    "        texts,\n",
    "        padding=True,\n",
    "        truncation=True,\n",
    "        max_length=max_length,\n",
    "        return_tensors=\"pt\"\n",
    "    ).to(device)\n",
    "\n",
    "    # forward pass\n",
    "    with torch.no_grad():\n",
    "        outputs = model(**inputs)\n",
    "\n",
    "    # mean pooling over token embeddings\n",
    "    token_embeddings = outputs.last_hidden_state  # (batch_size, seq_len, hidden_size)\n",
    "    attention_mask = inputs[\"attention_mask\"]\n",
    "\n",
    "    # mean pooling\n",
    "    input_mask_expanded = attention_mask.unsqueeze(-1).expand(token_embeddings.size())\n",
    "    sum_embeddings = torch.sum(token_embeddings * input_mask_expanded, 1)\n",
    "    sum_mask = torch.clamp(input_mask_expanded.sum(1), min=1e-9)\n",
    "    embeddings = sum_embeddings / sum_mask\n",
    "\n",
    "    return embeddings  # (batch_size, hidden_size)\n",
    "\n",
    "class TextDataset(Dataset):\n",
    "\n",
    "    def __init__(self, texts, labels, tokenizer, model, device, max_length=512):\n",
    "        self.texts = texts\n",
    "        self.labels = labels\n",
    "        self.tokenizer = tokenizer\n",
    "        self.model = model\n",
    "        self.device = device\n",
    "        self.max_length = max_length\n",
    "        \n",
    "    def __len__(self):\n",
    "        return len(self.texts)\n",
    "    \n",
    "    def __getitem__(self, idx):\n",
    "        text = str(self.texts[idx])\n",
    "        \n",
    "        # Get embedding for single text\n",
    "        embedding = encode_texts([text], self.tokenizer, self.model, self.device, self.max_length)\n",
    "        embedding = embedding.squeeze(0)  # Remove batch dimension\n",
    "        \n",
    "        label = torch.tensor(self.labels[idx], dtype=torch.long)\n",
    "        \n",
    "        return embedding, label\n",
    "\n",
    "class MLPClassifier(nn.Module):\n",
    "    \"\"\"Multi-layer perceptron for text classification\"\"\"\n",
    "    def __init__(self, input_dim, hidden_dims=[512, 256, 128], num_classes=2, dropout=0.3):\n",
    "        super(MLPClassifier, self).__init__()\n",
    "        \n",
    "        layers = []\n",
    "        prev_dim = input_dim\n",
    "        \n",
    "        # Hidden layers\n",
    "        for hidden_dim in hidden_dims:\n",
    "            layers.extend([\n",
    "                nn.Linear(prev_dim, hidden_dim),\n",
    "                nn.BatchNorm1d(hidden_dim),\n",
    "                nn.ReLU(),\n",
    "                nn.Dropout(dropout)\n",
    "            ])\n",
    "            prev_dim = hidden_dim\n",
    "        \n",
    "        # Output layer\n",
    "        layers.append(nn.Linear(prev_dim, num_classes))\n",
    "        \n",
    "        self.classifier = nn.Sequential(*layers)\n",
    "        \n",
    "    def forward(self, x):\n",
    "        return self.classifier(x)\n",
    "\n",
    "def load_data(filepaths_x, filepaths_y):\n",
    "    \"\"\"Load and combine multilingual data\"\"\"\n",
    "    all_texts = []\n",
    "    all_labels = []\n",
    "    \n",
    "    for fp_x, fp_y in zip(filepaths_x, filepaths_y):\n",
    "        with open(fp_x, 'rb') as f:\n",
    "            texts = pickle.load(f)\n",
    "        with open(fp_y, 'rb') as f:\n",
    "            labels = pickle.load(f)\n",
    "            \n",
    "        all_texts.extend(texts)\n",
    "        all_labels.extend(labels)\n",
    "    \n",
    "    return all_texts, all_labels\n",
    "\n",
    "def analyze_class_distribution(labels):\n",
    "    \"\"\"Analyze and visualize class distribution\"\"\"\n",
    "    counter = Counter(labels)\n",
    "    print(\"Class distribution:\")\n",
    "    for class_id, count in sorted(counter.items()):\n",
    "        print(f\"Class {class_id}: {count} samples ({count/len(labels)*100:.2f}%)\")\n",
    "    \n",
    "    # Calculate imbalance ratio\n",
    "    counts = list(counter.values())\n",
    "    imbalance_ratio = max(counts) / min(counts)\n",
    "    print(f\"Imbalance ratio: {imbalance_ratio:.2f}:1\")\n",
    "    \n",
    "    return counter\n",
    "\n",
    "def weighted_sampler(labels):  # Fixed function name\n",
    "    \"\"\"Create weighted sampler to handle class imbalance\"\"\"\n",
    "    class_counts = Counter(labels)\n",
    "    class_weights = {cls: 1.0/count for cls, count in class_counts.items()}\n",
    "    \n",
    "    sample_weights = [class_weights[label] for label in labels]\n",
    "    sampler = WeightedRandomSampler(\n",
    "        weights=sample_weights,\n",
    "        num_samples=len(sample_weights),\n",
    "        replacement=True\n",
    "    )\n",
    "    \n",
    "    return sampler\n",
    "\n",
    "def compute_loss_weights(labels):\n",
    "    \"\"\"Compute class weights for weighted loss function\"\"\"\n",
    "    unique_labels = np.unique(labels)\n",
    "    class_weights = compute_class_weight(\n",
    "        'balanced',\n",
    "        classes=unique_labels,\n",
    "        y=labels\n",
    "    )\n",
    "    \n",
    "    return torch.FloatTensor(class_weights).to(device)\n",
    "\n",
    "def train_epoch(model, dataloader, criterion, optimizer, device):\n",
    "    \"\"\"Train for one epoch\"\"\"\n",
    "    model.train()\n",
    "    total_loss = 0\n",
    "    correct = 0\n",
    "    total = 0\n",
    "    \n",
    "    for embeddings, labels in tqdm(dataloader, desc=\"Training\"):\n",
    "        embeddings, labels = embeddings.to(device), labels.to(device)\n",
    "        \n",
    "        optimizer.zero_grad()\n",
    "        outputs = model(embeddings)\n",
    "        loss = criterion(outputs, labels)\n",
    "        \n",
    "        loss.backward()\n",
    "        optimizer.step()\n",
    "        \n",
    "        total_loss += loss.item()\n",
    "        _, predicted = torch.max(outputs.data, 1)\n",
    "        total += labels.size(0)\n",
    "        correct += (predicted == labels).sum().item()\n",
    "    \n",
    "    avg_loss = total_loss / len(dataloader)\n",
    "    accuracy = 100 * correct / total\n",
    "    \n",
    "    return avg_loss, accuracy\n",
    "\n",
    "def validate_epoch(model, dataloader, criterion, device):\n",
    "    \"\"\"Validate for one epoch\"\"\"\n",
    "    model.eval()\n",
    "    total_loss = 0\n",
    "    correct = 0\n",
    "    total = 0\n",
    "    all_preds = []\n",
    "    all_labels = []\n",
    "    \n",
    "    with torch.no_grad():\n",
    "        for embeddings, labels in tqdm(dataloader, desc=\"Validation\"):\n",
    "            embeddings, labels = embeddings.to(device), labels.to(device)\n",
    "            \n",
    "            outputs = model(embeddings)\n",
    "            loss = criterion(outputs, labels)\n",
    "            \n",
    "            total_loss += loss.item()\n",
    "            _, predicted = torch.max(outputs.data, 1)\n",
    "            total += labels.size(0)\n",
    "            correct += (predicted == labels).sum().item()\n",
    "            \n",
    "            all_preds.extend(predicted.cpu().numpy())\n",
    "            all_labels.extend(labels.cpu().numpy())\n",
    "    \n",
    "    avg_loss = total_loss / len(dataloader)\n",
    "    accuracy = 100 * correct / total\n",
    "    \n",
    "    return avg_loss, accuracy, all_preds, all_labels"
   ]
  },
  {
   "cell_type": "code",
   "execution_count": null,
   "id": "9299c1c1",
   "metadata": {},
   "outputs": [
    {
     "name": "stdout",
     "output_type": "stream",
     "text": [
      "Total documents: 5550\n",
      "Class distribution:\n",
      "Class 0: 5506 samples (99.21%)\n",
      "Class 1: 44 samples (0.79%)\n",
      "Imbalance ratio: 125.14:1\n",
      "Train: 4440, Val: 555, Test: 555\n",
      "Embedding dimension: 768\n",
      "Model parameters: 560,002\n",
      "\n",
      "Training...\n",
      "\n",
      "Epoch 1/25\n"
     ]
    },
    {
     "name": "stderr",
     "output_type": "stream",
     "text": [
      "Training:   0%|          | 0/139 [00:00<?, ?it/s]huggingface/tokenizers: The current process just got forked, after parallelism has already been used. Disabling parallelism to avoid deadlocks...\n",
      "To disable this warning, you can either:\n",
      "\t- Avoid using `tokenizers` before the fork if possible\n",
      "\t- Explicitly set the environment variable TOKENIZERS_PARALLELISM=(true | false)\n",
      "Training: 100%|██████████| 139/139 [02:49<00:00,  1.22s/it]\n",
      "Validation: 100%|██████████| 18/18 [00:16<00:00,  1.07it/s]\n"
     ]
    },
    {
     "name": "stdout",
     "output_type": "stream",
     "text": [
      "Train Loss: 0.0626, Train Acc: 81.64%\n",
      "Val Loss: 0.6618, Val Acc: 71.35%\n",
      "New best validation accuracy: 71.35%\n",
      "\n",
      "Epoch 2/25\n"
     ]
    },
    {
     "name": "stderr",
     "output_type": "stream",
     "text": [
      "Training: 100%|██████████| 139/139 [01:56<00:00,  1.19it/s]\n",
      "Validation: 100%|██████████| 18/18 [00:13<00:00,  1.30it/s]\n"
     ]
    },
    {
     "name": "stdout",
     "output_type": "stream",
     "text": [
      "Train Loss: 0.0093, Train Acc: 90.23%\n",
      "Val Loss: 0.4305, Val Acc: 85.41%\n",
      "New best validation accuracy: 85.41%\n",
      "\n",
      "Epoch 3/25\n"
     ]
    },
    {
     "name": "stderr",
     "output_type": "stream",
     "text": [
      "Training: 100%|██████████| 139/139 [02:56<00:00,  1.27s/it]\n",
      "Validation: 100%|██████████| 18/18 [00:13<00:00,  1.31it/s]\n"
     ]
    },
    {
     "name": "stdout",
     "output_type": "stream",
     "text": [
      "Train Loss: 0.0050, Train Acc: 94.39%\n",
      "Val Loss: 0.3097, Val Acc: 94.41%\n",
      "New best validation accuracy: 94.41%\n",
      "\n",
      "Epoch 4/25\n"
     ]
    },
    {
     "name": "stderr",
     "output_type": "stream",
     "text": [
      "Training: 100%|██████████| 139/139 [01:56<00:00,  1.19it/s]\n",
      "Validation: 100%|██████████| 18/18 [00:13<00:00,  1.29it/s]\n"
     ]
    },
    {
     "name": "stdout",
     "output_type": "stream",
     "text": [
      "Train Loss: 0.0041, Train Acc: 95.74%\n",
      "Val Loss: 0.3701, Val Acc: 93.69%\n",
      "\n",
      "Epoch 5/25\n"
     ]
    },
    {
     "name": "stderr",
     "output_type": "stream",
     "text": [
      "Training: 100%|██████████| 139/139 [03:49<00:00,  1.65s/it]\n",
      "Validation: 100%|██████████| 18/18 [00:34<00:00,  1.94s/it]\n"
     ]
    },
    {
     "name": "stdout",
     "output_type": "stream",
     "text": [
      "Train Loss: 0.0032, Train Acc: 97.00%\n",
      "Val Loss: 0.3456, Val Acc: 94.95%\n",
      "New best validation accuracy: 94.95%\n",
      "\n",
      "Epoch 6/25\n"
     ]
    },
    {
     "name": "stderr",
     "output_type": "stream",
     "text": [
      "Training: 100%|██████████| 139/139 [04:15<00:00,  1.84s/it]\n",
      "Validation: 100%|██████████| 18/18 [00:34<00:00,  1.92s/it]\n"
     ]
    },
    {
     "name": "stdout",
     "output_type": "stream",
     "text": [
      "Train Loss: 0.0056, Train Acc: 95.05%\n",
      "Val Loss: 0.4084, Val Acc: 89.19%\n",
      "\n",
      "Epoch 7/25\n"
     ]
    },
    {
     "name": "stderr",
     "output_type": "stream",
     "text": [
      "Training: 100%|██████████| 139/139 [02:13<00:00,  1.04it/s]\n",
      "Validation: 100%|██████████| 18/18 [00:19<00:00,  1.10s/it]\n"
     ]
    },
    {
     "name": "stdout",
     "output_type": "stream",
     "text": [
      "Train Loss: 0.0062, Train Acc: 93.13%\n",
      "Val Loss: 0.4340, Val Acc: 91.89%\n",
      "\n",
      "Epoch 8/25\n"
     ]
    },
    {
     "name": "stderr",
     "output_type": "stream",
     "text": [
      "Training: 100%|██████████| 139/139 [04:16<00:00,  1.85s/it]\n",
      "Validation: 100%|██████████| 18/18 [00:34<00:00,  1.91s/it]\n"
     ]
    },
    {
     "name": "stdout",
     "output_type": "stream",
     "text": [
      "Train Loss: 0.0037, Train Acc: 95.59%\n",
      "Val Loss: 0.4242, Val Acc: 94.95%\n",
      "\n",
      "Epoch 9/25\n"
     ]
    },
    {
     "name": "stderr",
     "output_type": "stream",
     "text": [
      "Training: 100%|██████████| 139/139 [04:11<00:00,  1.81s/it]\n",
      "Validation: 100%|██████████| 18/18 [00:33<00:00,  1.87s/it]\n"
     ]
    },
    {
     "name": "stdout",
     "output_type": "stream",
     "text": [
      "Train Loss: 0.0056, Train Acc: 95.29%\n",
      "Val Loss: 0.5636, Val Acc: 85.23%\n",
      "\n",
      "Epoch 10/25\n"
     ]
    },
    {
     "name": "stderr",
     "output_type": "stream",
     "text": [
      "Training: 100%|██████████| 139/139 [04:25<00:00,  1.91s/it]\n",
      "Validation: 100%|██████████| 18/18 [00:34<00:00,  1.91s/it]\n"
     ]
    },
    {
     "name": "stdout",
     "output_type": "stream",
     "text": [
      "Train Loss: 0.0037, Train Acc: 95.79%\n",
      "Val Loss: 0.6025, Val Acc: 92.97%\n",
      "\n",
      "Epoch 11/25\n"
     ]
    },
    {
     "name": "stderr",
     "output_type": "stream",
     "text": [
      "Training: 100%|██████████| 139/139 [04:14<00:00,  1.83s/it]\n",
      "Validation: 100%|██████████| 18/18 [00:13<00:00,  1.29it/s]\n"
     ]
    },
    {
     "name": "stdout",
     "output_type": "stream",
     "text": [
      "Train Loss: 0.0077, Train Acc: 93.20%\n",
      "Val Loss: 0.4502, Val Acc: 89.01%\n",
      "\n",
      "Epoch 12/25\n"
     ]
    },
    {
     "name": "stderr",
     "output_type": "stream",
     "text": [
      "Training: 100%|██████████| 139/139 [01:54<00:00,  1.21it/s]\n",
      "Validation: 100%|██████████| 18/18 [00:24<00:00,  1.38s/it]\n"
     ]
    },
    {
     "name": "stdout",
     "output_type": "stream",
     "text": [
      "Train Loss: 0.0035, Train Acc: 96.85%\n",
      "Val Loss: 0.4819, Val Acc: 96.94%\n",
      "New best validation accuracy: 96.94%\n",
      "\n",
      "Epoch 13/25\n"
     ]
    },
    {
     "name": "stderr",
     "output_type": "stream",
     "text": [
      "Training: 100%|██████████| 139/139 [03:57<00:00,  1.71s/it]\n",
      "Validation: 100%|██████████| 18/18 [00:31<00:00,  1.73s/it]\n"
     ]
    },
    {
     "name": "stdout",
     "output_type": "stream",
     "text": [
      "Train Loss: 0.0041, Train Acc: 95.77%\n",
      "Val Loss: 0.4531, Val Acc: 94.77%\n",
      "\n",
      "Epoch 14/25\n"
     ]
    },
    {
     "name": "stderr",
     "output_type": "stream",
     "text": [
      "Training: 100%|██████████| 139/139 [03:59<00:00,  1.72s/it]\n",
      "Validation: 100%|██████████| 18/18 [00:32<00:00,  1.81s/it]\n"
     ]
    },
    {
     "name": "stdout",
     "output_type": "stream",
     "text": [
      "Train Loss: 0.0020, Train Acc: 97.77%\n",
      "Val Loss: 0.4807, Val Acc: 97.30%\n",
      "New best validation accuracy: 97.30%\n",
      "\n",
      "Epoch 15/25\n"
     ]
    },
    {
     "name": "stderr",
     "output_type": "stream",
     "text": [
      "Training: 100%|██████████| 139/139 [04:03<00:00,  1.75s/it]\n",
      "Validation: 100%|██████████| 18/18 [00:32<00:00,  1.78s/it]\n"
     ]
    },
    {
     "name": "stdout",
     "output_type": "stream",
     "text": [
      "Train Loss: 0.0023, Train Acc: 97.84%\n",
      "Val Loss: 0.4316, Val Acc: 95.32%\n",
      "\n",
      "Epoch 16/25\n"
     ]
    },
    {
     "name": "stderr",
     "output_type": "stream",
     "text": [
      "Training: 100%|██████████| 139/139 [04:08<00:00,  1.78s/it]\n",
      "Validation: 100%|██████████| 18/18 [00:31<00:00,  1.77s/it]\n"
     ]
    },
    {
     "name": "stdout",
     "output_type": "stream",
     "text": [
      "Train Loss: 0.0037, Train Acc: 97.55%\n",
      "Val Loss: 0.7052, Val Acc: 97.66%\n",
      "New best validation accuracy: 97.66%\n",
      "\n",
      "Epoch 17/25\n"
     ]
    },
    {
     "name": "stderr",
     "output_type": "stream",
     "text": [
      "Training: 100%|██████████| 139/139 [04:00<00:00,  1.73s/it]\n",
      "Validation: 100%|██████████| 18/18 [00:32<00:00,  1.82s/it]\n"
     ]
    },
    {
     "name": "stdout",
     "output_type": "stream",
     "text": [
      "Train Loss: 0.0057, Train Acc: 94.26%\n",
      "Val Loss: 0.6645, Val Acc: 88.29%\n",
      "\n",
      "Epoch 18/25\n"
     ]
    },
    {
     "name": "stderr",
     "output_type": "stream",
     "text": [
      "Training: 100%|██████████| 139/139 [03:59<00:00,  1.73s/it]\n",
      "Validation: 100%|██████████| 18/18 [00:32<00:00,  1.81s/it]\n"
     ]
    },
    {
     "name": "stdout",
     "output_type": "stream",
     "text": [
      "Train Loss: 0.0026, Train Acc: 97.14%\n",
      "Val Loss: 0.5420, Val Acc: 96.04%\n",
      "\n",
      "Epoch 19/25\n"
     ]
    },
    {
     "name": "stderr",
     "output_type": "stream",
     "text": [
      "Training: 100%|██████████| 139/139 [04:06<00:00,  1.77s/it]\n",
      "Validation: 100%|██████████| 18/18 [00:32<00:00,  1.79s/it]\n"
     ]
    },
    {
     "name": "stdout",
     "output_type": "stream",
     "text": [
      "Train Loss: 0.0058, Train Acc: 94.82%\n",
      "Val Loss: 0.5293, Val Acc: 90.81%\n",
      "\n",
      "Epoch 20/25\n"
     ]
    },
    {
     "name": "stderr",
     "output_type": "stream",
     "text": [
      "Training: 100%|██████████| 139/139 [04:01<00:00,  1.74s/it]\n",
      "Validation: 100%|██████████| 18/18 [00:32<00:00,  1.79s/it]\n"
     ]
    },
    {
     "name": "stdout",
     "output_type": "stream",
     "text": [
      "Train Loss: 0.0036, Train Acc: 96.49%\n",
      "Val Loss: 0.5296, Val Acc: 93.15%\n",
      "\n",
      "Epoch 21/25\n"
     ]
    },
    {
     "name": "stderr",
     "output_type": "stream",
     "text": [
      "Training: 100%|██████████| 139/139 [04:05<00:00,  1.77s/it]\n",
      "Validation: 100%|██████████| 18/18 [00:32<00:00,  1.80s/it]\n"
     ]
    },
    {
     "name": "stdout",
     "output_type": "stream",
     "text": [
      "Train Loss: 0.0022, Train Acc: 97.55%\n",
      "Val Loss: 0.6235, Val Acc: 95.68%\n",
      "\n",
      "Epoch 22/25\n"
     ]
    },
    {
     "name": "stderr",
     "output_type": "stream",
     "text": [
      "Training: 100%|██████████| 139/139 [04:01<00:00,  1.74s/it]\n",
      "Validation: 100%|██████████| 18/18 [00:31<00:00,  1.76s/it]\n"
     ]
    },
    {
     "name": "stdout",
     "output_type": "stream",
     "text": [
      "Train Loss: 0.0014, Train Acc: 98.87%\n",
      "Val Loss: 0.6725, Val Acc: 97.12%\n",
      "\n",
      "Epoch 23/25\n"
     ]
    },
    {
     "name": "stderr",
     "output_type": "stream",
     "text": [
      "Training: 100%|██████████| 139/139 [04:01<00:00,  1.74s/it]\n",
      "Validation: 100%|██████████| 18/18 [00:32<00:00,  1.79s/it]\n"
     ]
    },
    {
     "name": "stdout",
     "output_type": "stream",
     "text": [
      "Train Loss: 0.0022, Train Acc: 98.47%\n",
      "Val Loss: 0.6392, Val Acc: 94.95%\n",
      "\n",
      "Epoch 24/25\n"
     ]
    },
    {
     "name": "stderr",
     "output_type": "stream",
     "text": [
      "Training: 100%|██████████| 139/139 [04:03<00:00,  1.75s/it]\n",
      "Validation: 100%|██████████| 18/18 [00:31<00:00,  1.77s/it]\n"
     ]
    },
    {
     "name": "stdout",
     "output_type": "stream",
     "text": [
      "Train Loss: 0.0019, Train Acc: 98.27%\n",
      "Val Loss: 0.5008, Val Acc: 95.50%\n",
      "\n",
      "Epoch 25/25\n"
     ]
    },
    {
     "name": "stderr",
     "output_type": "stream",
     "text": [
      "Training: 100%|██████████| 139/139 [04:05<00:00,  1.76s/it]\n",
      "Validation: 100%|██████████| 18/18 [00:32<00:00,  1.80s/it]\n"
     ]
    },
    {
     "name": "stdout",
     "output_type": "stream",
     "text": [
      "Train Loss: 0.0019, Train Acc: 98.22%\n",
      "Val Loss: 0.8189, Val Acc: 94.59%\n",
      "\n",
      "Evaluating on test set...\n"
     ]
    },
    {
     "name": "stderr",
     "output_type": "stream",
     "text": [
      "Validation: 100%|██████████| 18/18 [00:32<00:00,  1.78s/it]\n"
     ]
    },
    {
     "name": "stdout",
     "output_type": "stream",
     "text": [
      "\n",
      "Test Results:\n",
      "Test Loss: 0.7210\n",
      "Test Accuracy: 97.84%\n",
      "Test Recall: 0.2500\n",
      "\n",
      "Classification Report:\n",
      "              precision    recall  f1-score   support\n",
      "\n",
      "     Class 0       0.99      0.98      0.99       551\n",
      "     Class 1       0.10      0.25      0.14         4\n",
      "\n",
      "    accuracy                           0.98       555\n",
      "   macro avg       0.55      0.62      0.57       555\n",
      "weighted avg       0.99      0.98      0.98       555\n",
      "\n",
      "\n",
      "Confusion Matrix:\n",
      "[[542   9]\n",
      " [  3   1]]\n"
     ]
    },
    {
     "data": {
      "image/png": "[encoded data removed]",
      "text/plain": [
       "<Figure size 1500x500 with 4 Axes>"
      ]
     },
     "metadata": {},
     "output_type": "display_data"
    }
   ],
   "source": [
    "# training loop\n",
    "\n",
    "def main():\n",
    "    \n",
    "    texts, labels = load_data(filepaths_x, filepaths_y)\n",
    "    \n",
    "    print(f\"Total documents: {len(texts)}\")\n",
    "    \n",
    "    class_distribution = analyze_class_distribution(labels)\n",
    "    \n",
    "    # Split data\n",
    "    X_train, X_temp, y_train, y_temp = train_test_split(\n",
    "        texts, labels, test_size=0.2, random_state=42, stratify=labels\n",
    "    )\n",
    "    X_val, X_test, y_val, y_test = train_test_split(\n",
    "        X_temp, y_temp, test_size=0.5, random_state=42, stratify=y_temp\n",
    "    )\n",
    "    \n",
    "    print(f\"Train: {len(X_train)}, Val: {len(X_val)}, Test: {len(X_test)}\")\n",
    "    \n",
    "    # Create datasets\n",
    "    train_dataset = TextDataset(X_train, y_train, tokenizer, hf_model, device)\n",
    "    val_dataset = TextDataset(X_val, y_val, tokenizer, hf_model, device)\n",
    "    test_dataset = TextDataset(X_test, y_test, tokenizer, hf_model, device)\n",
    "    \n",
    "    # Create weighted sampler for training data\n",
    "    train_sampler = weighted_sampler(y_train)\n",
    "    \n",
    "    # Create data loaders\n",
    "    batch_size = 32\n",
    "    train_loader = DataLoader(\n",
    "        train_dataset, \n",
    "        batch_size=batch_size, \n",
    "        sampler=train_sampler,\n",
    "        num_workers=0  # 0 for MPS compatibility\n",
    "    )\n",
    "    val_loader = DataLoader(\n",
    "        val_dataset, \n",
    "        batch_size=batch_size, \n",
    "        shuffle=False,\n",
    "        num_workers=0\n",
    "    )\n",
    "    test_loader = DataLoader(\n",
    "        test_dataset, \n",
    "        batch_size=batch_size, \n",
    "        shuffle=False,\n",
    "        num_workers=0\n",
    "    )\n",
    "    \n",
    "    # Get embedding dimension\n",
    "    sample_embedding, _ = train_dataset[0]\n",
    "    embedding_dim = sample_embedding.shape[0]\n",
    "    \n",
    "    print(f\"Embedding dimension: {embedding_dim}\")\n",
    "    \n",
    "    # Initialize model\n",
    "    model = MLPClassifier(\n",
    "        input_dim=embedding_dim,\n",
    "        hidden_dims=[512, 256, 128],\n",
    "        num_classes=2,\n",
    "        dropout=0.3  # fraction of neurons to drop during training at each training step\n",
    "    ).to(device)\n",
    "    \n",
    "    print(f\"Model parameters: {sum(p.numel() for p in model.parameters()):,}\")\n",
    "    \n",
    "    num_epochs = 25\n",
    "    best_val_acc = 0\n",
    "    train_losses, val_losses = [], []\n",
    "    train_accs, val_accs = [], []\n",
    "    \n",
    "    # Loss function and optimizer\n",
    "    class_weights = compute_loss_weights(np.array(y_train))\n",
    "    criterion = nn.CrossEntropyLoss(weight=class_weights)\n",
    "    optimizer = optim.AdamW(model.parameters(), lr=0.0005, weight_decay=0.05)\n",
    "    total_steps = len(train_loader) * num_epochs\n",
    "    scheduler = get_linear_schedule_with_warmup(\n",
    "        optimizer,\n",
    "        num_warmup_steps=0,\n",
    "        num_training_steps=total_steps\n",
    "    )\n",
    "    \n",
    "    # Training loop\n",
    "    print(\"\\nTraining...\")\n",
    "    \n",
    "    for epoch in range(num_epochs):\n",
    "        \n",
    "        print(f\"\\nEpoch {epoch+1}/{num_epochs}\")\n",
    "        \n",
    "        # Train\n",
    "        train_loss, train_acc = train_epoch(model, train_loader, criterion, optimizer, device)\n",
    "        \n",
    "        # Validate\n",
    "        val_loss, val_acc, _, _ = validate_epoch(model, val_loader, criterion, device)\n",
    "        \n",
    "        # Update learning rate\n",
    "        scheduler.step()  # Fixed - linear scheduler doesn't take val_loss\n",
    "        \n",
    "        # Save metrics\n",
    "        train_losses.append(train_loss)\n",
    "        val_losses.append(val_loss)\n",
    "        train_accs.append(train_acc)\n",
    "        val_accs.append(val_acc)\n",
    "        \n",
    "        print(f\"Train Loss: {train_loss:.4f}, Train Acc: {train_acc:.2f}%\")\n",
    "        print(f\"Val Loss: {val_loss:.4f}, Val Acc: {val_acc:.2f}%\")\n",
    "        \n",
    "        # Save best model\n",
    "        if val_acc > best_val_acc:\n",
    "            best_val_acc = val_acc\n",
    "            torch.save(model.state_dict(), 'best_model.pth')\n",
    "            print(f\"New best validation accuracy: {best_val_acc:.2f}%\")\n",
    "    \n",
    "    # Load best model and test\n",
    "    model.load_state_dict(torch.load('best_model.pth'))\n",
    "    print(\"\\nEvaluating on test set...\")\n",
    "    test_loss, test_acc, test_preds, test_labels = validate_epoch(\n",
    "        model, test_loader, criterion, device\n",
    "    )\n",
    "    \n",
    "    print(f\"\\nTest Results:\")\n",
    "    print(f\"Test Loss: {test_loss:.4f}\")\n",
    "    print(f\"Test Accuracy: {test_acc:.2f}%\")\n",
    "    print(f\"Test Recall: {recall_score(test_labels, test_preds):.4f}\")\n",
    "    \n",
    "    # Classification report\n",
    "    print(\"\\nClassification Report:\")\n",
    "    print(classification_report(test_labels, test_preds, target_names=['Class 0', 'Class 1']))\n",
    "    \n",
    "    # Confusion matrix\n",
    "    cm = confusion_matrix(test_labels, test_preds)\n",
    "    print(\"\\nConfusion Matrix:\")\n",
    "    print(cm)\n",
    "    \n",
    "    # Plot training curves\n",
    "    plt.figure(figsize=(15, 5))\n",
    "    \n",
    "    plt.subplot(1, 3, 1)\n",
    "    plt.plot(train_losses, label='Train Loss')\n",
    "    plt.plot(val_losses, label='Validation Loss')\n",
    "    plt.xlabel('Epoch')\n",
    "    plt.ylabel('Loss')\n",
    "    plt.legend()\n",
    "    plt.title('Training and Validation Loss')\n",
    "    \n",
    "    plt.subplot(1, 3, 2)\n",
    "    plt.plot(train_accs, label='Train Accuracy')\n",
    "    plt.plot(val_accs, label='Validation Accuracy')\n",
    "    plt.xlabel('Epoch')\n",
    "    plt.ylabel('Accuracy (%)')\n",
    "    plt.legend()\n",
    "    plt.title('Training and Validation Accuracy')\n",
    "    \n",
    "    # plt.subplot(1, 3, 3)\n",
    "    # plt.imshow(cm, interpolation='nearest', cmap=plt.cm.Blues)\n",
    "    # plt.title('Confusion Matrix')\n",
    "    # plt.colorbar()\n",
    "    # tick_marks = np.arange(2)\n",
    "    # plt.xticks(tick_marks, ['Class 0', 'Class 1'])\n",
    "    # plt.yticks(tick_marks, ['Class 0', 'Class 1'])\n",
    "    # plt.ylabel('True Label')\n",
    "    # plt.xlabel('Predicted Label')\n",
    "    \n",
    "    plt.tight_layout()\n",
    "    plt.show()\n",
    "    \n",
    "    return model, hf_model\n",
    "\n",
    "torch.manual_seed(42)\n",
    "\n",
    "if __name__ == \"__main__\": \n",
    "    model, hf_model = main()"
   ]
  }
 ],
 "metadata": {
  "kernelspec": {
   "display_name": ".venv (3.11.3)",
   "language": "python",
   "name": "python3"
  },
  "language_info": {
   "codemirror_mode": {
    "name": "ipython",
    "version": 3
   },
   "file_extension": ".py",
   "mimetype": "text/x-python",
   "name": "python",
   "nbconvert_exporter": "python",
   "pygments_lexer": "ipython3",
   "version": "3.11.3"
  }
 },
 "nbformat": 4,
 "nbformat_minor": 5
}
