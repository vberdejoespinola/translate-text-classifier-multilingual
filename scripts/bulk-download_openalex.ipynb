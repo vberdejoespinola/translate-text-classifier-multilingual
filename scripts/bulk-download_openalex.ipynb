{
 "cells": [
  {
   "cell_type": "code",
   "execution_count": null,
   "metadata": {},
   "outputs": [],
   "source": [
    "!pip install -r requirements.txt"
   ]
  },
  {
   "cell_type": "code",
   "execution_count": 1,
   "metadata": {},
   "outputs": [],
   "source": [
    "import pandas as pd"
   ]
  },
  {
   "cell_type": "code",
   "execution_count": 2,
   "metadata": {},
   "outputs": [
    {
     "data": {
      "text/plain": [
       "(154, 242, 115)"
      ]
     },
     "execution_count": 2,
     "metadata": {},
     "output_type": "execute_result"
    }
   ],
   "source": [
    "alex = pd.read_csv('../data/bulk/works-2019-PRIMATE.csv')\n",
    "wos = pd.read_excel('../data/bulk/savedrecs-wos-2019-PRIMATE.xls')\n",
    "scopus = pd.read_csv('../data/bulk/scopus-2019-PRIMATE.csv')\n",
    "\n",
    "df1 = alex[['title','publication_year','abstract']]\n",
    "df2 = wos[['Article Title','Publication Year','Abstract']]\n",
    "df3 = scopus[['Title', 'Year', 'Abstract']]\n",
    "\n",
    "len(df1), len(df2), len(df3)\n",
    "# alex.columns.to_list()\n",
    "# scopus.columns.to_list()"
   ]
  },
  {
   "cell_type": "code",
   "execution_count": null,
   "metadata": {},
   "outputs": [],
   "source": [
    "df1"
   ]
  },
  {
   "cell_type": "code",
   "execution_count": null,
   "metadata": {},
   "outputs": [],
   "source": [
    "df3.isna().sum()"
   ]
  },
  {
   "cell_type": "code",
   "execution_count": 5,
   "metadata": {},
   "outputs": [
    {
     "name": "stdout",
     "output_type": "stream",
     "text": [
      "publication_year\n",
      "2019    154\n",
      "Name: count, dtype: int64\n",
      "Publication Year\n",
      "2019    226\n",
      "2020     16\n",
      "Name: count, dtype: int64\n",
      "Year\n",
      "2019    115\n",
      "Name: count, dtype: int64\n"
     ]
    }
   ],
   "source": [
    "print(df1['publication_year'].value_counts())\n",
    "print(df2['Publication Year'].value_counts())\n",
    "print(df3['Year'].value_counts())"
   ]
  },
  {
   "cell_type": "code",
   "execution_count": 10,
   "metadata": {},
   "outputs": [
    {
     "name": "stderr",
     "output_type": "stream",
     "text": [
      "/var/folders/dz/szfgpm5s0tn_frclv0gl7m2c0000gr/T/ipykernel_46360/855571914.py:5: SettingWithCopyWarning: \n",
      "A value is trying to be set on a copy of a slice from a DataFrame.\n",
      "Try using .loc[row_indexer,col_indexer] = value instead\n",
      "\n",
      "See the caveats in the documentation: https://pandas.pydata.org/pandas-docs/stable/user_guide/indexing.html#returning-a-view-versus-a-copy\n",
      "  df2['Article Title'] = df2.apply(lambda row: normalize_text(row['Article Title']), axis=1)\n",
      "/var/folders/dz/szfgpm5s0tn_frclv0gl7m2c0000gr/T/ipykernel_46360/855571914.py:6: SettingWithCopyWarning: \n",
      "A value is trying to be set on a copy of a slice from a DataFrame.\n",
      "Try using .loc[row_indexer,col_indexer] = value instead\n",
      "\n",
      "See the caveats in the documentation: https://pandas.pydata.org/pandas-docs/stable/user_guide/indexing.html#returning-a-view-versus-a-copy\n",
      "  df3['Title'] = df3.apply(lambda row: normalize_text(row['Title']), axis=1)\n"
     ]
    }
   ],
   "source": [
    "def normalize_text(text):\n",
    "    return text.lower()\n",
    "\n",
    "# df1['title'] = df1.apply(lambda row: normalize_text(row['title']), axis=1)\n",
    "df2['Article Title'] = df2.apply(lambda row: normalize_text(row['Article Title']), axis=1)\n",
    "df3['Title'] = df3.apply(lambda row: normalize_text(row['Title']), axis=1)\n",
    "\n",
    "# s1 = set(df1['title'])\n",
    "s2 = set(df2['Article Title'])\n",
    "s3 = set(df3['Title'])\n",
    "\n",
    "# intersect = list(s1.intersection(s2))\n",
    "intersect = list(s2.intersection(s3))"
   ]
  },
  {
   "cell_type": "code",
   "execution_count": 11,
   "metadata": {},
   "outputs": [
    {
     "name": "stdout",
     "output_type": "stream",
     "text": [
      "104\n"
     ]
    },
    {
     "data": {
      "text/plain": [
       "['extensive variability in the gut microbiome of a highly-specialized and critically endangered lemur species across sites',\n",
       " 'environment and time as constraints on the biogeographical distribution of gibbons',\n",
       " 'maintenance of bone mass despite estrogen depletion in female common marmoset monkeys (callithrix jacchus)',\n",
       " 'from mexico to michigan and back: an international collaboration investigating primate behavior, ecology, and evolution from multiple perspectives',\n",
       " 'semen cryopreservation in golden-headed lion tamarin, leontopithecus chrysomelas',\n",
       " 'evidence of genetic monogamy in the lemur indri (indri indri)',\n",
       " 'diet of the indochinese silvered langur (trachypithecus germaini) in kien luong karst area, kien giang province',\n",
       " 'supplemented howler monkeys eat less wild fruits, but do not change their activity budgets',\n",
       " 'testing the weekend effect hypothesis: time of day and lunar phase better predict the timing of births in laboratory-housed primates than day of week',\n",
       " 'positional behavior and substrate use in wild adult bearded capuchin monkeys (sapajus libidinosus)',\n",
       " 'complex patterns of grooming and sexual activity in barbary macaques (macaca sylvanus)',\n",
       " 'rotavirus is associated with decompensated diarrhea among young rhesus macaques (macaca mulatta)',\n",
       " 'gestural repertoire size is associated with social proximity measures in wild chimpanzees',\n",
       " 'differences in novel food response between pongo and pan',\n",
       " 'long-term treatment with the mtor inhibitor rapamycin has minor effect on clinical laboratory markers in middle-aged marmosets',\n",
       " 'comparative chemical analysis of body odor in great apes',\n",
       " 'a unique zoo-sanctuary collaboration for chimpanzees',\n",
       " 'infant loss during and after male replacement in gibbons',\n",
       " 'monkey business: collaborating to grow an ecological physiology of primates',\n",
       " 'chimpanzee feeding ecology and fallback food use in the montane forest of nyungwe national park, rwanda',\n",
       " 'oxytocin and pair compatibility in adult male rhesus macaques (macaca mulatta)',\n",
       " 'how bearded capuchin monkeys (sapajus libidinosus) prepare to use a stone to crack nuts',\n",
       " 'the gut microbiome and metabolome of saddleback tamarins (leontocebus weddelli): insights into the foraging ecology of a small-bodied primate',\n",
       " 'influence of food availability and climate on behavior patterns of western black crested gibbons (nomascus concolor) at mt. wuliang, yunnan, china',\n",
       " 'noninvasive cardiac psychophysiology as a tool for translational science with marmosets',\n",
       " 'moving forward with the primate microbiome: introduction to a special issue of the american journal of primatology',\n",
       " 'the effect of captivity on the primate gut microbiome varies with host dietary niche',\n",
       " 'dietary diversity of an ecological and macronutritional generalist primate in a harsh high-latitude habitat, the taihangshan macaque (macaca mulatta tcheliensis)',\n",
       " 'aggression and social support predict long-term cortisol levels in captive tufted capuchin monkeys (cebus [sapajus] apella)',\n",
       " 'assessment of different sperm functional tests in golden-headed lion tamarins (leontopithecus chrysomelas)',\n",
       " 'possible mineral contributions to the diet and health of wild chimpanzees in three east african forests',\n",
       " 'towards systematic and evidence-based conservation planning for western chimpanzees',\n",
       " 'group versus population level demographics: an analysis of comparability using long term data on wild white-faced capuchin monkeys (cebus capucinus imitator)',\n",
       " 'cross-sectional comparison of health-span phenotypes in young versus geriatric marmosets',\n",
       " 'an empirical estimate of the generation time of mouse lemurs',\n",
       " 'bacterial community structure and function distinguish gut sites in captive red-shanked doucs (pygathrix nemaeus)',\n",
       " 'from the field to the lab: muriqui endocrinology from a collaborative perspective',\n",
       " 'taking a big bite: working together to better understand the evolution of feeding in primates',\n",
       " 'habitat preference in the critically endangered yellow-tailed woolly monkey (lagothrix flavicauda) at la esperanza, peru',\n",
       " 'time matching between grooming partners: do methodological distinctions between short versus long-term reciprocation matter?',\n",
       " 'use of space and home range characteristics of lepilemur mittermeieri, an endangered sportive lemur endemic to the ampasindava peninsula, north-west madagascar',\n",
       " 'detection of insect prey by wild common marmosets: the effect of color vision',\n",
       " 'age-related changes in myelin of axons of the corpus callosum and cognitive decline in common marmosets',\n",
       " 'species-area relationships of lemurs in a fragmented landscape in madagascar',\n",
       " 'one-year change in cognitive flexibility and fine motor function in middle-aged male and female marmosets (callithrix jacchus)',\n",
       " 'generation of genetically engineered non-human primate models of brain function and neurological disorders',\n",
       " 'metagenomic assessment of the cebus apella gut microbiota',\n",
       " 'variations in the microbiome due to storage preservatives are not large enough to obscure variations due to factors such as host population, host species, body site, and captivity',\n",
       " 'unraveling the dispersal patterns and the social drivers of natal emigration of a cooperative breeding mammal, the golden lion tamarin',\n",
       " 'effects of cold weather on the sleeping behavior of skywalker hoolock gibbons (hoolock tianxing) in seasonal montane forest',\n",
       " 'nutritional composition of the diet of the western gorilla (gorilla gorilla): interspecific variation in diet quality',\n",
       " 'a comparative study of litter size and sex composition in a large dataset of callitrichine monkeys',\n",
       " 'dietary generalists and nutritional specialists: feeding strategies of adult female blue monkeys (cercopithecus mitis) in the kakamega forest, kenya',\n",
       " 'capture, immobilization, and global positioning system collaring of olive baboons (papio anubis) and vervets (chlorocebus pygerythrus): lessons learned and suggested best practices',\n",
       " 'long-term population monitoring of the threatened and endemic black-headed squirrel monkey (saimiri vanzolinii) shows the importance of protected areas for primate conservation in amazonia',\n",
       " 'development of snake-directed antipredator behavior by wild white-faced capuchin monkeys: iii. the signaling properties of alarm-call tonality',\n",
       " 'meat eating in wild hamadryas baboons: opportunistic trade-offs between insects and vertebrates',\n",
       " 'a competitive drive? same-sex attentional preferences in capuchins',\n",
       " 'a multiyear survey of helminths from wild saddleback (leontocebus weddelli) and emperor (saguinus imperator) tamarins',\n",
       " 'the importance of scale in comparative microbiome research: new insights from the gut and glands of captive and wild lemurs',\n",
       " 'the functional significance of dental and mandibular reduction in homo: a catarrhine perspective',\n",
       " 'human speech reduces pygmy marmoset (cebuella pygmaea) feeding and resting at a peruvian tourist site, with louder volumes decreasing visibility',\n",
       " 'genetic and morphological diversity of mouse lemurs (microcebus spp.) in northern madagascar: the discovery of a putative new species?',\n",
       " 'on the sunny side of (new) life: effect of sunshine duration on age at first reproduction in japanese macaques (macaca fuscata)',\n",
       " 'composition and stability of the vervet monkey milk microbiome',\n",
       " 'a comparative study of gut microbiomes in captive nocturnal strepsirrhines',\n",
       " 'divergence in gut microbial communities mirrors a social group fission event in a black-and-white colobus monkey (colobus vellerosus)',\n",
       " 'densities of bornean orang-utans (pongo pygmaeus morio) in heavily degraded forest and oil palm plantations in sabah, borneo',\n",
       " 'primate microbial endocrinology: an uncharted frontier',\n",
       " 'loss of ferritin-positive microglia relates to increased iron, rna oxidation, and dystrophic microglia in the brains of aged male marmosets',\n",
       " 'avpr1b variation and the emergence of adaptive phenotypes in platyrrhini primates',\n",
       " 'age-related changes in the marmoset gut microbiome',\n",
       " 'natural variation in fetal cortisol exposure is associated with neonatal body mass in captive vervet monkeys (chlorocebus aethiops)',\n",
       " 'playing it safe? solitary vervet monkeys (chlorocebus pygerythrus) choose high-quality foods more than those in competition',\n",
       " 'capture of alouatta guariba clamitans for the surveillance of sylvatic yellow fever and zoonotic malaria: which is the best strategy in the tropical atlantic forest?',\n",
       " 'increased produce enrichment reduces trauma in socially-housed captive rhesus macaques (macaca mulatta)',\n",
       " 'gross intestinal morphometry and allometry in primates',\n",
       " 'the effects of natural substrate discontinuities on the quadrupedal gait kinematics of free-ranging saimiri sciureus',\n",
       " 'slow loris density in a fragmented, disturbed dry forest, north-east thailand',\n",
       " 'commentaries on field-laboratory collaborations in primatology: introduction to a special section of the american journal of primatology',\n",
       " 'validating camera trap distance sampling for chimpanzees',\n",
       " 'spatiotemporal distribution of individuals as an indicator for the social system of lepilemur sahamalaza',\n",
       " 'baseline cortisol levels and social behavior differ as a function of handedness in marmosets (callithrix jacchus)',\n",
       " 'trait variation and trait stability in common marmosets (callithrix jacchus) inhabiting ecologically distinct habitats in northeastern brazil',\n",
       " 'the development and ecology of the japanese macaque gut microbiome from weaning to early adolescence in association with diet',\n",
       " 'sex differences in scent-marking in captive red-ruffed lemurs',\n",
       " 'primate microbiomes over time: longitudinal answers to standing questions in microbiome research',\n",
       " 'large ancestral effective population size explains the difficult phylogenetic placement of owl monkeys',\n",
       " 'differences between ecological niches in northern and southern populations of angolan black and white colobus monkeys (colobus angolensis palliatus and colobus angolensis sharpei) throughout kenya and tanzania',\n",
       " 'the metabolome as a biomarker of mortality risk in the common marmoset',\n",
       " 'gut microbiota in wild and captive guizhou snub-nosed monkeys, rhinopithecus brelichi',\n",
       " 'understanding primate-human interaction: socioeconomic correlates of local awareness and attitude toward the endangered golden langur trachypithecus geei (khajuria, 1956) in bhutan',\n",
       " 'interaction of music and emotional stimuli in modulating working memory in macaque monkeys',\n",
       " 'parietal lobe variation in cercopithecid endocasts',\n",
       " 'capuchin monkeys (sapajus [cebus] apella) play nash equilibria in dynamic games, but their decisions are likely not influenced by oxytocin',\n",
       " 'the changing ecology of primate parasites: insights from wild-captive comparisons',\n",
       " 'small to modest impact of social group on the gut microbiome of wild costa rican capuchins in a seasonal forest',\n",
       " 'comparative genomics of bifidobacterium species isolated from marmosets and humans',\n",
       " 'a descriptive analysis of gut microbiota composition in differentially reared infant rhesus monkeys (macaca mulatta) across the first 6 months of life',\n",
       " 'determining overweight and underweight with a new weight-for-height index in captive group-housed macaques',\n",
       " 'balancing contest competition, scramble competition, and social tolerance at feeding sites in wild common marmosets (callithrix jacchus)',\n",
       " 'diversity and temporal dynamics of primate milk microbiomes',\n",
       " 'individual, social, and environmental factors affecting salivary and fecal cortisol levels in captive pied tamarins (saguinus bicolor)',\n",
       " 'does group size matter? captive chimpanzee (pan troglodytes) behavior as a function of group size and composition']"
      ]
     },
     "execution_count": 11,
     "metadata": {},
     "output_type": "execute_result"
    }
   ],
   "source": [
    "print(len(intersect))\n",
    "intersect"
   ]
  },
  {
   "cell_type": "code",
   "execution_count": null,
   "metadata": {},
   "outputs": [],
   "source": [
    "# missing abstracts in alex\n",
    "\n",
    "no_abstract_alex = df1.merge(pd.Series(intersect).rename('title'), how='right')\n",
    "print(len(no_abstract_alex))\n",
    "no_abstract_alex.isna().sum()\n",
    "no_abstract_alex"
   ]
  },
  {
   "cell_type": "code",
   "execution_count": 12,
   "metadata": {},
   "outputs": [
    {
     "name": "stdout",
     "output_type": "stream",
     "text": [
      "105\n"
     ]
    },
    {
     "data": {
      "text/html": [
       "<div>\n",
       "<style scoped>\n",
       "    .dataframe tbody tr th:only-of-type {\n",
       "        vertical-align: middle;\n",
       "    }\n",
       "\n",
       "    .dataframe tbody tr th {\n",
       "        vertical-align: top;\n",
       "    }\n",
       "\n",
       "    .dataframe thead th {\n",
       "        text-align: right;\n",
       "    }\n",
       "</style>\n",
       "<table border=\"1\" class=\"dataframe\">\n",
       "  <thead>\n",
       "    <tr style=\"text-align: right;\">\n",
       "      <th></th>\n",
       "      <th>Article Title</th>\n",
       "      <th>Publication Year</th>\n",
       "      <th>Abstract</th>\n",
       "    </tr>\n",
       "  </thead>\n",
       "  <tbody>\n",
       "    <tr>\n",
       "      <th>0</th>\n",
       "      <td>extensive variability in the gut microbiome of...</td>\n",
       "      <td>2019</td>\n",
       "      <td>Deforestation continues to jeopardize Malagasy...</td>\n",
       "    </tr>\n",
       "    <tr>\n",
       "      <th>1</th>\n",
       "      <td>environment and time as constraints on the bio...</td>\n",
       "      <td>2019</td>\n",
       "      <td>We develop a time budget model for the hylobat...</td>\n",
       "    </tr>\n",
       "    <tr>\n",
       "      <th>2</th>\n",
       "      <td>maintenance of bone mass despite estrogen depl...</td>\n",
       "      <td>2019</td>\n",
       "      <td>Estrogen depletion leads to bone loss in almos...</td>\n",
       "    </tr>\n",
       "    <tr>\n",
       "      <th>3</th>\n",
       "      <td>from mexico to michigan and back: an internati...</td>\n",
       "      <td>2019</td>\n",
       "      <td>Evolutionary research benefits form the integr...</td>\n",
       "    </tr>\n",
       "    <tr>\n",
       "      <th>4</th>\n",
       "      <td>semen cryopreservation in golden-headed lion t...</td>\n",
       "      <td>2019</td>\n",
       "      <td>Wild animal genetic resource banking (GRB) rep...</td>\n",
       "    </tr>\n",
       "  </tbody>\n",
       "</table>\n",
       "</div>"
      ],
      "text/plain": [
       "                                       Article Title  Publication Year  \\\n",
       "0  extensive variability in the gut microbiome of...              2019   \n",
       "1  environment and time as constraints on the bio...              2019   \n",
       "2  maintenance of bone mass despite estrogen depl...              2019   \n",
       "3  from mexico to michigan and back: an internati...              2019   \n",
       "4  semen cryopreservation in golden-headed lion t...              2019   \n",
       "\n",
       "                                            Abstract  \n",
       "0  Deforestation continues to jeopardize Malagasy...  \n",
       "1  We develop a time budget model for the hylobat...  \n",
       "2  Estrogen depletion leads to bone loss in almos...  \n",
       "3  Evolutionary research benefits form the integr...  \n",
       "4  Wild animal genetic resource banking (GRB) rep...  "
      ]
     },
     "execution_count": 12,
     "metadata": {},
     "output_type": "execute_result"
    }
   ],
   "source": [
    "# missing abstracts in wos\n",
    "\n",
    "no_abstract_wos = df2.merge(pd.Series(intersect).rename('Article Title'), how='right')\n",
    "print(len(no_abstract_wos))\n",
    "no_abstract_wos.isna().sum()\n",
    "no_abstract_wos.head()"
   ]
  },
  {
   "cell_type": "code",
   "execution_count": 13,
   "metadata": {},
   "outputs": [
    {
     "name": "stdout",
     "output_type": "stream",
     "text": [
      "104\n"
     ]
    },
    {
     "data": {
      "text/plain": [
       "Title       0\n",
       "Year        0\n",
       "Abstract    0\n",
       "dtype: int64"
      ]
     },
     "execution_count": 13,
     "metadata": {},
     "output_type": "execute_result"
    }
   ],
   "source": [
    "# missing abstracts in scopus\n",
    "\n",
    "no_abstract_scopus = df3.merge(pd.Series(intersect).rename('Title'), how='right')\n",
    "print(len(no_abstract_scopus))\n",
    "no_abstract_scopus.isna().sum()"
   ]
  },
  {
   "cell_type": "code",
   "execution_count": null,
   "metadata": {},
   "outputs": [],
   "source": [
    "no_abstract_scopus"
   ]
  },
  {
   "cell_type": "code",
   "execution_count": 71,
   "metadata": {},
   "outputs": [],
   "source": [
    "# # df1 = alex[(['publication_year'] >= 1980) & (alex['publication_year'] <= 1990)]\n",
    "# df1 = alex[alex['publication_year'].between(1980 , 1990)]\n",
    "# df2 = wos[wos['Publication Year'].between(197 , 1990)]\n",
    "# df2\n"
   ]
  },
  {
   "cell_type": "code",
   "execution_count": null,
   "metadata": {},
   "outputs": [],
   "source": [
    "df2.isna().any()"
   ]
  },
  {
   "cell_type": "code",
   "execution_count": null,
   "metadata": {},
   "outputs": [],
   "source": [
    "df2.isnull().any()"
   ]
  },
  {
   "cell_type": "code",
   "execution_count": null,
   "metadata": {},
   "outputs": [],
   "source": [
    "df2.isnull().sum()"
   ]
  },
  {
   "cell_type": "code",
   "execution_count": null,
   "metadata": {},
   "outputs": [],
   "source": [
    "df3.isna().sum()"
   ]
  }
 ],
 "metadata": {
  "kernelspec": {
   "display_name": ".venv",
   "language": "python",
   "name": "python3"
  },
  "language_info": {
   "codemirror_mode": {
    "name": "ipython",
    "version": 3
   },
   "file_extension": ".py",
   "mimetype": "text/x-python",
   "name": "python",
   "nbconvert_exporter": "python",
   "pygments_lexer": "ipython3",
   "version": "3.11.3"
  }
 },
 "nbformat": 4,
 "nbformat_minor": 2
}
