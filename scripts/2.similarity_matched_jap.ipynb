{
 "cells": [
  {
   "cell_type": "code",
   "execution_count": 1,
   "id": "ab037024",
   "metadata": {},
   "outputs": [],
   "source": [
    "# September 2025\n",
    "# Calculate similarity between positive titles and titles from repo\n",
    "# Violeta Berdejo-Espinola & Ákos Hájas"
   ]
  },
  {
   "cell_type": "code",
   "execution_count": 2,
   "id": "c94c2db9",
   "metadata": {},
   "outputs": [],
   "source": [
    "# %pip install polars pyarrow\n",
    "\n",
    "import polars as pl"
   ]
  },
  {
   "cell_type": "code",
   "execution_count": 3,
   "id": "0003bf1a",
   "metadata": {},
   "outputs": [
    {
     "name": "stdout",
     "output_type": "stream",
     "text": [
      "5278 307\n"
     ]
    },
    {
     "data": {
      "text/plain": [
       "(5278, 307)"
      ]
     },
     "execution_count": 3,
     "metadata": {},
     "output_type": "execute_result"
    }
   ],
   "source": [
    "# read data\n",
    "\n",
    "df_repo = pl.read_csv('../data/outputs_pre-processing/repo_jap_pre-processed_year_range_ok.csv', encoding='utf8')\n",
    "df_pos = pl.read_csv('../data/outputs_pre-processing/pos_jap_pre-processed.csv')\n",
    "\n",
    "print(len(df_repo), len(df_pos))\n",
    "\n",
    "df_repo = df_repo.unique(subset=\"title_en\")\n",
    "df_pos = df_pos.unique(subset=\"title_en\")\n",
    "\n",
    "len(df_repo), len(df_pos)"
   ]
  },
  {
   "cell_type": "code",
   "execution_count": 4,
   "id": "451e8b1f",
   "metadata": {},
   "outputs": [
    {
     "data": {
      "text/plain": [
       "(5278, 307)"
      ]
     },
     "execution_count": 4,
     "metadata": {},
     "output_type": "execute_result"
    }
   ],
   "source": [
    "# create list of pos titles and repo titles and title and abstract\n",
    "\n",
    "pos_title = df_pos.select(\n",
    "    pl.col(\"title_en\").cast(pl.Utf8)\n",
    "    )[\"title_en\"].to_list()\n",
    "\n",
    "repo_title = df_repo.select(\n",
    "    pl.col('title_en').cast(pl.Utf8)\n",
    "    )['title_en'].to_list()\n",
    "\n",
    "len(repo_title), len(pos_title)"
   ]
  },
  {
   "cell_type": "markdown",
   "id": "cb811408",
   "metadata": {},
   "source": [
    "# compute similarity between titles"
   ]
  },
  {
   "cell_type": "markdown",
   "id": "d8b3a9df",
   "metadata": {},
   "source": [
    "similarity threshold 0.9 - input: all titles"
   ]
  },
  {
   "cell_type": "code",
   "execution_count": 5,
   "id": "acadeb2e",
   "metadata": {},
   "outputs": [
    {
     "name": "stdout",
     "output_type": "stream",
     "text": [
      "batch 0 completed\n",
      "batch 50 completed\n",
      "batch 100 completed\n",
      "batch 150 completed\n",
      "batch 200 completed\n",
      "batch 250 completed\n",
      "batch 300 completed\n"
     ]
    },
    {
     "data": {
      "text/plain": [
       "307"
      ]
     },
     "execution_count": 5,
     "metadata": {},
     "output_type": "execute_result"
    }
   ],
   "source": [
    "# check similarity \n",
    "# %time 21:53\n",
    "\n",
    "from Levenshtein import ratio\n",
    "\n",
    "# batch positive titles to reduce memory workload\n",
    "BATCH_SIZE = 50\n",
    "\n",
    "df_similarity = []\n",
    "\n",
    "for i in range(0, len(pos_title), BATCH_SIZE):\n",
    "    collect_similarity = {}\n",
    "\n",
    "    # check similarity\n",
    "    for title in pos_title[i:i+BATCH_SIZE]:\n",
    "        collect_similarity[title] = [\n",
    "            i for i, rt in enumerate(repo_title) \n",
    "            if ratio(title, rt) > 0.9\n",
    "            ]\n",
    "    \n",
    "    print(f'batch {i} completed')\n",
    "        \n",
    "    # save to disk\n",
    "    df = pl.DataFrame({\n",
    "        'title': list(collect_similarity.keys()), \n",
    "        'similarity': list(collect_similarity.values())\n",
    "        })\n",
    "    \n",
    "    df_similarity.append(df)\n",
    "  \n",
    "df_similarity = pl.concat(df_similarity, how=\"vertical\")\n",
    "len(df_similarity)"
   ]
  },
  {
   "cell_type": "code",
   "execution_count": 6,
   "id": "32434386",
   "metadata": {},
   "outputs": [
    {
     "name": "stdout",
     "output_type": "stream",
     "text": [
      "307\n",
      "shape: (2, 2)\n",
      "┌───────┬───────┐\n",
      "│ label ┆ count │\n",
      "│ ---   ┆ ---   │\n",
      "│ u32   ┆ u32   │\n",
      "╞═══════╪═══════╡\n",
      "│ 1     ┆ 118   │\n",
      "│ 0     ┆ 189   │\n",
      "└───────┴───────┘\n"
     ]
    },
    {
     "data": {
      "text/html": [
       "<div><style>\n",
       ".dataframe > thead > tr,\n",
       ".dataframe > tbody > tr {\n",
       "  text-align: right;\n",
       "  white-space: pre-wrap;\n",
       "}\n",
       "</style>\n",
       "<small>shape: (5, 3)</small><table border=\"1\" class=\"dataframe\"><thead><tr><th>title</th><th>similarity</th><th>label</th></tr><tr><td>str</td><td>i64</td><td>u32</td></tr></thead><tbody><tr><td>&quot;Restoration Effect of Topsoil …</td><td>null</td><td>0</td></tr><tr><td>&quot;Vegetation and Soil Restoratio…</td><td>3898</td><td>1</td></tr><tr><td>&quot;Difference of nest box use in …</td><td>null</td><td>0</td></tr><tr><td>&quot;Protection of endangered plant…</td><td>1220</td><td>1</td></tr><tr><td>&quot;Improvement of the head constr…</td><td>1631</td><td>1</td></tr></tbody></table></div>"
      ],
      "text/plain": [
       "shape: (5, 3)\n",
       "┌─────────────────────────────────┬────────────┬───────┐\n",
       "│ title                           ┆ similarity ┆ label │\n",
       "│ ---                             ┆ ---        ┆ ---   │\n",
       "│ str                             ┆ i64        ┆ u32   │\n",
       "╞═════════════════════════════════╪════════════╪═══════╡\n",
       "│ Restoration Effect of Topsoil … ┆ null       ┆ 0     │\n",
       "│ Vegetation and Soil Restoratio… ┆ 3898       ┆ 1     │\n",
       "│ Difference of nest box use in … ┆ null       ┆ 0     │\n",
       "│ Protection of endangered plant… ┆ 1220       ┆ 1     │\n",
       "│ Improvement of the head constr… ┆ 1631       ┆ 1     │\n",
       "└─────────────────────────────────┴────────────┴───────┘"
      ]
     },
     "execution_count": 6,
     "metadata": {},
     "output_type": "execute_result"
    }
   ],
   "source": [
    "# flatten similarity lists --> labels\n",
    "\n",
    "df_master = df_similarity.with_columns(\n",
    "    label=pl.col(\"similarity\")\n",
    "    .list\n",
    "    .len()\n",
    "    )\n",
    "print(len(df_master))\n",
    "print(df_master['label'].value_counts())\n",
    "\n",
    "df_master = df_master.explode('similarity')\n",
    "\n",
    "len(df_master) # length increases as new rows are created for those titles with 1+ matches\n",
    "\n",
    "# df_repo[316434]\n",
    "df_master.head()"
   ]
  },
  {
   "cell_type": "markdown",
   "id": "c5fed48f",
   "metadata": {},
   "source": [
    "# find similar instances across dfs\n"
   ]
  },
  {
   "cell_type": "code",
   "execution_count": 7,
   "id": "38a05329",
   "metadata": {},
   "outputs": [
    {
     "name": "stdout",
     "output_type": "stream",
     "text": [
      "Match found: Vegetation and Soil Restoration Process by Grazing Control at Desertified Sandy Grassland in Semi-Arid Regions of Northeast China\n",
      "Match found: Protection of endangered plants from sika deer herbivory using deer-proof fences in the Tanzawa Mountains, central Japan\n",
      "Match found: Improvement of the head construction for a nature-oriented fishway and a release experiment using Yamame Oncorhynchus masou in the Oshino River\n",
      "Match found: Evaluation of river restoration techniques using woody debris and boulders naturally generated from flood events\n",
      "Match found: Effects of deer fences in the conservation of Erythronium japonicum\n",
      "Match found: Influence of a Fagus crenata Plantation with Different Weeding Periods on the Consequent Stand Structure in Cold Region with Snowiall\n",
      "Match found: Adaptive restoration of Nymphoides peltata populations in Lake Kasumigaura from the soil seed bank\n",
      "Match found: A Case of Bank Protection with Palm Fiber Roll for Bare Slopes Revegetation on Dam Lake Flontage\n",
      "Match found: Fish composition in the front reservoir dominated by largemouth bass (Micropterus salmoides) and changes after extermination of largemouth bass by drain experiment.\n",
      "Match found: A Study on Management by Cutting of the Embankment Vegetation\n",
      "Match found: Thinning Effect on Tree Growth in Secondary Betula ermanii Stands on Scarified Sites\n",
      "Match found: Carabid Beetle Assemblages in Secondary Deciduous Broad-leaved Forests with or without Litter Removal in Northern Kanto\n",
      "Match found: Change of biological community and bed topography after the gravel-bar restoration work on the Nagata district in the Tama River\n",
      "Match found: Litter Size and Vaginal Smear in Microtus montebelli\n",
      "Match found: Dynamics in Growth and Survivals of Robinia pseudoacacia Sprouts Occurred after Cutting Conducted in Different Seasons\n",
      "Match found: Effects of Storage Condition, and Temperature and Light Condition on the Germination of Seeds of a Few Wild Flower Species\n",
      "Match found: Studies on Seed Germination, Growth, and Brush cutting Resistance of Wild Flowering Herb Sisyrinchium rosulatum BICKN\n",
      "Match found: Study on the Growth Progress of Planted Trees on Man-made Slopes\n",
      "Match found: Example of application on riparian revegetation in Neo-natural river reconstruction, and evaluation after several years\n",
      "Match found: Effects of Strip-cutting on Stand Floor Micro Climate and Tree-species Diversity in a Japanese Cypress Plantation\n",
      "Match found: Effectiveness of conservation-oriented agricultural practices on amphibians inhabiting Sado Island, Japan, with a consideration of spatial structure\n",
      "Match found: Ant Community Structure and Related Environmental Factors after Line Thinning in Japanese Cedar (Cryptomeria japonica) Plantations\n",
      "Match found: On the breeding habits of Sciurus vulgaris orientis in captivity\n",
      "Match found: Evaluation of Rehabilitation of Tidal Flat System at the Ibi River Mouth\n",
      "Match found: Propagule banks of submergent plants in the sediments of Lake Kasumigaura, Japan\n",
      "Match found: Effects of Fencing for 7 Years on the Regeneration of Tree Species after Dwarf Bamboo on the Forest Floor Has Been Diminished by Sika Deer Browsing\n",
      "Match found: Natural Regeneration of a Mixed Conifer-broadleaf Forest, Including Various Timber Species, after Strip Clear-cutting and Scarification of a Larix kaempferi Plantation\n",
      "Match found: The effect of groundsill improvement on falling fish survival\n",
      "Match found: Conservation of an emerged large population of an endangered plant, Arabidopsis kamchatica ssp. kawasakiana, along the eastern shore of Lake Biwa\n",
      "Match found: A Preliminary Study of Revegetation of Disturbed Area from Forest Seedbanks\n",
      "Match found: Invasive exotic fish control by application of encircling net and water level drawdown operation\n",
      "Match found: Relationships between Browsing on Dwarf Bamboo (Sasa nipponica) by Sika Deer and the Structure of Ground Beetle (Coleoptera: Carabidae) Assemblage\n",
      "Match found: Effects of habitat improvement installed with woody structure on fishes in a small ditch\n",
      "Match found: Effects of Time Lag in Establishment of Deer-proof Fences on Recovery of Floor Vegetation and Regeneration of Tall Trees in a Beech Forest Diminished by Sika Deer Browsing in the Tanzawa Mountains of Central Japan\n",
      "Match found: Effects of Cutting on the Growth and Flowering of Rannunculus japonics Thunb\n",
      "Match found: Growth of Quercus acutissima and Q. serata Seedlings in the Red Pine Forest Floor under Different Thinning Intensity\n",
      "Match found: Effects of Thinning and Litter Removal on the Recovery of Riparian Vegetation in a Cryptomeria japonica Plantation\n",
      "Match found: A Case Study of Vegetation Management of Abandoned Rice Fields for the Conservation of Water and Wetland Wildlife\n",
      "Match found: Changes in forest floor vegetation after the mowing of Pleioblastus chino: a case study from an abandoned coppice forest in the Kanto region of Japan\n",
      "Match found: Longterm effects of rehabilitation of fish habitats in a channelized stream\n",
      "Match found: Study on the Type of Flowering Plant and Quantity of Seeds Best Suited to the Landscaping of Slopes\n",
      "Match found: Potential for restoring grassland plant species on an abandoned forested Miscanthus grassland using the soil seed bank as a seed source\n",
      "Match found: Comparison of Adventitious Root Formation and Lateral Bud Development among Ficus pumila, F. oxyphylla, and F. thunbergii\n",
      "Match found: Present state of conservation and the occurrence of endangered plant species in the Tanzawa Mountains, central Japan : an evaluation of deer-proof fences\n",
      "Match found: Effects of light and forest floor conditions on the initial phase of regeneration of Pinus densiflora Sieb. et Zucc. in pine wilt disease forests\n",
      "Match found: The Effect of Permeable Pavement on the Soil Water and the Growth of a Grass\n",
      "Match found: Effects of a re-meandering project on the physical habitats and fish in the Shibetsu River\n",
      "Match found: Effects of a Selective Cutting on the Recruitment and Survivorship of Seedlings in a Natural Thujopsis dolabrata var. hondai Forest.\n",
      "Match found: Vegetation Recovery since Establishment of Spur Roads for Thinning in Coniferous Plantations\n",
      "Match found: The Effects of the Temperature and other Several Conditions of the Seed of nine Species in Fagaceae for Planting on Germination\n",
      "Match found: Possibility of restoration of Penthorum chinense Pursh by using soil seed bank\n",
      "Match found: Changes in physical habitat and benthic animals in the Miharu Dam downstream river in response to river regulation and sediment replenishment after initial impoundment\n",
      "Match found: Dynamics of Undergrowth and Its Application to Vegetation Control of Planted Chamaecyparis obtusa Endl. Forests with Special Reference to Mitigation of Surface Soil Loss\n",
      "Match found: Effects of Small-scale Clearcutting Management on Species Diversity and Vertical Structure of Understory Vegetation of a Conifer Plantation Comprising Uneven-aged Stands, in Kyushu, Southern Japan\n",
      "Match found: Translocation of a Blakiston's Fish Owl in Northern Hokkaido\n",
      "Match found: The Effect of a Rain Water Store under the Layer of Fill-up Soil on the Overhead Line\n",
      "Match found: Nesting Facilitation of Medium-sized Birds of Prey\n",
      "Match found: Habitat selection by larval cyprinid fishes: Relationship between larval habitats and experimental flooding\n",
      "Match found: A Study on the Methods to Establish the Evergreen Broadleaved Forest on Artificial Slopes\n",
      "Match found: Improvement of river environment by flush discharge from the Miharu Dam\n",
      "Match found: Potential for the Usage of Current-year Seedlings and Year-round Planting of Containerized Pinus thunbergii Seedlings.\n",
      "Match found: The Effect of Thinning on the Community Structure and Densities of Soil Animals in a Chamaecyparis obtusa Plantation\n",
      "Match found: Early Responses of Floor Vegetation to the Selection Cutting in a Mixed Forest in Hokkaido, Northern Japan\n",
      "Match found: A Comparison of Regeneration Inside and Outside a Deer-proof Fence Built in a Gap Formed because of Mass Mortality of Oak Trees\n",
      "Match found: Trial Manufactures and experiments of small-scale fishways to ensure both upward and downward migration of freshwater fishes in the aquatic area with paddy fields\n",
      "Match found: Conservation of an endangered perennial herb, Primula kisoana Miq. var. kisoana, on Mt. Narukami, Japan\n",
      "Match found: Studies on Artificially Lodged Culm of Phragmites japonica Steud. to Extend Communities and to Produce Young Shoots for Transplanting\n",
      "Match found: Evaluating the soil seed bank of an abandoned valley paddy field as materials for vegetation restoration\n",
      "Match found: Effects of Deer Browsing on Broad-leaved Tree Invasion after Heavy Thinning in Conifer Plantations\n",
      "Match found: Prevention of Oak Mortality by Wrapping Trunks with Vinyl Sheeting\n",
      "Match found: Effects of a deer-proof fence in a high-deer-density area on the recovery of bumblebee communities in Oku-Nikko, Japan\n",
      "Match found: Underground site gating for protection of a large colony of Miniopterus fuliginosus\n",
      "Match found: Evaluation of soil seed banks as plant materials for the restoration of floodplain vegetation\n",
      "Match found: The Study on Vegetation Management by Mowing on the Sasa senanensis Dominant Communities for the Purpose of Wildflower-habitat Conservation\n",
      "Match found: The Effect of Boundary Ridge Structures and Grass-cutting on Plant Communities Around Terraced Paddy Field\n",
      "Match found: The effect of water level lowering in Miharu Dam Reservoir on the reproduction of largemouth bass, Micropterus salmoides\n",
      "Match found: Effect of Thinning on the Thickening Growth of Stems and Development of Epicormic Shoots in a Secondary Forest of Quercus crispula and Fagus crenata\n",
      "Match found: Evaluation of seed banks for plant community recovery in abandoned rice fields of Matsumoto Basin, Nagano, Japan\n",
      "Match found: Evaluation of the Above-Ground and Root Growth of Deciduous Trees When Different Root-Wrapping Materials are Used\n",
      "Match found: An Experimental Study on the Effects of Wind and Propping on the Growth of Liriodendron tulipifera L.\n",
      "Match found: Improvement of habitat quality for Ranunculus nipponicus var. submersus by the removal of Phragmites japonica\n",
      "Match found: Temporary storage and rescue from agricultural channels of Unionidae mussels that carried out with local residents.\n",
      "Match found: Inhabitation of an artificial backwater zone (wando-pool) in the estuarine basin of the Kitagawa River, southern Kyushu, by fish, crabs, and insects\n",
      "Match found: Captive breeding and re-inforcement to an endangered population of Rana porosa brevipoda Ito (Ranidae: Amphibia)\n",
      "Match found: The Vegetation Management of Fallow Rice Paddies Through Periodical Cultivation\n",
      "Match found: Restoration of stream channel and masu salmon habitat by woody structures in a suburban stream, Central Hokkaido, Northern Japan\n",
      "Match found: A comparison of wetland plant species richness and taxonomic composition among land-use types in a lowland paddy region on the Echigo Plain, Japan\n",
      "Match found: The Regeneration of Natural Forests on Hokkaido, Northern Japan\n",
      "Match found: Response of Ant Community Structure to Understory Removal in a Line-thinned Japanese Cedar (Cryptomeria japonica) Plantation\n",
      "Match found: Prevention of Amphibian Mortality in Roadside Ditch.\n",
      "Match found: Conservation of Potamogeton pectinatus community in the improvement works of Aramii-suiro, an irrigation ditch in Wakayama Prefecture\n",
      "Match found: Effect of Accretion Cutting and Deer-exclosure Fences on Regeneration of Broad-leaved Trees in Riparian Conifer Plantations Diminished by Sika Deer Grazing\n",
      "Match found: The efficiency of line-thinning in making foraging habitat for the Japanese Golden eagle\n",
      "Match found: The Effect of Forest Floor Cutting and Fertilizing on Producing Blooms of Rhododendron reticulatum\n",
      "Match found: Vegetation Recovery of Quarrying Sites in the Kitaikoma Area, Osaka\n",
      "Match found: Species composition and structure of plantation forest understory modified by slope protection : establishment of terrestrial pteridophytes and factors promoting their growth\n",
      "Match found: Effect of Thinning on the Natural Regeneration of Broad-leaved Trees in Abies sachalinensis Plantations\n",
      "Match found: Changes in aquatic animal communities below the Taisyaku Dam after restoration of flow regime, Hiroshima\n",
      "Match found: Vegetation Recovery Process of Quercus serrate Forest after Clear-cuttings\n",
      "Match found: Changes in Stand Structure and Species Composition from 5 to 11 Years after Clear-cutting of a Sugi Plantation in the Warm-temperate Zone in Shikoku, Japan\n",
      "Match found: Effects of stone mulch on the growth of seedlings in a high altitude zone of Hokkaido.\n",
      "Match found: Possibility of using dredged mud as material for vegetation restoration\n",
      "Match found: The regeneration of submergent macrophytes from propagule banks with the aid of Biomanipulation in the littoral zone of Lake Kasumigaura.\n",
      "Match found: Species, number and size of fishes emerged at the small pool created in a shallow run\n",
      "Match found: Effects of Paddy Field Management during Winter on the Condition of the Aquatic Animals in Valley-bottom Paddy Fields in Spring\n",
      "Match found: Effect of time lag of establishment of deer-proof fences on the recovery of perennial herbs in a cool temperate deciduous forest diminished by sika deer browsing in the Tanzawa Mountains, central Japan\n",
      "Match found: Observations on the breeding habits and the growth of Prionailurus bengalensis manchurica, in captivity\n",
      "Match found: Can an Exotic Plant, Robinia pseudoacacia L., Be Removed from Riparian Ecosystems in Japan ?\n",
      "Match found: Invasion status of Eragrostis curvula in the Lycaeides argyrognomon praeterinsularis habitat along the Abe River, and the effects of its removal\n",
      "Match found: Reproductive ecology of endangered plants Euryale ferox Salisb. and Monochoria korsakowii Regel et Maack and their management in a vegetation restoration site\n",
      "Match found: Effects of the Soil Mixed with a Few Soil Amendment Matters on Soil Physical Properties and Young Camphor Tree Growth\n",
      "Match found: The Study with Effect of Mowing at Different Times on the Sasa senanensis Dominanted Communities for the Purpose of Wildflower-habitat Conservation\n",
      "Match found: Early vegetation growth in an experimental restoration site in the Watarase wetland\n",
      "Match found: Effects of Palaemon paucidens on zooplankton community and water quality\n",
      "Match found: Relationship between Dwarf-bamboo Growth and Small Rodents on Mt. Ohdaigahara, Central Japan, with Special Reference to Construction of Deer-proof Fences\n",
      "Match found: On the growth of trees planted in the reclaimed land soil\n",
      "Match found: Responses of Eupatorium fortunei and Solidago altissima L. to summer loss of above ground parts : a study for planning restored vegetation management\n",
      "Match found: Growth of secondary forests on serpentine soil after different soil disturbance intensity\n"
     ]
    }
   ],
   "source": [
    "# find total matches: titles with one andfor titles with 1+\n",
    "# %time 4:33\n",
    "\n",
    "similarity_data_list = []\n",
    "\n",
    "# loop through df_master \n",
    "for row_master in df_master.rows(named=True):\n",
    "    similarity_master = row_master['similarity']\n",
    "    title_master = row_master['title']\n",
    "\n",
    "    # loop through repo titles with index\n",
    "    for i, row_repo in enumerate(df_repo['title_en']):\n",
    "        \n",
    "        if i == similarity_master:\n",
    "            print(f\"Match found: {row_repo}\")\n",
    "            df_repo.with_columns(pos_similarity=similarity_master)\n",
    "            \n",
    "            similarity_data = {\n",
    "                'position_in_repo':i,\n",
    "                'similarity':similarity_master,\n",
    "                'name_in_repo':row_repo,\n",
    "                'name_in_pos':title_master,\n",
    "                'label':1\n",
    "            }\n",
    "            \n",
    "            similarity_data_list.append(similarity_data)\n",
    "\n",
    "# create dataframe\n",
    "matches_df = pl.DataFrame(similarity_data_list)"
   ]
  },
  {
   "cell_type": "code",
   "execution_count": 8,
   "id": "f340ffa4",
   "metadata": {},
   "outputs": [
    {
     "name": "stdout",
     "output_type": "stream",
     "text": [
      "articles in master: 307\n",
      "articles in pos matches 118\n"
     ]
    }
   ],
   "source": [
    "print(f\"articles in master: {len(df_master)}\")\n",
    "\n",
    "print(f\"articles in pos matches {len(matches_df)}\")"
   ]
  },
  {
   "cell_type": "code",
   "execution_count": 9,
   "id": "8a9a6762",
   "metadata": {},
   "outputs": [
    {
     "data": {
      "text/html": [
       "<div><style>\n",
       ".dataframe > thead > tr,\n",
       ".dataframe > tbody > tr {\n",
       "  text-align: right;\n",
       "  white-space: pre-wrap;\n",
       "}\n",
       "</style>\n",
       "<small>shape: (118, 6)</small><table border=\"1\" class=\"dataframe\"><thead><tr><th>position_in_repo</th><th>similarity</th><th>name_in_repo</th><th>name_in_pos</th><th>label</th><th>exists_in_repo</th></tr><tr><td>i64</td><td>i64</td><td>str</td><td>str</td><td>i64</td><td>bool</td></tr></thead><tbody><tr><td>3898</td><td>3898</td><td>&quot;Vegetation and Soil Restoratio…</td><td>&quot;Vegetation and Soil Restoratio…</td><td>1</td><td>false</td></tr><tr><td>1220</td><td>1220</td><td>&quot;Protection of endangered plant…</td><td>&quot;Protection of endangered plant…</td><td>1</td><td>true</td></tr><tr><td>1631</td><td>1631</td><td>&quot;Improvement of the head constr…</td><td>&quot;Improvement of the head constr…</td><td>1</td><td>false</td></tr><tr><td>230</td><td>230</td><td>&quot;Evaluation of river restoratio…</td><td>&quot;Evaluation of river restoratio…</td><td>1</td><td>false</td></tr><tr><td>1914</td><td>1914</td><td>&quot;Effects of deer fences in the …</td><td>&quot;Effects of deer fences in the …</td><td>1</td><td>true</td></tr><tr><td>&hellip;</td><td>&hellip;</td><td>&hellip;</td><td>&hellip;</td><td>&hellip;</td><td>&hellip;</td></tr><tr><td>1950</td><td>1950</td><td>&quot;Effects of Palaemon paucidens …</td><td>&quot;Effects of Palaemon paucidens …</td><td>1</td><td>true</td></tr><tr><td>4005</td><td>4005</td><td>&quot;Relationship between Dwarf-bam…</td><td>&quot;Relationship between Dwarf-bam…</td><td>1</td><td>true</td></tr><tr><td>1083</td><td>1083</td><td>&quot;On the growth of trees planted…</td><td>&quot;On the growth of trees planted…</td><td>1</td><td>true</td></tr><tr><td>1039</td><td>1039</td><td>&quot;Responses of Eupatorium fortun…</td><td>&quot;Responses of Eupatorium fortun…</td><td>1</td><td>false</td></tr><tr><td>2991</td><td>2991</td><td>&quot;Growth of secondary forests on…</td><td>&quot;Growth of secondary forests on…</td><td>1</td><td>true</td></tr></tbody></table></div>"
      ],
      "text/plain": [
       "shape: (118, 6)\n",
       "┌──────────────────┬────────────┬────────────────────┬────────────────────┬───────┬────────────────┐\n",
       "│ position_in_repo ┆ similarity ┆ name_in_repo       ┆ name_in_pos        ┆ label ┆ exists_in_repo │\n",
       "│ ---              ┆ ---        ┆ ---                ┆ ---                ┆ ---   ┆ ---            │\n",
       "│ i64              ┆ i64        ┆ str                ┆ str                ┆ i64   ┆ bool           │\n",
       "╞══════════════════╪════════════╪════════════════════╪════════════════════╪═══════╪════════════════╡\n",
       "│ 3898             ┆ 3898       ┆ Vegetation and     ┆ Vegetation and     ┆ 1     ┆ false          │\n",
       "│                  ┆            ┆ Soil Restoratio…   ┆ Soil Restoratio…   ┆       ┆                │\n",
       "│ 1220             ┆ 1220       ┆ Protection of      ┆ Protection of      ┆ 1     ┆ true           │\n",
       "│                  ┆            ┆ endangered plant…  ┆ endangered plant…  ┆       ┆                │\n",
       "│ 1631             ┆ 1631       ┆ Improvement of the ┆ Improvement of the ┆ 1     ┆ false          │\n",
       "│                  ┆            ┆ head constr…       ┆ head constr…       ┆       ┆                │\n",
       "│ 230              ┆ 230        ┆ Evaluation of      ┆ Evaluation of      ┆ 1     ┆ false          │\n",
       "│                  ┆            ┆ river restoratio…  ┆ river restoratio…  ┆       ┆                │\n",
       "│ 1914             ┆ 1914       ┆ Effects of deer    ┆ Effects of deer    ┆ 1     ┆ true           │\n",
       "│                  ┆            ┆ fences in the …    ┆ fences in the …    ┆       ┆                │\n",
       "│ …                ┆ …          ┆ …                  ┆ …                  ┆ …     ┆ …              │\n",
       "│ 1950             ┆ 1950       ┆ Effects of         ┆ Effects of         ┆ 1     ┆ true           │\n",
       "│                  ┆            ┆ Palaemon paucidens ┆ Palaemon paucidens ┆       ┆                │\n",
       "│                  ┆            ┆ …                  ┆ …                  ┆       ┆                │\n",
       "│ 4005             ┆ 4005       ┆ Relationship       ┆ Relationship       ┆ 1     ┆ true           │\n",
       "│                  ┆            ┆ between Dwarf-bam… ┆ between Dwarf-bam… ┆       ┆                │\n",
       "│ 1083             ┆ 1083       ┆ On the growth of   ┆ On the growth of   ┆ 1     ┆ true           │\n",
       "│                  ┆            ┆ trees planted…     ┆ trees planted…     ┆       ┆                │\n",
       "│ 1039             ┆ 1039       ┆ Responses of       ┆ Responses of       ┆ 1     ┆ false          │\n",
       "│                  ┆            ┆ Eupatorium fortun… ┆ Eupatorium fortun… ┆       ┆                │\n",
       "│ 2991             ┆ 2991       ┆ Growth of          ┆ Growth of          ┆ 1     ┆ true           │\n",
       "│                  ┆            ┆ secondary forests  ┆ secondary forests  ┆       ┆                │\n",
       "│                  ┆            ┆ on…                ┆ on…                ┆       ┆                │\n",
       "└──────────────────┴────────────┴────────────────────┴────────────────────┴───────┴────────────────┘"
      ]
     },
     "execution_count": 9,
     "metadata": {},
     "output_type": "execute_result"
    }
   ],
   "source": [
    "# check if titles are actually in repo using isin funtion\n",
    "\n",
    "sim_is_in_repo = (matches_df.with_columns(\n",
    "    pl.col('name_in_repo')\n",
    "    .is_in(matches_df['name_in_pos'])\n",
    "    .alias(\"exists_in_repo\")\n",
    "    )\n",
    ")\n",
    "\n",
    "sim_is_in_repo \n",
    "\n",
    "# readme\n",
    "# articles ARE in repo. isin returns FALSE similarities as it is more strict with the similarity measure\n",
    "# however, after inspection, these seemingly false actually are in repo. Title differences are spaces, or dahses, etc"
   ]
  },
  {
   "cell_type": "markdown",
   "id": "d7ea9c79",
   "metadata": {},
   "source": [
    "# unmatched rows"
   ]
  },
  {
   "cell_type": "code",
   "execution_count": 10,
   "id": "474cd97b",
   "metadata": {},
   "outputs": [
    {
     "name": "stdout",
     "output_type": "stream",
     "text": [
      "189\n"
     ]
    },
    {
     "data": {
      "text/html": [
       "<div><style>\n",
       ".dataframe > thead > tr,\n",
       ".dataframe > tbody > tr {\n",
       "  text-align: right;\n",
       "  white-space: pre-wrap;\n",
       "}\n",
       "</style>\n",
       "<small>shape: (189, 3)</small><table border=\"1\" class=\"dataframe\"><thead><tr><th>title</th><th>similarity</th><th>label</th></tr><tr><td>str</td><td>i64</td><td>u32</td></tr></thead><tbody><tr><td>&quot;Kinds and effectiveness of art…</td><td>null</td><td>0</td></tr><tr><td>&quot;Restoration Effect of Topsoil …</td><td>null</td><td>0</td></tr><tr><td>&quot;Capture and Release of Gallicr…</td><td>null</td><td>0</td></tr><tr><td>&quot;BREEDING OF THE KENTISH PLOVER…</td><td>null</td><td>0</td></tr><tr><td>&quot;A case study for introduction …</td><td>null</td><td>0</td></tr><tr><td>&hellip;</td><td>&hellip;</td><td>&hellip;</td></tr><tr><td>&quot;Effects of egg replacement on …</td><td>null</td><td>0</td></tr><tr><td>&quot;Experimental community ecology…</td><td>null</td><td>0</td></tr><tr><td>&quot;Survey of the number of seals …</td><td>null</td><td>0</td></tr><tr><td>&quot;Breeding ecology of Japanese G…</td><td>null</td><td>0</td></tr><tr><td>&quot;The Effect of Greenway Connect…</td><td>null</td><td>0</td></tr></tbody></table></div>"
      ],
      "text/plain": [
       "shape: (189, 3)\n",
       "┌─────────────────────────────────┬────────────┬───────┐\n",
       "│ title                           ┆ similarity ┆ label │\n",
       "│ ---                             ┆ ---        ┆ ---   │\n",
       "│ str                             ┆ i64        ┆ u32   │\n",
       "╞═════════════════════════════════╪════════════╪═══════╡\n",
       "│ Kinds and effectiveness of art… ┆ null       ┆ 0     │\n",
       "│ Restoration Effect of Topsoil … ┆ null       ┆ 0     │\n",
       "│ Capture and Release of Gallicr… ┆ null       ┆ 0     │\n",
       "│ BREEDING OF THE KENTISH PLOVER… ┆ null       ┆ 0     │\n",
       "│ A case study for introduction … ┆ null       ┆ 0     │\n",
       "│ …                               ┆ …          ┆ …     │\n",
       "│ Effects of egg replacement on … ┆ null       ┆ 0     │\n",
       "│ Experimental community ecology… ┆ null       ┆ 0     │\n",
       "│ Survey of the number of seals … ┆ null       ┆ 0     │\n",
       "│ Breeding ecology of Japanese G… ┆ null       ┆ 0     │\n",
       "│ The Effect of Greenway Connect… ┆ null       ┆ 0     │\n",
       "└─────────────────────────────────┴────────────┴───────┘"
      ]
     },
     "execution_count": 10,
     "metadata": {},
     "output_type": "execute_result"
    }
   ],
   "source": [
    "# create df\n",
    "\n",
    "# filter rows in master that are not in pos matches\n",
    "unmatched_pos =  df_master.filter(\n",
    "    (~pl.col('title')\n",
    "     .is_in(matches_df['name_in_pos']))\n",
    ")\n",
    "\n",
    "unmatched_pos = unmatched_pos.unique(subset=\"title\")\n",
    "\n",
    "print(len(unmatched_pos))\n",
    "unmatched_pos"
   ]
  },
  {
   "cell_type": "markdown",
   "id": "8d960166",
   "metadata": {},
   "source": [
    "# join pos dfs"
   ]
  },
  {
   "cell_type": "code",
   "execution_count": 11,
   "id": "00958128",
   "metadata": {},
   "outputs": [
    {
     "name": "stdout",
     "output_type": "stream",
     "text": [
      "118\n",
      "articles in df pos: 307\n",
      "empty cells in pos abstract jap: 127\n",
      "empty cells in pos label col: 0\n",
      "articles in df pos: 180\n",
      "empty cells in pos abstract jap: 0\n"
     ]
    }
   ],
   "source": [
    "# add labels to positive instances\n",
    "\n",
    "df_pos = df_pos.with_columns(\n",
    "    pl.lit(1).alias('label')\n",
    ")\n",
    "\n",
    "# join repo to matches to retrieve abstracts\n",
    "\n",
    "df_matches_join = matches_df.join(df_repo, left_on=\"name_in_repo\", right_on=\"title_en\", how=\"left\")\n",
    "\n",
    "print(len(df_matches_join))\n",
    "\n",
    "# join matches to pos to have a complete pos df\n",
    "\n",
    "df_pos_join = df_pos.join(df_matches_join, how=\"left\", left_on=\"title_en\", right_on=\"name_in_pos\")\n",
    "\n",
    "print(f\"articles in df pos: {len(df_pos_join)}\")\n",
    "\n",
    "# coerce empty strings to null in complete pos df\n",
    "\n",
    "df_pos_join = df_pos_join.with_columns(\n",
    "    pl.when(pl.col(pl.String).str.len_chars() == 0)\n",
    "    .then(None)\n",
    "    .otherwise(pl.col(pl.String))\n",
    "    .name.keep()\n",
    ")\n",
    "\n",
    "# coalesce abstract cols in complete pos df\n",
    "\n",
    "df_pos_join = df_pos_join.with_columns(\n",
    "    pl.coalesce('abstract_ja','abstract_ja_right').alias('abstract_ja')\n",
    ")\n",
    "\n",
    "print(f\"empty cells in pos abstract jap: {df_pos_join['abstract_ja'].is_null().sum()}\")\n",
    "print(f\"empty cells in pos label col: {df_pos_join['label'].is_null().sum()}\")\n",
    "\n",
    "# remove instances without abstract in japanese\n",
    "\n",
    "df_pos_join = df_pos_join.filter(\n",
    "    pl.col(\"abstract_ja\") != \"\")\n",
    "\n",
    "print(f\"articles in df pos: {len(df_pos_join)}\")\n",
    "\n",
    "# subset pos df \n",
    "\n",
    "df_pos_join = df_pos_join.select(\n",
    "    pl.col(['title_ja','title_en','abstract_ja','abstract_en','journal', 'year', 'language','label','exists_in_repo'])\n",
    ")\n",
    "\n",
    "print(f\"empty cells in pos abstract jap: {df_pos_join['abstract_ja'].is_null().sum()}\")"
   ]
  },
  {
   "cell_type": "markdown",
   "id": "b465d7f5",
   "metadata": {},
   "source": [
    "# join repo - pos"
   ]
  },
  {
   "cell_type": "code",
   "execution_count": 12,
   "id": "2f3479c8",
   "metadata": {},
   "outputs": [
    {
     "name": "stdout",
     "output_type": "stream",
     "text": [
      "articles in repo: 5278\n",
      "0\n",
      "empty cells in repo japanese abstract: None\n",
      "articles in join: 5382\n",
      "empty cells in japanese abstract: 0\n"
     ]
    },
    {
     "data": {
      "text/html": [
       "<div><style>\n",
       ".dataframe > thead > tr,\n",
       ".dataframe > tbody > tr {\n",
       "  text-align: right;\n",
       "  white-space: pre-wrap;\n",
       "}\n",
       "</style>\n",
       "<small>shape: (2, 2)</small><table border=\"1\" class=\"dataframe\"><thead><tr><th>label</th><th>count</th></tr><tr><td>i32</td><td>u32</td></tr></thead><tbody><tr><td>1</td><td>180</td></tr><tr><td>0</td><td>5202</td></tr></tbody></table></div>"
      ],
      "text/plain": [
       "shape: (2, 2)\n",
       "┌───────┬───────┐\n",
       "│ label ┆ count │\n",
       "│ ---   ┆ ---   │\n",
       "│ i32   ┆ u32   │\n",
       "╞═══════╪═══════╡\n",
       "│ 1     ┆ 180   │\n",
       "│ 0     ┆ 5202  │\n",
       "└───────┴───────┘"
      ]
     },
     "execution_count": 12,
     "metadata": {},
     "output_type": "execute_result"
    }
   ],
   "source": [
    "print(f\"articles in repo: {len(df_repo)}\")\n",
    "print(f\"empty cells in repo japanese abstract: {print(df_repo['abstract_ja'].is_null().sum())}\")\n",
    "\n",
    "# join pos df to repo df\n",
    "\n",
    "df_full_join = df_repo.join(df_pos_join, on=\"title_en\", how='full')\n",
    "\n",
    "# coalesce cols \n",
    "\n",
    "df_full_join = df_full_join.with_columns(\n",
    "    pl.coalesce('title_ja','title_ja_right').alias('title_ja'),\n",
    "    pl.coalesce('title_en','title_en_right').alias('title_en'),\n",
    "    pl.coalesce('abstract_ja','abstract_ja_right').alias('abstract_ja'),\n",
    "    pl.coalesce('abstract_en','abstract_en_right').alias('abstract_en'),\n",
    "    pl.coalesce('journal','journal_right').alias('journal'),\n",
    "    pl.coalesce('year', 'year_right').alias('year'),\n",
    "    pl.coalesce('language','language_right').alias('language')\n",
    ")\n",
    "\n",
    "print(f\"articles in join: {len(df_full_join)}\")\n",
    "print(f\"empty cells in japanese abstract: {df_full_join['abstract_ja'].is_null().sum()}\")\n",
    "\n",
    "# subset df\n",
    "\n",
    "df_full_join = df_full_join.select(\n",
    "    pl.col(['title_ja','title_en','abstract_ja','abstract_en','journal', 'year','language','label','doi'])\n",
    ")\n",
    "# 5278+180\n",
    "\n",
    "# add labels to negative instances in repo_full\n",
    "\n",
    "df_full_join = df_full_join.with_columns(\n",
    "    pl.when(pl.col(\"label\") == 1)\n",
    "    .then(\"label\")\n",
    "    .otherwise(0).alias(\"label\")\n",
    ")\n",
    "\n",
    "df_full_join[\"label\"].value_counts()"
   ]
  },
  {
   "cell_type": "code",
   "execution_count": 13,
   "id": "f092a7bd",
   "metadata": {},
   "outputs": [
    {
     "data": {
      "image/png": "[encoded data removed]",
      "text/plain": [
       "<Figure size 640x480 with 1 Axes>"
      ]
     },
     "metadata": {},
     "output_type": "display_data"
    },
    {
     "name": "stdout",
     "output_type": "stream",
     "text": [
      "5382\n"
     ]
    }
   ],
   "source": [
    "import matplotlib.pyplot as plt\n",
    "\n",
    "# Calculate character lengths excluding spaces\n",
    "char_lens = [len(abstract.replace(\" \", \"\")) for abstract in df_full_join['abstract_ja']]\n",
    "\n",
    "# Plot the histogram\n",
    "plt.hist(char_lens, bins=150, color='skyblue', edgecolor='black')\n",
    "plt.xlabel('Character Length (excluding spaces)')\n",
    "plt.ylabel('Frequency')\n",
    "plt.title('Distribution of Abstract Character Lengths')\n",
    "plt.show()\n",
    "print(len(df_full_join))"
   ]
  },
  {
   "cell_type": "code",
   "execution_count": 14,
   "id": "a7d6d886",
   "metadata": {},
   "outputs": [],
   "source": [
    "# # remove instances with an abstract shorter than 300 characters\n",
    "\n",
    "# repo_and_matches = repo_and_matches.with_columns(\n",
    "#     pl.col(\"abstract\")\n",
    "#     .str.len_chars()\n",
    "#     .alias(\"abstract_length\")\n",
    "# )\n",
    "\n",
    "# repo_and_matches = repo_and_matches.filter(\n",
    "#     pl.col(\"abstract_length\") >= 300\n",
    "# )\n",
    "\n",
    "# print(len(repo_and_matches))"
   ]
  },
  {
   "cell_type": "code",
   "execution_count": 15,
   "id": "cace61f0",
   "metadata": {},
   "outputs": [
    {
     "data": {
      "text/html": [
       "<div><style>\n",
       ".dataframe > thead > tr,\n",
       ".dataframe > tbody > tr {\n",
       "  text-align: right;\n",
       "  white-space: pre-wrap;\n",
       "}\n",
       "</style>\n",
       "<small>shape: (5, 9)</small><table border=\"1\" class=\"dataframe\"><thead><tr><th>title_ja</th><th>title_en</th><th>abstract_ja</th><th>abstract_en</th><th>journal</th><th>year</th><th>language</th><th>label</th><th>exists_in_repo</th></tr><tr><td>str</td><td>str</td><td>str</td><td>str</td><td>str</td><td>i64</td><td>str</td><td>i32</td><td>bool</td></tr></thead><tbody><tr><td>&quot;中国北東部半乾燥地域の砂地草原における放牧管理による植生・土…</td><td>&quot;Vegetation and Soil Restoratio…</td><td>&quot;過放牧による砂漠化が問題となっている中国内蒙古自治区奈曼を事…</td><td>&quot;The process of vegetation and …</td><td>&quot;Journal of The Japanese Instit…</td><td>1997</td><td>&quot;ja&quot;</td><td>1</td><td>false</td></tr><tr><td>&quot;丹沢山地における植生保護柵による希少植物のシカ採食からの保護…</td><td>&quot;Protection of endangered plant…</td><td>&quot;ニホンジカの採食圧により林床植生が衰退した丹沢山地冷温帯の3…</td><td>&quot;Four years after establishment…</td><td>&quot;Japanese Journal of Conservati…</td><td>2005</td><td>&quot;ja&quot;</td><td>1</td><td>true</td></tr><tr><td>&quot;群馬県押野川における落差工の多自然型魚道への改善とヤマメOn…</td><td>&quot;Improvement of the head constr…</td><td>&quot;大きな高低差のある落差工は,魚類が遡上できないなどの問題を生…</td><td>&quot;High head constructions become…</td><td>&quot;Ecology and Civil Engineering&quot;</td><td>2000</td><td>&quot;ja&quot;</td><td>1</td><td>false</td></tr><tr><td>&quot;アカネズミ(Apodemus speciosus)の自然交配…</td><td>&quot;Rearing method to induce&nbsp;&nbsp;tura…</td><td>&quot;飼育下でアカネズミ(Apodemus speciosus)の…</td><td>null</td><td>&quot;Mammalian Science&quot;</td><td>2013</td><td>&quot;ja&quot;</td><td>1</td><td>false</td></tr><tr><td>&quot;洪水により発生した倒流木と巨石を用いた河川再生工法の評価&quot;</td><td>&quot;Evaluation of river restoratio…</td><td>&quot;荒廃渓流であった北海道北部パンケオロピリカイ川に設置された構…</td><td>&quot;A stream that was severely dam…</td><td>&quot;Ecology and Civil Engineering&quot;</td><td>2011</td><td>&quot;ja&quot;</td><td>1</td><td>false</td></tr></tbody></table></div>"
      ],
      "text/plain": [
       "shape: (5, 9)\n",
       "┌─────────────┬─────────────┬─────────────┬─────────────┬───┬──────┬──────────┬───────┬────────────┐\n",
       "│ title_ja    ┆ title_en    ┆ abstract_ja ┆ abstract_en ┆ … ┆ year ┆ language ┆ label ┆ exists_in_ │\n",
       "│ ---         ┆ ---         ┆ ---         ┆ ---         ┆   ┆ ---  ┆ ---      ┆ ---   ┆ repo       │\n",
       "│ str         ┆ str         ┆ str         ┆ str         ┆   ┆ i64  ┆ str      ┆ i32   ┆ ---        │\n",
       "│             ┆             ┆             ┆             ┆   ┆      ┆          ┆       ┆ bool       │\n",
       "╞═════════════╪═════════════╪═════════════╪═════════════╪═══╪══════╪══════════╪═══════╪════════════╡\n",
       "│ 中国北東部  ┆ Vegetation  ┆ 過放牧によ  ┆ The process ┆ … ┆ 1997 ┆ ja       ┆ 1     ┆ false      │\n",
       "│ 半乾燥地域  ┆ and Soil    ┆ る砂漠化が  ┆ of          ┆   ┆      ┆          ┆       ┆            │\n",
       "│ の砂地草原  ┆ Restoratio… ┆ 問題となっ  ┆ vegetation  ┆   ┆      ┆          ┆       ┆            │\n",
       "│ における放  ┆             ┆ ている中国  ┆ and …       ┆   ┆      ┆          ┆       ┆            │\n",
       "│ 牧管理によ  ┆             ┆ 内蒙古自治  ┆             ┆   ┆      ┆          ┆       ┆            │\n",
       "│ る植生・土… ┆             ┆ 区奈曼を事… ┆             ┆   ┆      ┆          ┆       ┆            │\n",
       "│ 丹沢山地に  ┆ Protection  ┆ ニホンジカ  ┆ Four years  ┆ … ┆ 2005 ┆ ja       ┆ 1     ┆ true       │\n",
       "│ おける植生  ┆ of          ┆ の採食圧に  ┆ after estab ┆   ┆      ┆          ┆       ┆            │\n",
       "│ 保護柵によ  ┆ endangered  ┆ より林床植  ┆ lishment…   ┆   ┆      ┆          ┆       ┆            │\n",
       "│ る希少植物  ┆ plant…      ┆ 生が衰退し  ┆             ┆   ┆      ┆          ┆       ┆            │\n",
       "│ のシカ採食  ┆             ┆ た丹沢山地  ┆             ┆   ┆      ┆          ┆       ┆            │\n",
       "│ からの保護… ┆             ┆ 冷温帯の3…  ┆             ┆   ┆      ┆          ┆       ┆            │\n",
       "│ 群馬県押野  ┆ Improvement ┆ 大きな高低  ┆ High head   ┆ … ┆ 2000 ┆ ja       ┆ 1     ┆ false      │\n",
       "│ 川における  ┆ of the head ┆ 差のある落  ┆ constructio ┆   ┆      ┆          ┆       ┆            │\n",
       "│ 落差工の多  ┆ constr…     ┆ 差工は,魚類 ┆ ns become…  ┆   ┆      ┆          ┆       ┆            │\n",
       "│ 自然型魚道  ┆             ┆ が遡上でき  ┆             ┆   ┆      ┆          ┆       ┆            │\n",
       "│ への改善と  ┆             ┆ ないなどの  ┆             ┆   ┆      ┆          ┆       ┆            │\n",
       "│ ヤマメOn…   ┆             ┆ 問題を生…   ┆             ┆   ┆      ┆          ┆       ┆            │\n",
       "│ アカネズミ( ┆ Rearing     ┆ 飼育下でア  ┆ null        ┆ … ┆ 2013 ┆ ja       ┆ 1     ┆ false      │\n",
       "│ Apodemus    ┆ method to   ┆ カネズミ(Ap ┆             ┆   ┆      ┆          ┆       ┆            │\n",
       "│ speciosus)  ┆ induce      ┆ odemus spec ┆             ┆   ┆      ┆          ┆       ┆            │\n",
       "│ の自然交配… ┆ tura…       ┆ iosus)の…   ┆             ┆   ┆      ┆          ┆       ┆            │\n",
       "│ 洪水により  ┆ Evaluation  ┆ 荒廃渓流で  ┆ A stream    ┆ … ┆ 2011 ┆ ja       ┆ 1     ┆ false      │\n",
       "│ 発生した倒  ┆ of river    ┆ あった北海  ┆ that was    ┆   ┆      ┆          ┆       ┆            │\n",
       "│ 流木と巨石  ┆ restoratio… ┆ 道北部パン  ┆ severely    ┆   ┆      ┆          ┆       ┆            │\n",
       "│ を用いた河  ┆             ┆ ケオロピリ  ┆ dam…        ┆   ┆      ┆          ┆       ┆            │\n",
       "│ 川再生工法  ┆             ┆ カイ川に設  ┆             ┆   ┆      ┆          ┆       ┆            │\n",
       "│ の評価      ┆             ┆ 置された構… ┆             ┆   ┆      ┆          ┆       ┆            │\n",
       "└─────────────┴─────────────┴─────────────┴─────────────┴───┴──────┴──────────┴───────┴────────────┘"
      ]
     },
     "execution_count": 15,
     "metadata": {},
     "output_type": "execute_result"
    }
   ],
   "source": [
    "df_pos_join.head()"
   ]
  },
  {
   "cell_type": "code",
   "execution_count": 16,
   "id": "5a27c04b",
   "metadata": {},
   "outputs": [
    {
     "data": {
      "text/html": [
       "<div><style>\n",
       ".dataframe > thead > tr,\n",
       ".dataframe > tbody > tr {\n",
       "  text-align: right;\n",
       "  white-space: pre-wrap;\n",
       "}\n",
       "</style>\n",
       "<small>shape: (5, 9)</small><table border=\"1\" class=\"dataframe\"><thead><tr><th>title_ja</th><th>title_en</th><th>abstract_ja</th><th>abstract_en</th><th>journal</th><th>year</th><th>language</th><th>label</th><th>doi</th></tr><tr><td>str</td><td>str</td><td>str</td><td>str</td><td>str</td><td>i64</td><td>str</td><td>i32</td><td>str</td></tr></thead><tbody><tr><td>&quot;スギ雄花形成の機構解明と抑制技術&quot;</td><td>&quot;Formation of Cryptomeria japon…</td><td>&quot;スギは我が国を代表する林業樹種である。しかし, スギ花粉症患…</td><td>&quot;Cryptomeria japonica D. Don is…</td><td>&quot;Journal of the Japanese Forest…</td><td>2010</td><td>&quot;ja&quot;</td><td>0</td><td>&quot;doi.org/10.4005/jjfs.92.304&quot;</td></tr><tr><td>&quot;アンスラセンによるヒノキ人工林の相対照度の測定&quot;</td><td>&quot;Evaluation of the Light Climat…</td><td>&quot;アンスラセンの光化学反砿を利用し,照度を積算量としてとらえ,…</td><td>&quot;An anthracene-ethyl alcohol ch…</td><td>&quot;Journal of the Japanese Forest…</td><td>1982</td><td>&quot;ja&quot;</td><td>0</td><td>&quot;doi.org/10.11519/jjfs1953.64.6…</td></tr><tr><td>&quot;道路法面上の樹林の面積とマツカレハ (Dendrolimus…</td><td>&quot;Density-area relationship of t…</td><td>&quot;東名高速道路,浜松・浜松西間の南面法面上に600m2のコード…</td><td>&quot;Twelve quardrats, 40×15m were …</td><td>&quot;Journal of the Japanese Forest…</td><td>1985</td><td>&quot;ja&quot;</td><td>0</td><td>&quot;doi.org/10.11519/jjfs1953.67.2…</td></tr><tr><td>&quot;ケヤキ街路樹の根系生長が歩道に与える影響&quot;</td><td>&quot;Study on the Influence on the …</td><td>&quot;明治神宮表参道の帯状植枡に植栽されたケヤキ大径木の街路樹16…</td><td>&quot;A Survey of the influence on t…</td><td>&quot;Journal of the Japanese Instit…</td><td>1995</td><td>&quot;ja&quot;</td><td>0</td><td>&quot;doi.org/10.5632/jila.59.5_49&quot;</td></tr><tr><td>&quot;ホルモン処理したヒノキさし穂の呼吸量の経時的変化&quot;</td><td>&quot;Effect of Auxins on Respiratio…</td><td>&quot;ホルモン処理したヒノキさし穂の呼吸様式をしらべた。 1. 無…</td><td>&quot;Effect of auxins on the rate o…</td><td>&quot;Journal of the Japanese Forest…</td><td>1974</td><td>&quot;ja&quot;</td><td>0</td><td>&quot;doi.org/10.11519/jjfs1953.56.4…</td></tr></tbody></table></div>"
      ],
      "text/plain": [
       "shape: (5, 9)\n",
       "┌─────────────┬─────────────┬─────────────┬─────────────┬───┬──────┬──────────┬───────┬────────────┐\n",
       "│ title_ja    ┆ title_en    ┆ abstract_ja ┆ abstract_en ┆ … ┆ year ┆ language ┆ label ┆ doi        │\n",
       "│ ---         ┆ ---         ┆ ---         ┆ ---         ┆   ┆ ---  ┆ ---      ┆ ---   ┆ ---        │\n",
       "│ str         ┆ str         ┆ str         ┆ str         ┆   ┆ i64  ┆ str      ┆ i32   ┆ str        │\n",
       "╞═════════════╪═════════════╪═════════════╪═════════════╪═══╪══════╪══════════╪═══════╪════════════╡\n",
       "│ スギ雄花形  ┆ Formation   ┆ スギは我が  ┆ Cryptomeria ┆ … ┆ 2010 ┆ ja       ┆ 0     ┆ doi.org/10 │\n",
       "│ 成の機構解  ┆ of          ┆ 国を代表す  ┆ japonica D. ┆   ┆      ┆          ┆       ┆ .4005/jjfs │\n",
       "│ 明と抑制技  ┆ Cryptomeria ┆ る林業樹種  ┆ Don is…     ┆   ┆      ┆          ┆       ┆ .92.304    │\n",
       "│ 術          ┆ japon…      ┆ である。し  ┆             ┆   ┆      ┆          ┆       ┆            │\n",
       "│             ┆             ┆ かし, スギ  ┆             ┆   ┆      ┆          ┆       ┆            │\n",
       "│             ┆             ┆ 花粉症患…   ┆             ┆   ┆      ┆          ┆       ┆            │\n",
       "│ アンスラセ  ┆ Evaluation  ┆ アンスラセ  ┆ An anthrace ┆ … ┆ 1982 ┆ ja       ┆ 0     ┆ doi.org/10 │\n",
       "│ ンによるヒ  ┆ of the      ┆ ンの光化学  ┆ ne-ethyl    ┆   ┆      ┆          ┆       ┆ .11519/jjf │\n",
       "│ ノキ人工林  ┆ Light       ┆ 反砿を利用  ┆ alcohol ch… ┆   ┆      ┆          ┆       ┆ s1953.64.6 │\n",
       "│ の相対照度  ┆ Climat…     ┆ し,照度を積 ┆             ┆   ┆      ┆          ┆       ┆ …          │\n",
       "│ の測定      ┆             ┆ 算量として  ┆             ┆   ┆      ┆          ┆       ┆            │\n",
       "│             ┆             ┆ とらえ,…    ┆             ┆   ┆      ┆          ┆       ┆            │\n",
       "│ 道路法面上  ┆ Density-are ┆ 東名高速道  ┆ Twelve      ┆ … ┆ 1985 ┆ ja       ┆ 0     ┆ doi.org/10 │\n",
       "│ の樹林の面  ┆ a relations ┆ 路,浜松・浜 ┆ quardrats,  ┆   ┆      ┆          ┆       ┆ .11519/jjf │\n",
       "│ 積とマツカ  ┆ hip of t…   ┆ 松西間の南  ┆ 40×15m were ┆   ┆      ┆          ┆       ┆ s1953.67.2 │\n",
       "│ レハ (Dendr ┆             ┆ 面法面上に6 ┆ …           ┆   ┆      ┆          ┆       ┆ …          │\n",
       "│ olimus…     ┆             ┆ 00m2のコー  ┆             ┆   ┆      ┆          ┆       ┆            │\n",
       "│             ┆             ┆ ド…         ┆             ┆   ┆      ┆          ┆       ┆            │\n",
       "│ ケヤキ街路  ┆ Study on    ┆ 明治神宮表  ┆ A Survey of ┆ … ┆ 1995 ┆ ja       ┆ 0     ┆ doi.org/10 │\n",
       "│ 樹の根系生  ┆ the         ┆ 参道の帯状  ┆ the         ┆   ┆      ┆          ┆       ┆ .5632/jila │\n",
       "│ 長が歩道に  ┆ Influence   ┆ 植枡に植栽  ┆ influence   ┆   ┆      ┆          ┆       ┆ .59.5_49   │\n",
       "│ 与える影響  ┆ on the …    ┆ されたケヤ  ┆ on t…       ┆   ┆      ┆          ┆       ┆            │\n",
       "│             ┆             ┆ キ大径木の  ┆             ┆   ┆      ┆          ┆       ┆            │\n",
       "│             ┆             ┆ 街路樹16…   ┆             ┆   ┆      ┆          ┆       ┆            │\n",
       "│ ホルモン処  ┆ Effect of   ┆ ホルモン処  ┆ Effect of   ┆ … ┆ 1974 ┆ ja       ┆ 0     ┆ doi.org/10 │\n",
       "│ 理したヒノ  ┆ Auxins on   ┆ 理したヒノ  ┆ auxins on   ┆   ┆      ┆          ┆       ┆ .11519/jjf │\n",
       "│ キさし穂の  ┆ Respiratio… ┆ キさし穂の  ┆ the rate o… ┆   ┆      ┆          ┆       ┆ s1953.56.4 │\n",
       "│ 呼吸量の経  ┆             ┆ 呼吸様式を  ┆             ┆   ┆      ┆          ┆       ┆ …          │\n",
       "│ 時的変化    ┆             ┆ しらべた。  ┆             ┆   ┆      ┆          ┆       ┆            │\n",
       "│             ┆             ┆ 1. 無…      ┆             ┆   ┆      ┆          ┆       ┆            │\n",
       "└─────────────┴─────────────┴─────────────┴─────────────┴───┴──────┴──────────┴───────┴────────────┘"
      ]
     },
     "execution_count": 16,
     "metadata": {},
     "output_type": "execute_result"
    }
   ],
   "source": [
    "df_full_join.head()"
   ]
  },
  {
   "cell_type": "code",
   "execution_count": 17,
   "id": "6d665198",
   "metadata": {},
   "outputs": [],
   "source": [
    "# # save to disk\n",
    "\n",
    "df_pos_join.write_parquet('../data/outputs_similarity_matches/pos_jap.parquet')\n",
    "df_pos_join.write_csv('../data/outputs_similarity_matches/pos_jap.csv')\n",
    "matches_df.write_parquet('../data/outputs_similarity_matches/pos_jap_matches.parquet')\n",
    "matches_df.write_csv('../data/outputs_similarity_matches/pos_jap_matches.csv')\n",
    "unmatched_pos.write_parquet('../data/outputs_similarity_matches/pos_jap_unmatched.parquet')\n",
    "unmatched_pos.write_csv('../data/outputs_similarity_matches/pos_jap_unmatched.csv')\n",
    "\n",
    "df_full_join.write_parquet('../data/outputs_similarity_matches/corpus_jap.parquet')\n",
    "df_full_join.write_csv('../data/outputs_similarity_matches/corpus_jap.csv')"
   ]
  },
  {
   "cell_type": "code",
   "execution_count": 18,
   "id": "e55712f9",
   "metadata": {},
   "outputs": [
    {
     "data": {
      "text/plain": [
       "(5382, 180)"
      ]
     },
     "execution_count": 18,
     "metadata": {},
     "output_type": "execute_result"
    }
   ],
   "source": [
    "len(df_full_join), len(df_pos_join)"
   ]
  }
 ],
 "metadata": {
  "kernelspec": {
   "display_name": ".venv (3.11.3)",
   "language": "python",
   "name": "python3"
  },
  "language_info": {
   "codemirror_mode": {
    "name": "ipython",
    "version": 3
   },
   "file_extension": ".py",
   "mimetype": "text/x-python",
   "name": "python",
   "nbconvert_exporter": "python",
   "pygments_lexer": "ipython3",
   "version": "3.11.3"
  }
 },
 "nbformat": 4,
 "nbformat_minor": 5
}
